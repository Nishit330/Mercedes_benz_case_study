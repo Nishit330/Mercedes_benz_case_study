{
 "cells": [
  {
   "cell_type": "markdown",
   "metadata": {},
   "source": [
    "Importing Libraries"
   ]
  },
  {
   "cell_type": "code",
   "execution_count": 1,
   "metadata": {},
   "outputs": [],
   "source": [
    "import numpy as np\n",
    "from sklearn.preprocessing import LabelEncoder\n",
    "import xgboost as xgb\n",
    "import pandas as pd\n",
    "from sklearn.linear_model import ElasticNetCV, LassoLarsCV\n",
    "from sklearn.ensemble import GradientBoostingRegressor\n",
    "from sklearn.preprocessing import StandardScaler\n",
    "from sklearn.tree import DecisionTreeRegressor\n",
    "from sklearn.decomposition import PCA\n",
    "from sklearn.metrics import r2_score\n",
    "from sklearn.linear_model import LinearRegression\n",
    "from sklearn.svm import SVR\n",
    "from sklearn.tree import DecisionTreeRegressor\n",
    "from sklearn.linear_model import SGDRegressor\n",
    "import phik\n",
    "from category_encoders import TargetEncoder\n",
    "from sklearn import preprocessing\n",
    "from sklearn.model_selection import GridSearchCV\n",
    "import warnings\n",
    "from sklearn.ensemble import GradientBoostingRegressor\n",
    "import matplotlib.pyplot as plt\n",
    "from sklearn.model_selection import train_test_split\n",
    "warnings.filterwarnings('ignore')"
   ]
  },
  {
   "cell_type": "markdown",
   "metadata": {},
   "source": [
    "Reading train and test csv files"
   ]
  },
  {
   "cell_type": "code",
   "execution_count": 2,
   "metadata": {},
   "outputs": [],
   "source": [
    "train = pd.read_csv('train.csv')\n",
    "test = pd.read_csv('test.csv')"
   ]
  },
  {
   "cell_type": "code",
   "execution_count": 3,
   "metadata": {},
   "outputs": [],
   "source": [
    "y = train['y']"
   ]
  },
  {
   "cell_type": "code",
   "execution_count": 4,
   "metadata": {},
   "outputs": [],
   "source": [
    "##Categorical columns\n",
    "cat_columns=[]\n",
    "for i in train.columns:\n",
    "    if train[i].dtype =='O' or train[i].dtype =='float64':\n",
    "        cat_columns.append(i)"
   ]
  },
  {
   "cell_type": "code",
   "execution_count": 5,
   "metadata": {},
   "outputs": [],
   "source": [
    "##Categorical train data\n",
    "cat_train = train[cat_columns]\n",
    "##Categorical test data\n",
    "cat_columns.remove('y')\n",
    "cat_test = test[cat_columns]\n",
    "\n",
    "##Target encoding categorical features wrt 'y'\n",
    "for i in cat_columns:\n",
    "    en = TargetEncoder()\n",
    "    en.fit(train[i],train['y'])\n",
    "    cat_train[i] = en.transform(train[i])\n",
    "    cat_test[i] = en.transform(test[i])\n",
    "\n"
   ]
  },
  {
   "cell_type": "markdown",
   "metadata": {},
   "source": [
    "##### Corelation matrix using phik"
   ]
  },
  {
   "cell_type": "code",
   "execution_count": 6,
   "metadata": {},
   "outputs": [
    {
     "name": "stdout",
     "output_type": "stream",
     "text": [
      "interval columns not set, guessing: ['ID', 'y', 'X10', 'X11', 'X12', 'X13', 'X14', 'X15', 'X16', 'X17', 'X18', 'X19', 'X20', 'X21', 'X22', 'X23', 'X24', 'X26', 'X27', 'X28', 'X29', 'X30', 'X31', 'X32', 'X33', 'X34', 'X35', 'X36', 'X37', 'X38', 'X39', 'X40', 'X41', 'X42', 'X43', 'X44', 'X45', 'X46', 'X47', 'X48', 'X49', 'X50', 'X51', 'X52', 'X53', 'X54', 'X55', 'X56', 'X57', 'X58', 'X59', 'X60', 'X61', 'X62', 'X63', 'X64', 'X65', 'X66', 'X67', 'X68', 'X69', 'X70', 'X71', 'X73', 'X74', 'X75', 'X76', 'X77', 'X78', 'X79', 'X80', 'X81', 'X82', 'X83', 'X84', 'X85', 'X86', 'X87', 'X88', 'X89', 'X90', 'X91', 'X92', 'X93', 'X94', 'X95', 'X96', 'X97', 'X98', 'X99', 'X100', 'X101', 'X102', 'X103', 'X104', 'X105', 'X106', 'X107', 'X108', 'X109', 'X110', 'X111', 'X112', 'X113', 'X114', 'X115', 'X116', 'X117', 'X118', 'X119', 'X120', 'X122', 'X123', 'X124', 'X125', 'X126', 'X127', 'X128', 'X129', 'X130', 'X131', 'X132', 'X133', 'X134', 'X135', 'X136', 'X137', 'X138', 'X139', 'X140', 'X141', 'X142', 'X143', 'X144', 'X145', 'X146', 'X147', 'X148', 'X150', 'X151', 'X152', 'X153', 'X154', 'X155', 'X156', 'X157', 'X158', 'X159', 'X160', 'X161', 'X162', 'X163', 'X164', 'X165', 'X166', 'X167', 'X168', 'X169', 'X170', 'X171', 'X172', 'X173', 'X174', 'X175', 'X176', 'X177', 'X178', 'X179', 'X180', 'X181', 'X182', 'X183', 'X184', 'X185', 'X186', 'X187', 'X189', 'X190', 'X191', 'X192', 'X194', 'X195', 'X196', 'X197', 'X198', 'X199', 'X200', 'X201', 'X202', 'X203', 'X204', 'X205', 'X206', 'X207', 'X208', 'X209', 'X210', 'X211', 'X212', 'X213', 'X214', 'X215', 'X216', 'X217', 'X218', 'X219', 'X220', 'X221', 'X222', 'X223', 'X224', 'X225', 'X226', 'X227', 'X228', 'X229', 'X230', 'X231', 'X232', 'X233', 'X234', 'X235', 'X236', 'X237', 'X238', 'X239', 'X240', 'X241', 'X242', 'X243', 'X244', 'X245', 'X246', 'X247', 'X248', 'X249', 'X250', 'X251', 'X252', 'X253', 'X254', 'X255', 'X256', 'X257', 'X258', 'X259', 'X260', 'X261', 'X262', 'X263', 'X264', 'X265', 'X266', 'X267', 'X268', 'X269', 'X270', 'X271', 'X272', 'X273', 'X274', 'X275', 'X276', 'X277', 'X278', 'X279', 'X280', 'X281', 'X282', 'X283', 'X284', 'X285', 'X286', 'X287', 'X288', 'X289', 'X290', 'X291', 'X292', 'X293', 'X294', 'X295', 'X296', 'X297', 'X298', 'X299', 'X300', 'X301', 'X302', 'X304', 'X305', 'X306', 'X307', 'X308', 'X309', 'X310', 'X311', 'X312', 'X313', 'X314', 'X315', 'X316', 'X317', 'X318', 'X319', 'X320', 'X321', 'X322', 'X323', 'X324', 'X325', 'X326', 'X327', 'X328', 'X329', 'X330', 'X331', 'X332', 'X333', 'X334', 'X335', 'X336', 'X337', 'X338', 'X339', 'X340', 'X341', 'X342', 'X343', 'X344', 'X345', 'X346', 'X347', 'X348', 'X349', 'X350', 'X351', 'X352', 'X353', 'X354', 'X355', 'X356', 'X357', 'X358', 'X359', 'X360', 'X361', 'X362', 'X363', 'X364', 'X365', 'X366', 'X367', 'X368', 'X369', 'X370', 'X371', 'X372', 'X373', 'X374', 'X375', 'X376', 'X377', 'X378', 'X379', 'X380', 'X382', 'X383', 'X384', 'X385']\n"
     ]
    }
   ],
   "source": [
    "corelation_mat = train.phik_matrix()"
   ]
  },
  {
   "cell_type": "code",
   "execution_count": 7,
   "metadata": {},
   "outputs": [],
   "source": [
    "##Binary data\n",
    "binary_columns=[]\n",
    "for i in train.columns:\n",
    "    if train[i].dtype =='int64':\n",
    "        binary_columns.append(i)\n",
    "binary_train = train[binary_columns]\n",
    "binary_test = test[binary_columns]\n",
    "binary_train = pd.concat((train['y'],binary_train),axis=1)"
   ]
  },
  {
   "cell_type": "markdown",
   "metadata": {},
   "source": [
    "Top 275 corelated features wrt to 'y'"
   ]
  },
  {
   "cell_type": "code",
   "execution_count": 8,
   "metadata": {},
   "outputs": [],
   "source": [
    "top_275_features = corelation_mat['y'].sort_values(ascending=False)[0:275]"
   ]
  },
  {
   "cell_type": "code",
   "execution_count": 9,
   "metadata": {},
   "outputs": [],
   "source": [
    "top_275_features=top_275_features.drop('y')"
   ]
  },
  {
   "cell_type": "markdown",
   "metadata": {},
   "source": [
    "Data with top 275 features"
   ]
  },
  {
   "cell_type": "code",
   "execution_count": 10,
   "metadata": {},
   "outputs": [],
   "source": [
    "X1_train = cat_train.drop('y',axis=1)\n",
    "X1_train = pd.concat([train['y'],X1_train],axis=1)\n",
    "X1_train = pd.concat((cat_train,binary_train),axis=1)\n",
    "X1_test = pd.concat((cat_test,binary_test),axis=1)"
   ]
  },
  {
   "cell_type": "code",
   "execution_count": 11,
   "metadata": {},
   "outputs": [],
   "source": [
    "X1_train = X1_train[top_275_features.index]\n",
    "X1_test = X1_test[top_275_features.index]"
   ]
  },
  {
   "cell_type": "code",
   "execution_count": 12,
   "metadata": {},
   "outputs": [],
   "source": [
    "y1 = train['y']"
   ]
  },
  {
   "cell_type": "markdown",
   "metadata": {},
   "source": [
    "Full data"
   ]
  },
  {
   "cell_type": "code",
   "execution_count": 13,
   "metadata": {},
   "outputs": [],
   "source": [
    "# X2_train = cat_train.drop('y',axis=1)\n",
    "# X2_train = pd.concat([train['y'],X2_train],axis=1)\n",
    "X2_train = pd.concat((cat_train,binary_train),axis=1)\n",
    "X2_train = X2_train.drop('y',axis=1)\n",
    "X2_test = pd.concat((cat_test,binary_test),axis=1)"
   ]
  },
  {
   "cell_type": "code",
   "execution_count": 14,
   "metadata": {},
   "outputs": [],
   "source": [
    "X1_train, X1_valid, y1_train, y1_valid = train_test_split(X1_train, y, test_size=0.2)\n",
    "X2_train, X2_valid, y2_train, y2_valid = train_test_split(X2_train, y, test_size=0.2)"
   ]
  },
  {
   "cell_type": "markdown",
   "metadata": {},
   "source": [
    "#### Linear regression"
   ]
  },
  {
   "cell_type": "markdown",
   "metadata": {},
   "source": [
    "###### Linear regression on selected data"
   ]
  },
  {
   "cell_type": "code",
   "execution_count": 15,
   "metadata": {},
   "outputs": [
    {
     "name": "stdout",
     "output_type": "stream",
     "text": [
      "R2 score for Linear Regression on train data is : 0.6381246684734339\n"
     ]
    }
   ],
   "source": [
    "lr = LinearRegression()\n",
    "lr.fit(X1_train,y1_train)\n",
    "print('R2 score for Linear Regression on train data is :',r2_score(y1_train,lr.predict(X1_train)))"
   ]
  },
  {
   "cell_type": "code",
   "execution_count": 16,
   "metadata": {},
   "outputs": [
    {
     "name": "stdout",
     "output_type": "stream",
     "text": [
      "R2 score for Linear Regression on valid data is : -78243339657904.05\n"
     ]
    }
   ],
   "source": [
    "print('R2 score for Linear Regression on valid data is :',r2_score(y1_valid,lr.predict(X1_valid)))"
   ]
  },
  {
   "cell_type": "markdown",
   "metadata": {},
   "source": [
    "###### Linear regression on full data"
   ]
  },
  {
   "cell_type": "code",
   "execution_count": 198,
   "metadata": {},
   "outputs": [
    {
     "name": "stdout",
     "output_type": "stream",
     "text": [
      "R2 score for Linear Regression is for full data: 0.6531049594823184\n"
     ]
    }
   ],
   "source": [
    "lr = LinearRegression()\n",
    "lr.fit(X2_train,y2_train)\n",
    "print('R2 score for Linear Regression is for full data:',r2_score(y2_train,lr.predict(X2_train)))"
   ]
  },
  {
   "cell_type": "code",
   "execution_count": 199,
   "metadata": {},
   "outputs": [
    {
     "name": "stdout",
     "output_type": "stream",
     "text": [
      "R2 score for Linear Regression is for full data: 0.4226598930192995\n"
     ]
    }
   ],
   "source": [
    "print('R2 score for Linear Regression is for full data:',r2_score(y2_valid,lr.predict(X2_valid)))"
   ]
  },
  {
   "cell_type": "markdown",
   "metadata": {},
   "source": [
    "###### SVR on Selected data"
   ]
  },
  {
   "cell_type": "code",
   "execution_count": 206,
   "metadata": {},
   "outputs": [
    {
     "data": {
      "text/plain": [
       "SVR()"
      ]
     },
     "execution_count": 206,
     "metadata": {},
     "output_type": "execute_result"
    }
   ],
   "source": [
    "svm = SVR()\n",
    "svm.fit(X1_train,y1_train)"
   ]
  },
  {
   "cell_type": "code",
   "execution_count": 207,
   "metadata": {},
   "outputs": [
    {
     "name": "stdout",
     "output_type": "stream",
     "text": [
      "R2 score for SVM on Seleted data is : -0.010166496148364734\n"
     ]
    }
   ],
   "source": [
    "print('R2 score for SVM on Seleted data is :',r2_score(y1_train,svm.predict(X1_train)))"
   ]
  },
  {
   "cell_type": "markdown",
   "metadata": {},
   "source": [
    "###### SVR on Full data"
   ]
  },
  {
   "cell_type": "code",
   "execution_count": 208,
   "metadata": {},
   "outputs": [
    {
     "name": "stdout",
     "output_type": "stream",
     "text": [
      "R2 score for SVM on full data is : -0.008214247008105469\n"
     ]
    }
   ],
   "source": [
    "svm = SVR()\n",
    "svm.fit(X2_train,y2_train)\n",
    "print('R2 score for SVM on full data is :',r2_score(y2_train,svm.predict(X2_train)))"
   ]
  },
  {
   "cell_type": "markdown",
   "metadata": {},
   "source": [
    "###### Decision Tree on Selected data"
   ]
  },
  {
   "cell_type": "code",
   "execution_count": 209,
   "metadata": {},
   "outputs": [],
   "source": [
    "tree = DecisionTreeRegressor()\n",
    "param = {'max_depth':[1,3,5,7,9,10]}\n",
    "clf_dt = GridSearchCV(tree,param_grid=param,cv=5,scoring='r2',return_train_score=True)"
   ]
  },
  {
   "cell_type": "code",
   "execution_count": 210,
   "metadata": {},
   "outputs": [
    {
     "data": {
      "text/plain": [
       "GridSearchCV(cv=5, estimator=DecisionTreeRegressor(),\n",
       "             param_grid={'max_depth': [1, 3, 5, 7, 9, 10]},\n",
       "             return_train_score=True, scoring='r2')"
      ]
     },
     "execution_count": 210,
     "metadata": {},
     "output_type": "execute_result"
    }
   ],
   "source": [
    "clf_dt.fit(X1_train,y1_train)"
   ]
  },
  {
   "cell_type": "code",
   "execution_count": 211,
   "metadata": {},
   "outputs": [
    {
     "data": {
      "text/plain": [
       "{'max_depth': 3}"
      ]
     },
     "execution_count": 211,
     "metadata": {},
     "output_type": "execute_result"
    }
   ],
   "source": [
    "clf_dt.best_params_"
   ]
  },
  {
   "cell_type": "code",
   "execution_count": 212,
   "metadata": {},
   "outputs": [
    {
     "name": "stdout",
     "output_type": "stream",
     "text": [
      "R2 score for Decision Tree on selected data is : 0.5737349101918459\n"
     ]
    }
   ],
   "source": [
    "best_dt= DecisionTreeRegressor(max_depth=3)\n",
    "best_dt.fit(X1_train,y1_train)\n",
    "print('R2 score for Decision Tree on selected data is :',r2_score(y1_train,best_dt.predict(X1_train)))"
   ]
  },
  {
   "cell_type": "code",
   "execution_count": 213,
   "metadata": {},
   "outputs": [
    {
     "name": "stdout",
     "output_type": "stream",
     "text": [
      "R2 score for Decision tree in full data is : 0.5661556676731464\n"
     ]
    }
   ],
   "source": [
    "print('R2 score for Decision tree in full data is :',r2_score(y1_valid,best_dt.predict(X1_valid)))"
   ]
  },
  {
   "cell_type": "markdown",
   "metadata": {},
   "source": [
    "###### Decision tree on Full data"
   ]
  },
  {
   "cell_type": "code",
   "execution_count": 35,
   "metadata": {},
   "outputs": [
    {
     "data": {
      "text/plain": [
       "GridSearchCV(cv=5, estimator=DecisionTreeRegressor(),\n",
       "             param_grid={'max_depth': [1, 3, 5, 7, 9, 10]},\n",
       "             return_train_score=True, scoring='r2')"
      ]
     },
     "execution_count": 35,
     "metadata": {},
     "output_type": "execute_result"
    }
   ],
   "source": [
    "tree = DecisionTreeRegressor()\n",
    "param = {'max_depth':[1,3,5,7,9,10]}\n",
    "clf_dt = GridSearchCV(tree,param_grid=param,cv=5,scoring='r2',return_train_score=True)\n",
    "clf_dt.fit(X2_train,y2_train)"
   ]
  },
  {
   "cell_type": "code",
   "execution_count": 36,
   "metadata": {},
   "outputs": [
    {
     "data": {
      "text/plain": [
       "{'max_depth': 3}"
      ]
     },
     "execution_count": 36,
     "metadata": {},
     "output_type": "execute_result"
    }
   ],
   "source": [
    "clf_dt.best_params_"
   ]
  },
  {
   "cell_type": "code",
   "execution_count": 38,
   "metadata": {},
   "outputs": [
    {
     "name": "stdout",
     "output_type": "stream",
     "text": [
      "R2 score for Decision Tree on train data is : 0.5752205300708422\n"
     ]
    }
   ],
   "source": [
    "best_dt= DecisionTreeRegressor(max_depth=3)\n",
    "best_dt.fit(X2_train,y2_train)\n",
    "print('R2 score for Decision Tree on train data is :',r2_score(y2_train,best_dt.predict(X2_train)))"
   ]
  },
  {
   "cell_type": "code",
   "execution_count": 39,
   "metadata": {},
   "outputs": [
    {
     "name": "stdout",
     "output_type": "stream",
     "text": [
      "R2 score for Decision tree on valid data is : 0.5654699898167967\n"
     ]
    }
   ],
   "source": [
    "print('R2 score for Decision tree on valid data is :',r2_score(y2_valid,best_dt.predict(X2_valid)))"
   ]
  },
  {
   "cell_type": "markdown",
   "metadata": {},
   "source": [
    "###### XGBoost on Selected data"
   ]
  },
  {
   "cell_type": "code",
   "execution_count": 20,
   "metadata": {
    "scrolled": false
   },
   "outputs": [
    {
     "name": "stdout",
     "output_type": "stream",
     "text": [
      "[12:14:42] WARNING: C:/Users/Administrator/workspace/xgboost-win64_release_1.2.0/src/objective/regression_obj.cu:174: reg:linear is now deprecated in favor of reg:squarederror.\n",
      "[0]\ttrain-rmse:98.91097\tvalid-rmse:99.18573\ttrain-r2:-60.62993\tvalid-r2:-57.34222\n",
      "Multiple eval metrics have been passed: 'valid-r2' will be used for early stopping.\n",
      "\n",
      "Will train until valid-r2 hasn't improved in 50 rounds.\n",
      "[10]\ttrain-rmse:80.97697\tvalid-rmse:81.24595\ttrain-r2:-40.30719\tvalid-r2:-38.14605\n",
      "[20]\ttrain-rmse:66.35138\tvalid-rmse:66.61826\ttrain-r2:-26.73337\tvalid-r2:-25.31910\n",
      "[30]\ttrain-rmse:54.43646\tvalid-rmse:54.70403\ttrain-r2:-17.66734\tvalid-r2:-16.74692\n",
      "[40]\ttrain-rmse:44.74444\tvalid-rmse:45.01718\ttrain-r2:-11.61191\tvalid-r2:-11.01824\n",
      "[50]\ttrain-rmse:36.87736\tvalid-rmse:37.16115\ttrain-r2:-7.56687\tvalid-r2:-7.18960\n",
      "[60]\ttrain-rmse:30.50999\tvalid-rmse:30.81019\ttrain-r2:-4.86391\tvalid-r2:-4.62955\n",
      "[70]\ttrain-rmse:25.37878\tvalid-rmse:25.70423\ttrain-r2:-3.05736\tvalid-r2:-2.91826\n",
      "[80]\ttrain-rmse:21.26670\tvalid-rmse:21.62349\ttrain-r2:-1.84907\tvalid-r2:-1.77291\n",
      "[90]\ttrain-rmse:17.99773\tvalid-rmse:18.39205\ttrain-r2:-1.04051\tvalid-r2:-1.00606\n",
      "[100]\ttrain-rmse:15.42830\tvalid-rmse:15.85850\ttrain-r2:-0.49947\tvalid-r2:-0.49145\n",
      "[110]\ttrain-rmse:13.43518\tvalid-rmse:13.90722\ttrain-r2:-0.13708\tvalid-r2:-0.14700\n",
      "[120]\ttrain-rmse:11.89381\tvalid-rmse:12.43416\ttrain-r2:0.10886\tvalid-r2:0.08311\n",
      "[130]\ttrain-rmse:10.73868\tvalid-rmse:11.33648\ttrain-r2:0.27355\tvalid-r2:0.23785\n",
      "[140]\ttrain-rmse:9.87661\tvalid-rmse:10.54114\ttrain-r2:0.38550\tvalid-r2:0.34104\n",
      "[150]\ttrain-rmse:9.23776\tvalid-rmse:9.96668\ttrain-r2:0.46243\tvalid-r2:0.41091\n",
      "[160]\ttrain-rmse:8.77276\tvalid-rmse:9.57101\ttrain-r2:0.51519\tvalid-r2:0.45675\n",
      "[170]\ttrain-rmse:8.44914\tvalid-rmse:9.29233\ttrain-r2:0.55029\tvalid-r2:0.48792\n",
      "[180]\ttrain-rmse:8.22096\tvalid-rmse:9.09642\ttrain-r2:0.57426\tvalid-r2:0.50929\n",
      "[190]\ttrain-rmse:8.05613\tvalid-rmse:8.96113\ttrain-r2:0.59116\tvalid-r2:0.52378\n",
      "[200]\ttrain-rmse:7.93675\tvalid-rmse:8.86949\ttrain-r2:0.60318\tvalid-r2:0.53347\n",
      "[210]\ttrain-rmse:7.85025\tvalid-rmse:8.80518\ttrain-r2:0.61179\tvalid-r2:0.54021\n",
      "[220]\ttrain-rmse:7.77168\tvalid-rmse:8.76255\ttrain-r2:0.61952\tvalid-r2:0.54465\n",
      "[230]\ttrain-rmse:7.71118\tvalid-rmse:8.73128\ttrain-r2:0.62542\tvalid-r2:0.54789\n",
      "[240]\ttrain-rmse:7.66015\tvalid-rmse:8.71414\ttrain-r2:0.63036\tvalid-r2:0.54967\n",
      "[250]\ttrain-rmse:7.62570\tvalid-rmse:8.69774\ttrain-r2:0.63368\tvalid-r2:0.55136\n",
      "[260]\ttrain-rmse:7.58869\tvalid-rmse:8.68999\ttrain-r2:0.63723\tvalid-r2:0.55216\n",
      "[270]\ttrain-rmse:7.55366\tvalid-rmse:8.68413\ttrain-r2:0.64057\tvalid-r2:0.55276\n",
      "[280]\ttrain-rmse:7.52874\tvalid-rmse:8.67680\ttrain-r2:0.64294\tvalid-r2:0.55352\n",
      "[290]\ttrain-rmse:7.49190\tvalid-rmse:8.67251\ttrain-r2:0.64642\tvalid-r2:0.55396\n",
      "[300]\ttrain-rmse:7.45465\tvalid-rmse:8.67432\ttrain-r2:0.64993\tvalid-r2:0.55377\n",
      "[310]\ttrain-rmse:7.41977\tvalid-rmse:8.67759\ttrain-r2:0.65320\tvalid-r2:0.55344\n",
      "[320]\ttrain-rmse:7.39610\tvalid-rmse:8.67469\ttrain-r2:0.65541\tvalid-r2:0.55373\n",
      "[330]\ttrain-rmse:7.36431\tvalid-rmse:8.67911\ttrain-r2:0.65836\tvalid-r2:0.55328\n",
      "[340]\ttrain-rmse:7.33817\tvalid-rmse:8.68203\ttrain-r2:0.66078\tvalid-r2:0.55298\n",
      "Stopping. Best iteration:\n",
      "[291]\ttrain-rmse:7.48848\tvalid-rmse:8.67034\ttrain-r2:0.64674\tvalid-r2:0.55418\n",
      "\n",
      "[12:14:45] WARNING: C:/Users/Administrator/workspace/xgboost-win64_release_1.2.0/src/objective/regression_obj.cu:174: reg:linear is now deprecated in favor of reg:squarederror.\n"
     ]
    }
   ],
   "source": [
    "##ref:https://www.kaggle.com/anokas/mercedes-eda-xgboost-starter-0-55\n",
    "x_train, x_valid, y_train, y_valid = train_test_split(X1_train, y, test_size=0.2)\n",
    "d_train = xgb.DMatrix(x_train, label=y_train)\n",
    "d_valid = xgb.DMatrix(x_valid, label=y_valid)\n",
    "d_test = xgb.DMatrix(X1_test)\n",
    "\n",
    "params = {\n",
    "    'objective':'reg:linear',\n",
    "    'eta':0.02,\n",
    "    'max_depth':4\n",
    "}\n",
    "\n",
    "def xgb_r2_score(preds, dtrain):\n",
    "    labels = dtrain.get_label()\n",
    "    return 'r2', r2_score(labels, preds)\n",
    "\n",
    "watchlist = [(d_train, 'train'), (d_valid, 'valid')]\n",
    "\n",
    "clf = xgb.train(params, d_train, 1000, watchlist, early_stopping_rounds=50, feval=xgb_r2_score, maximize=True, verbose_eval=10)"
   ]
  },
  {
   "cell_type": "code",
   "execution_count": 40,
   "metadata": {},
   "outputs": [
    {
     "name": "stdout",
     "output_type": "stream",
     "text": [
      "R2 score for train data using XGboost is 0.64 and valid data is 0.554\n"
     ]
    }
   ],
   "source": [
    "print('R2 score for train data using XGboost is 0.64 and valid data is 0.554')"
   ]
  },
  {
   "cell_type": "code",
   "execution_count": 75,
   "metadata": {},
   "outputs": [],
   "source": [
    "pred = clf.predict(d_test)\n",
    "prediction = pd.DataFrame()\n",
    "prediction['ID'] = test['ID']\n",
    "prediction['y'] = pred\n"
   ]
  },
  {
   "cell_type": "code",
   "execution_count": 76,
   "metadata": {},
   "outputs": [],
   "source": [
    "prediction.to_csv('predictions.csv',index=False)"
   ]
  },
  {
   "cell_type": "markdown",
   "metadata": {},
   "source": [
    "###### Xg boost on full data"
   ]
  },
  {
   "cell_type": "code",
   "execution_count": 24,
   "metadata": {},
   "outputs": [
    {
     "name": "stdout",
     "output_type": "stream",
     "text": [
      "[12:47:19] WARNING: C:/Users/Administrator/workspace/xgboost-win64_release_1.2.0/src/objective/regression_obj.cu:174: reg:linear is now deprecated in favor of reg:squarederror.\n",
      "[0]\ttrain-rmse:98.97635\tvalid-rmse:98.92542\ttrain-r2:-61.51933\tvalid-r2:-54.33728\n",
      "Multiple eval metrics have been passed: 'valid-r2' will be used for early stopping.\n",
      "\n",
      "Will train until valid-r2 hasn't improved in 50 rounds.\n",
      "[10]\ttrain-rmse:81.03057\tvalid-rmse:81.04041\ttrain-r2:-40.90340\tvalid-r2:-36.13686\n",
      "[20]\ttrain-rmse:66.39546\tvalid-rmse:66.45718\ttrain-r2:-27.13378\tvalid-r2:-23.97387\n",
      "[30]\ttrain-rmse:54.47268\tvalid-rmse:54.57956\ttrain-r2:-17.93690\tvalid-r2:-15.84465\n",
      "[40]\ttrain-rmse:44.77464\tvalid-rmse:44.92322\ttrain-r2:-11.79427\tvalid-r2:-10.41152\n",
      "[50]\ttrain-rmse:36.90358\tvalid-rmse:37.09038\ttrain-r2:-7.69137\tvalid-r2:-6.77901\n",
      "[60]\ttrain-rmse:30.53471\tvalid-rmse:30.75930\ttrain-r2:-4.95030\tvalid-r2:-4.35001\n",
      "[70]\ttrain-rmse:25.40279\tvalid-rmse:25.66539\ttrain-r2:-3.11827\tvalid-r2:-2.72476\n",
      "[80]\ttrain-rmse:21.29255\tvalid-rmse:21.58831\ttrain-r2:-1.89339\tvalid-r2:-1.63535\n",
      "[90]\ttrain-rmse:18.02746\tvalid-rmse:18.35923\ttrain-r2:-1.07406\tvalid-r2:-0.90595\n",
      "[100]\ttrain-rmse:15.45811\tvalid-rmse:15.83280\ttrain-r2:-0.52498\tvalid-r2:-0.41748\n",
      "[110]\ttrain-rmse:13.45692\tvalid-rmse:13.87848\ttrain-r2:-0.15569\tvalid-r2:-0.08915\n",
      "[120]\ttrain-rmse:11.92686\tvalid-rmse:12.38699\ttrain-r2:0.09217\tvalid-r2:0.13237\n",
      "[130]\ttrain-rmse:10.77101\tvalid-rmse:11.27595\ttrain-r2:0.25960\tvalid-r2:0.28103\n",
      "[140]\ttrain-rmse:9.92534\tvalid-rmse:10.45769\ttrain-r2:0.37130\tvalid-r2:0.38159\n",
      "[150]\ttrain-rmse:9.30512\tvalid-rmse:9.86290\ttrain-r2:0.44742\tvalid-r2:0.44994\n",
      "[160]\ttrain-rmse:8.85227\tvalid-rmse:9.43431\ttrain-r2:0.49990\tvalid-r2:0.49671\n",
      "[170]\ttrain-rmse:8.52633\tvalid-rmse:9.13649\ttrain-r2:0.53604\tvalid-r2:0.52798\n",
      "[180]\ttrain-rmse:8.29391\tvalid-rmse:8.93329\ttrain-r2:0.56099\tvalid-r2:0.54874\n",
      "[190]\ttrain-rmse:8.13556\tvalid-rmse:8.78897\ttrain-r2:0.57760\tvalid-r2:0.56320\n",
      "[200]\ttrain-rmse:8.02563\tvalid-rmse:8.69200\ttrain-r2:0.58893\tvalid-r2:0.57279\n",
      "[210]\ttrain-rmse:7.94559\tvalid-rmse:8.62160\ttrain-r2:0.59709\tvalid-r2:0.57968\n",
      "[220]\ttrain-rmse:7.88647\tvalid-rmse:8.57247\ttrain-r2:0.60307\tvalid-r2:0.58446\n",
      "[230]\ttrain-rmse:7.83987\tvalid-rmse:8.53852\ttrain-r2:0.60774\tvalid-r2:0.58774\n",
      "[240]\ttrain-rmse:7.80320\tvalid-rmse:8.51622\ttrain-r2:0.61140\tvalid-r2:0.58989\n",
      "[250]\ttrain-rmse:7.77495\tvalid-rmse:8.49662\ttrain-r2:0.61421\tvalid-r2:0.59178\n",
      "[260]\ttrain-rmse:7.75403\tvalid-rmse:8.48296\ttrain-r2:0.61629\tvalid-r2:0.59309\n",
      "[270]\ttrain-rmse:7.73194\tvalid-rmse:8.47468\ttrain-r2:0.61847\tvalid-r2:0.59389\n",
      "[280]\ttrain-rmse:7.71657\tvalid-rmse:8.47043\ttrain-r2:0.61999\tvalid-r2:0.59429\n",
      "[290]\ttrain-rmse:7.70348\tvalid-rmse:8.46670\ttrain-r2:0.62127\tvalid-r2:0.59465\n",
      "[300]\ttrain-rmse:7.69050\tvalid-rmse:8.46292\ttrain-r2:0.62255\tvalid-r2:0.59501\n",
      "[310]\ttrain-rmse:7.67770\tvalid-rmse:8.46052\ttrain-r2:0.62380\tvalid-r2:0.59524\n",
      "[320]\ttrain-rmse:7.65794\tvalid-rmse:8.45669\ttrain-r2:0.62574\tvalid-r2:0.59561\n",
      "[330]\ttrain-rmse:7.64117\tvalid-rmse:8.45440\ttrain-r2:0.62738\tvalid-r2:0.59583\n",
      "[340]\ttrain-rmse:7.63082\tvalid-rmse:8.45575\ttrain-r2:0.62838\tvalid-r2:0.59570\n",
      "[350]\ttrain-rmse:7.61930\tvalid-rmse:8.45522\ttrain-r2:0.62950\tvalid-r2:0.59575\n",
      "[360]\ttrain-rmse:7.60415\tvalid-rmse:8.45255\ttrain-r2:0.63098\tvalid-r2:0.59600\n",
      "[370]\ttrain-rmse:7.59206\tvalid-rmse:8.45376\ttrain-r2:0.63215\tvalid-r2:0.59589\n",
      "[380]\ttrain-rmse:7.58185\tvalid-rmse:8.45091\ttrain-r2:0.63314\tvalid-r2:0.59616\n",
      "[390]\ttrain-rmse:7.56962\tvalid-rmse:8.45172\ttrain-r2:0.63432\tvalid-r2:0.59608\n",
      "[400]\ttrain-rmse:7.55814\tvalid-rmse:8.45235\ttrain-r2:0.63543\tvalid-r2:0.59602\n",
      "[410]\ttrain-rmse:7.54533\tvalid-rmse:8.45394\ttrain-r2:0.63667\tvalid-r2:0.59587\n",
      "[420]\ttrain-rmse:7.53715\tvalid-rmse:8.45491\ttrain-r2:0.63745\tvalid-r2:0.59578\n",
      "[430]\ttrain-rmse:7.52640\tvalid-rmse:8.45497\ttrain-r2:0.63848\tvalid-r2:0.59577\n",
      "Stopping. Best iteration:\n",
      "[380]\ttrain-rmse:7.58185\tvalid-rmse:8.45091\ttrain-r2:0.63314\tvalid-r2:0.59616\n",
      "\n",
      "[12:47:23] WARNING: C:/Users/Administrator/workspace/xgboost-win64_release_1.2.0/src/objective/regression_obj.cu:174: reg:linear is now deprecated in favor of reg:squarederror.\n"
     ]
    }
   ],
   "source": [
    "x_train, x_valid, y_train, y_valid = train_test_split(X2_train, y, test_size=0.2)\n",
    "d_train = xgb.DMatrix(x_train, label=y_train)\n",
    "d_valid = xgb.DMatrix(x_valid, label=y_valid)\n",
    "d_test = xgb.DMatrix(X2_test)\n",
    "\n",
    "params = {\n",
    "    'objective':'reg:linear',\n",
    "    'eta':0.02,\n",
    "    'max_depth':4\n",
    "}\n",
    "\n",
    "def xgb_r2_score(preds, dtrain):\n",
    "    labels = dtrain.get_label()\n",
    "    return 'r2', r2_score(labels, preds)\n",
    "\n",
    "watchlist = [(d_train, 'train'), (d_valid, 'valid')]\n",
    "\n",
    "clf = xgb.train(params, d_train, 1000, watchlist, early_stopping_rounds=50, feval=xgb_r2_score, maximize=True, verbose_eval=10)"
   ]
  },
  {
   "cell_type": "code",
   "execution_count": 144,
   "metadata": {},
   "outputs": [
    {
     "name": "stdout",
     "output_type": "stream",
     "text": [
      "R2 score for train data using XGboost is 0.63 and valid data is 0.59\n"
     ]
    }
   ],
   "source": [
    "print('R2 score for train data using XGboost is 0.63 and valid data is 0.59')"
   ]
  },
  {
   "cell_type": "markdown",
   "metadata": {},
   "source": [
    "#### Considering data with y values less than 160"
   ]
  },
  {
   "cell_type": "code",
   "execution_count": 41,
   "metadata": {},
   "outputs": [],
   "source": [
    "train = pd.read_csv('train.csv')\n",
    "test = pd.read_csv('test.csv')"
   ]
  },
  {
   "cell_type": "code",
   "execution_count": 42,
   "metadata": {},
   "outputs": [],
   "source": [
    "train = train[train['y']<160]"
   ]
  },
  {
   "cell_type": "code",
   "execution_count": 43,
   "metadata": {},
   "outputs": [],
   "source": [
    "##Categorical features\n",
    "cat_columns=[]\n",
    "for i in train.columns:\n",
    "    if train[i].dtype =='O' or train[i].dtype =='float64':\n",
    "        cat_columns.append(i)"
   ]
  },
  {
   "cell_type": "code",
   "execution_count": 44,
   "metadata": {},
   "outputs": [
    {
     "name": "stdout",
     "output_type": "stream",
     "text": [
      "interval columns not set, guessing: ['ID', 'y', 'X10', 'X11', 'X12', 'X13', 'X14', 'X15', 'X16', 'X17', 'X18', 'X19', 'X20', 'X21', 'X22', 'X23', 'X24', 'X26', 'X27', 'X28', 'X29', 'X30', 'X31', 'X32', 'X33', 'X34', 'X35', 'X36', 'X37', 'X38', 'X39', 'X40', 'X41', 'X42', 'X43', 'X44', 'X45', 'X46', 'X47', 'X48', 'X49', 'X50', 'X51', 'X52', 'X53', 'X54', 'X55', 'X56', 'X57', 'X58', 'X59', 'X60', 'X61', 'X62', 'X63', 'X64', 'X65', 'X66', 'X67', 'X68', 'X69', 'X70', 'X71', 'X73', 'X74', 'X75', 'X76', 'X77', 'X78', 'X79', 'X80', 'X81', 'X82', 'X83', 'X84', 'X85', 'X86', 'X87', 'X88', 'X89', 'X90', 'X91', 'X92', 'X93', 'X94', 'X95', 'X96', 'X97', 'X98', 'X99', 'X100', 'X101', 'X102', 'X103', 'X104', 'X105', 'X106', 'X107', 'X108', 'X109', 'X110', 'X111', 'X112', 'X113', 'X114', 'X115', 'X116', 'X117', 'X118', 'X119', 'X120', 'X122', 'X123', 'X124', 'X125', 'X126', 'X127', 'X128', 'X129', 'X130', 'X131', 'X132', 'X133', 'X134', 'X135', 'X136', 'X137', 'X138', 'X139', 'X140', 'X141', 'X142', 'X143', 'X144', 'X145', 'X146', 'X147', 'X148', 'X150', 'X151', 'X152', 'X153', 'X154', 'X155', 'X156', 'X157', 'X158', 'X159', 'X160', 'X161', 'X162', 'X163', 'X164', 'X165', 'X166', 'X167', 'X168', 'X169', 'X170', 'X171', 'X172', 'X173', 'X174', 'X175', 'X176', 'X177', 'X178', 'X179', 'X180', 'X181', 'X182', 'X183', 'X184', 'X185', 'X186', 'X187', 'X189', 'X190', 'X191', 'X192', 'X194', 'X195', 'X196', 'X197', 'X198', 'X199', 'X200', 'X201', 'X202', 'X203', 'X204', 'X205', 'X206', 'X207', 'X208', 'X209', 'X210', 'X211', 'X212', 'X213', 'X214', 'X215', 'X216', 'X217', 'X218', 'X219', 'X220', 'X221', 'X222', 'X223', 'X224', 'X225', 'X226', 'X227', 'X228', 'X229', 'X230', 'X231', 'X232', 'X233', 'X234', 'X235', 'X236', 'X237', 'X238', 'X239', 'X240', 'X241', 'X242', 'X243', 'X244', 'X245', 'X246', 'X247', 'X248', 'X249', 'X250', 'X251', 'X252', 'X253', 'X254', 'X255', 'X256', 'X257', 'X258', 'X259', 'X260', 'X261', 'X262', 'X263', 'X264', 'X265', 'X266', 'X267', 'X268', 'X269', 'X270', 'X271', 'X272', 'X273', 'X274', 'X275', 'X276', 'X277', 'X278', 'X279', 'X280', 'X281', 'X282', 'X283', 'X284', 'X285', 'X286', 'X287', 'X288', 'X289', 'X290', 'X291', 'X292', 'X293', 'X294', 'X295', 'X296', 'X297', 'X298', 'X299', 'X300', 'X301', 'X302', 'X304', 'X305', 'X306', 'X307', 'X308', 'X309', 'X310', 'X311', 'X312', 'X313', 'X314', 'X315', 'X316', 'X317', 'X318', 'X319', 'X320', 'X321', 'X322', 'X323', 'X324', 'X325', 'X326', 'X327', 'X328', 'X329', 'X330', 'X331', 'X332', 'X333', 'X334', 'X335', 'X336', 'X337', 'X338', 'X339', 'X340', 'X341', 'X342', 'X343', 'X344', 'X345', 'X346', 'X347', 'X348', 'X349', 'X350', 'X351', 'X352', 'X353', 'X354', 'X355', 'X356', 'X357', 'X358', 'X359', 'X360', 'X361', 'X362', 'X363', 'X364', 'X365', 'X366', 'X367', 'X368', 'X369', 'X370', 'X371', 'X372', 'X373', 'X374', 'X375', 'X376', 'X377', 'X378', 'X379', 'X380', 'X382', 'X383', 'X384', 'X385']\n"
     ]
    }
   ],
   "source": [
    "##Categorical train data\n",
    "cat_train = train[cat_columns]\n",
    "##Categorical test data\n",
    "cat_columns.remove('y')\n",
    "cat_test = test[cat_columns]\n",
    "\n",
    "##Target encoding categorical features\n",
    "for i in cat_columns:\n",
    "    en = TargetEncoder()\n",
    "    en.fit(train[i],train['y'])\n",
    "    cat_train[i] = en.transform(train[i])\n",
    "    cat_test[i] = en.transform(test[i])\n",
    "\n",
    "corelation_mat = train.phik_matrix()"
   ]
  },
  {
   "cell_type": "code",
   "execution_count": 45,
   "metadata": {},
   "outputs": [],
   "source": [
    "####Binary data\n",
    "binary_columns=[]\n",
    "for i in train.columns:\n",
    "    if train[i].dtype =='int64':\n",
    "        binary_columns.append(i)\n",
    "binary_train = train[binary_columns]\n",
    "binary_test = test[binary_columns]\n",
    "binary_train = pd.concat((train['y'],binary_train),axis=1)"
   ]
  },
  {
   "cell_type": "markdown",
   "metadata": {},
   "source": [
    "#### Top 275 features wrt 'y'"
   ]
  },
  {
   "cell_type": "code",
   "execution_count": 46,
   "metadata": {},
   "outputs": [],
   "source": [
    "top_275_features = corelation_mat['y'].sort_values(ascending=False)[0:275]\n",
    "top_275_features=top_275_features.drop('y')"
   ]
  },
  {
   "cell_type": "markdown",
   "metadata": {},
   "source": [
    "##### Data with selected features and without outliers"
   ]
  },
  {
   "cell_type": "code",
   "execution_count": 47,
   "metadata": {},
   "outputs": [],
   "source": [
    "X1_train = cat_train.drop('y',axis=1)\n",
    "X1_train = pd.concat([train['y'],X1_train],axis=1)\n",
    "X1_train = pd.concat((cat_train,binary_train),axis=1)\n",
    "X1_test = pd.concat((cat_test,binary_test),axis=1)"
   ]
  },
  {
   "cell_type": "code",
   "execution_count": 48,
   "metadata": {},
   "outputs": [],
   "source": [
    "X1_train = X1_train[top_275_features.index]\n",
    "X1_test = X1_test[top_275_features.index]\n",
    "y = train['y']"
   ]
  },
  {
   "cell_type": "markdown",
   "metadata": {},
   "source": [
    "##### Full data without outliers"
   ]
  },
  {
   "cell_type": "code",
   "execution_count": 49,
   "metadata": {},
   "outputs": [],
   "source": [
    "X2_train = pd.concat((cat_train,binary_train),axis=1)\n",
    "X2_train = X2_train.drop('y',axis=1)\n",
    "X2_test = pd.concat((cat_test,binary_test),axis=1)\n",
    "y = train['y']"
   ]
  },
  {
   "cell_type": "markdown",
   "metadata": {},
   "source": [
    "##### Splitting the data "
   ]
  },
  {
   "cell_type": "code",
   "execution_count": 50,
   "metadata": {},
   "outputs": [],
   "source": [
    "X1_train, X1_valid, y1_train, y1_valid = train_test_split(X1_train, y, test_size=0.2)\n",
    "X2_train, X2_valid, y2_train, y2_valid = train_test_split(X2_train, y, test_size=0.2)"
   ]
  },
  {
   "cell_type": "markdown",
   "metadata": {},
   "source": [
    "##### Linear regression on Selected data"
   ]
  },
  {
   "cell_type": "code",
   "execution_count": 52,
   "metadata": {},
   "outputs": [
    {
     "name": "stdout",
     "output_type": "stream",
     "text": [
      "R2 score for Linear Regression is : 0.6415415160611041\n"
     ]
    }
   ],
   "source": [
    "lr = LinearRegression()\n",
    "lr.fit(X1_train,y1_train)\n",
    "print('R2 score for Linear Regression on train data is :',r2_score(y1_train,lr.predict(X1_train)))"
   ]
  },
  {
   "cell_type": "code",
   "execution_count": 53,
   "metadata": {},
   "outputs": [
    {
     "name": "stdout",
     "output_type": "stream",
     "text": [
      "R2 score for Linear Regression on valid data is : 0.6192322257137142\n"
     ]
    }
   ],
   "source": [
    "print('R2 score for Linear Regression on valid data is :',r2_score(y1_valid,lr.predict(X1_valid)))"
   ]
  },
  {
   "cell_type": "markdown",
   "metadata": {},
   "source": [
    "##### Linear regression on Full data"
   ]
  },
  {
   "cell_type": "code",
   "execution_count": 55,
   "metadata": {},
   "outputs": [
    {
     "name": "stdout",
     "output_type": "stream",
     "text": [
      "R2 score for Linear Regression on full train data is : 0.641123846674799\n"
     ]
    }
   ],
   "source": [
    "lr = LinearRegression()\n",
    "lr.fit(X2_train,y2_train)\n",
    "print('R2 score for Linear Regression on full train data is :',r2_score(y2_train,lr.predict(X2_train)))"
   ]
  },
  {
   "cell_type": "code",
   "execution_count": 56,
   "metadata": {},
   "outputs": [
    {
     "name": "stdout",
     "output_type": "stream",
     "text": [
      "R2 score for Linear Regression on full valid data is : 0.6153497085251409\n"
     ]
    }
   ],
   "source": [
    "print('R2 score for Linear Regression on full valid data is :',r2_score(y2_valid,lr.predict(X2_valid)))"
   ]
  },
  {
   "cell_type": "markdown",
   "metadata": {},
   "source": [
    "##### Decision Trees on selected data"
   ]
  },
  {
   "cell_type": "code",
   "execution_count": 57,
   "metadata": {},
   "outputs": [],
   "source": [
    "tree = DecisionTreeRegressor()\n",
    "param = {'max_depth':[1,3,5,7,9,10]}\n",
    "clf_dt = GridSearchCV(tree,param_grid=param,cv=5,scoring='r2',return_train_score=True)"
   ]
  },
  {
   "cell_type": "code",
   "execution_count": 58,
   "metadata": {},
   "outputs": [
    {
     "data": {
      "text/plain": [
       "GridSearchCV(cv=5, estimator=DecisionTreeRegressor(),\n",
       "             param_grid={'max_depth': [1, 3, 5, 7, 9, 10]},\n",
       "             return_train_score=True, scoring='r2')"
      ]
     },
     "execution_count": 58,
     "metadata": {},
     "output_type": "execute_result"
    }
   ],
   "source": [
    "clf_dt.fit(X1_train,y1_train)"
   ]
  },
  {
   "cell_type": "code",
   "execution_count": 59,
   "metadata": {},
   "outputs": [
    {
     "data": {
      "text/plain": [
       "{'max_depth': 3}"
      ]
     },
     "execution_count": 59,
     "metadata": {},
     "output_type": "execute_result"
    }
   ],
   "source": [
    "clf_dt.best_params_"
   ]
  },
  {
   "cell_type": "code",
   "execution_count": 60,
   "metadata": {},
   "outputs": [
    {
     "name": "stdout",
     "output_type": "stream",
     "text": [
      "R2 score for Decision tree on train data is : 0.6079404030091478\n"
     ]
    }
   ],
   "source": [
    "best_dt= DecisionTreeRegressor(max_depth=3)\n",
    "best_dt.fit(X1_train,y1_train)\n",
    "print('R2 score for Decision tree on train data is :',r2_score(y1_train,best_dt.predict(X1_train)))"
   ]
  },
  {
   "cell_type": "code",
   "execution_count": 62,
   "metadata": {},
   "outputs": [
    {
     "name": "stdout",
     "output_type": "stream",
     "text": [
      "R2 score for Decision tree on valid data is : 0.6108668051047201\n"
     ]
    }
   ],
   "source": [
    "print('R2 score for Decision tree on valid data is :',r2_score(y1_valid,best_dt.predict(X1_valid)))"
   ]
  },
  {
   "cell_type": "markdown",
   "metadata": {},
   "source": [
    "##### Decision trees on full data"
   ]
  },
  {
   "cell_type": "code",
   "execution_count": 63,
   "metadata": {},
   "outputs": [
    {
     "name": "stdout",
     "output_type": "stream",
     "text": [
      "R2 score for decision tree on full  train data is : 0.6053450408160868\n"
     ]
    }
   ],
   "source": [
    "best_dt= DecisionTreeRegressor(max_depth=3)\n",
    "best_dt.fit(X2_train,y2_train)\n",
    "print('R2 score for decision tree on full  train data is :',r2_score(y2_train,best_dt.predict(X2_train)))"
   ]
  },
  {
   "cell_type": "code",
   "execution_count": 64,
   "metadata": {},
   "outputs": [
    {
     "name": "stdout",
     "output_type": "stream",
     "text": [
      "R2 score for decision tree on full  valid data is : 0.6395911554721558\n"
     ]
    }
   ],
   "source": [
    "print('R2 score for decision tree on full  valid data is :',r2_score(y2_valid,best_dt.predict(X2_valid)))"
   ]
  },
  {
   "cell_type": "markdown",
   "metadata": {},
   "source": [
    "##### XGBoost on selected data"
   ]
  },
  {
   "cell_type": "code",
   "execution_count": 29,
   "metadata": {
    "scrolled": false
   },
   "outputs": [
    {
     "name": "stdout",
     "output_type": "stream",
     "text": [
      "[12:08:18] WARNING: C:/Users/Administrator/workspace/xgboost-win64_release_1.2.0/src/objective/regression_obj.cu:174: reg:linear is now deprecated in favor of reg:squarederror.\n",
      "[0]\ttrain-rmse:98.88277\tvalid-rmse:98.52879\ttrain-r2:-63.42588\tvalid-r2:-66.02737\n",
      "Multiple eval metrics have been passed: 'valid-r2' will be used for early stopping.\n",
      "\n",
      "Will train until valid-r2 hasn't improved in 50 rounds.\n",
      "[10]\ttrain-rmse:80.93784\tvalid-rmse:80.52148\ttrain-r2:-42.16406\tvalid-r2:-43.76611\n",
      "[20]\ttrain-rmse:66.29969\tvalid-rmse:65.83151\ttrain-r2:-27.96291\tvalid-r2:-28.92219\n",
      "[30]\ttrain-rmse:54.37009\tvalid-rmse:53.85715\ttrain-r2:-18.47777\tvalid-r2:-19.02685\n",
      "[40]\ttrain-rmse:44.66106\tvalid-rmse:44.11460\ttrain-r2:-12.14247\tvalid-r2:-12.43664\n",
      "[50]\ttrain-rmse:36.77374\tvalid-rmse:36.20433\ttrain-r2:-7.91035\tvalid-r2:-8.04997\n",
      "[60]\ttrain-rmse:30.38255\tvalid-rmse:29.79469\ttrain-r2:-5.08230\tvalid-r2:-5.12920\n",
      "[70]\ttrain-rmse:25.22331\tvalid-rmse:24.61866\ttrain-r2:-3.19202\tvalid-r2:-3.18461\n",
      "[80]\ttrain-rmse:21.08108\tvalid-rmse:20.46979\ttrain-r2:-1.92823\tvalid-r2:-1.89303\n",
      "[90]\ttrain-rmse:17.78014\tvalid-rmse:17.16841\ttrain-r2:-1.08300\tvalid-r2:-1.03510\n",
      "[100]\ttrain-rmse:15.17158\tvalid-rmse:14.57307\ttrain-r2:-0.51663\tvalid-r2:-0.46632\n",
      "[110]\ttrain-rmse:13.13390\tvalid-rmse:12.56230\ttrain-r2:-0.13660\tvalid-r2:-0.08959\n",
      "[120]\ttrain-rmse:11.56428\tvalid-rmse:11.03978\ttrain-r2:0.11884\tvalid-r2:0.15851\n",
      "[130]\ttrain-rmse:10.37804\tvalid-rmse:9.90688\ttrain-r2:0.29034\tvalid-r2:0.32236\n",
      "[140]\ttrain-rmse:9.49265\tvalid-rmse:9.08749\ttrain-r2:0.40626\tvalid-r2:0.42982\n",
      "[150]\ttrain-rmse:8.84302\tvalid-rmse:8.51426\ttrain-r2:0.48475\tvalid-r2:0.49948\n",
      "[160]\ttrain-rmse:8.37118\tvalid-rmse:8.12069\ttrain-r2:0.53827\tvalid-r2:0.54468\n",
      "[170]\ttrain-rmse:8.03545\tvalid-rmse:7.85658\ttrain-r2:0.57456\tvalid-r2:0.57382\n",
      "[180]\ttrain-rmse:7.79428\tvalid-rmse:7.68486\ttrain-r2:0.59971\tvalid-r2:0.59225\n",
      "[190]\ttrain-rmse:7.62103\tvalid-rmse:7.57479\ttrain-r2:0.61731\tvalid-r2:0.60384\n",
      "[200]\ttrain-rmse:7.49833\tvalid-rmse:7.50598\ttrain-r2:0.62953\tvalid-r2:0.61101\n",
      "[210]\ttrain-rmse:7.40956\tvalid-rmse:7.46479\ttrain-r2:0.63825\tvalid-r2:0.61527\n",
      "[220]\ttrain-rmse:7.34614\tvalid-rmse:7.44060\ttrain-r2:0.64442\tvalid-r2:0.61776\n",
      "[230]\ttrain-rmse:7.29650\tvalid-rmse:7.42342\ttrain-r2:0.64921\tvalid-r2:0.61952\n",
      "[240]\ttrain-rmse:7.25559\tvalid-rmse:7.41615\ttrain-r2:0.65313\tvalid-r2:0.62026\n",
      "[250]\ttrain-rmse:7.22328\tvalid-rmse:7.41477\ttrain-r2:0.65621\tvalid-r2:0.62040\n",
      "[260]\ttrain-rmse:7.19544\tvalid-rmse:7.41165\ttrain-r2:0.65886\tvalid-r2:0.62072\n",
      "[270]\ttrain-rmse:7.16916\tvalid-rmse:7.41065\ttrain-r2:0.66135\tvalid-r2:0.62083\n",
      "[280]\ttrain-rmse:7.14223\tvalid-rmse:7.41617\ttrain-r2:0.66388\tvalid-r2:0.62026\n",
      "[290]\ttrain-rmse:7.11965\tvalid-rmse:7.41895\ttrain-r2:0.66601\tvalid-r2:0.61998\n",
      "[300]\ttrain-rmse:7.09773\tvalid-rmse:7.42392\ttrain-r2:0.66806\tvalid-r2:0.61947\n",
      "[310]\ttrain-rmse:7.08171\tvalid-rmse:7.42788\ttrain-r2:0.66956\tvalid-r2:0.61906\n",
      "[320]\ttrain-rmse:7.06689\tvalid-rmse:7.43209\ttrain-r2:0.67094\tvalid-r2:0.61863\n",
      "Stopping. Best iteration:\n",
      "[270]\ttrain-rmse:7.16916\tvalid-rmse:7.41065\ttrain-r2:0.66135\tvalid-r2:0.62083\n",
      "\n",
      "[12:08:20] WARNING: C:/Users/Administrator/workspace/xgboost-win64_release_1.2.0/src/objective/regression_obj.cu:174: reg:linear is now deprecated in favor of reg:squarederror.\n"
     ]
    }
   ],
   "source": [
    "x_train, x_valid, y_train, y_valid = train_test_split(X1_train, y, test_size=0.2, random_state=4242)\n",
    "\n",
    "d_train = xgb.DMatrix(x_train, label=y_train)\n",
    "d_valid = xgb.DMatrix(x_valid, label=y_valid)\n",
    "d_test = xgb.DMatrix(X1_test)\n",
    "params = {}\n",
    "params['objective'] = 'reg:linear'\n",
    "params['eta'] = 0.02\n",
    "params['max_depth'] = 4\n",
    "\n",
    "def xgb_r2_score(preds, dtrain):\n",
    "    labels = dtrain.get_label()\n",
    "    return 'r2', r2_score(labels, preds)\n",
    "\n",
    "watchlist = [(d_train, 'train'), (d_valid, 'valid')]\n",
    "\n",
    "clf = xgb.train(params, d_train, 1000, watchlist, early_stopping_rounds=50, feval=xgb_r2_score, maximize=True, verbose_eval=10)"
   ]
  },
  {
   "cell_type": "code",
   "execution_count": 65,
   "metadata": {},
   "outputs": [
    {
     "name": "stdout",
     "output_type": "stream",
     "text": [
      "R2 score for train data using XGboost is 0.66 and on valid data is 0.62\n"
     ]
    }
   ],
   "source": [
    "print('R2 score for train data using XGboost is 0.66 and on valid data is 0.62')"
   ]
  },
  {
   "cell_type": "markdown",
   "metadata": {},
   "source": [
    "##### Xgboost on full data"
   ]
  },
  {
   "cell_type": "code",
   "execution_count": 47,
   "metadata": {},
   "outputs": [
    {
     "name": "stdout",
     "output_type": "stream",
     "text": [
      "[12:53:57] WARNING: C:/Users/Administrator/workspace/xgboost-win64_release_1.2.0/src/objective/regression_obj.cu:174: reg:linear is now deprecated in favor of reg:squarederror.\n",
      "[0]\ttrain-rmse:98.88277\tvalid-rmse:98.52879\ttrain-r2:-63.42588\tvalid-r2:-66.02737\n",
      "Multiple eval metrics have been passed: 'valid-r2' will be used for early stopping.\n",
      "\n",
      "Will train until valid-r2 hasn't improved in 50 rounds.\n",
      "[10]\ttrain-rmse:80.93784\tvalid-rmse:80.52148\ttrain-r2:-42.16406\tvalid-r2:-43.76611\n",
      "[20]\ttrain-rmse:66.29969\tvalid-rmse:65.83151\ttrain-r2:-27.96291\tvalid-r2:-28.92219\n",
      "[30]\ttrain-rmse:54.37009\tvalid-rmse:53.85715\ttrain-r2:-18.47777\tvalid-r2:-19.02685\n",
      "[40]\ttrain-rmse:44.66106\tvalid-rmse:44.11460\ttrain-r2:-12.14247\tvalid-r2:-12.43664\n",
      "[50]\ttrain-rmse:36.77374\tvalid-rmse:36.20433\ttrain-r2:-7.91035\tvalid-r2:-8.04997\n",
      "[60]\ttrain-rmse:30.38255\tvalid-rmse:29.79469\ttrain-r2:-5.08230\tvalid-r2:-5.12920\n",
      "[70]\ttrain-rmse:25.22331\tvalid-rmse:24.61866\ttrain-r2:-3.19202\tvalid-r2:-3.18461\n",
      "[80]\ttrain-rmse:21.08107\tvalid-rmse:20.47010\ttrain-r2:-1.92822\tvalid-r2:-1.89312\n",
      "[90]\ttrain-rmse:17.78007\tvalid-rmse:17.16930\ttrain-r2:-1.08299\tvalid-r2:-1.03531\n",
      "[100]\ttrain-rmse:15.17069\tvalid-rmse:14.57128\ttrain-r2:-0.51646\tvalid-r2:-0.46596\n",
      "[110]\ttrain-rmse:13.13278\tvalid-rmse:12.56334\ttrain-r2:-0.13640\tvalid-r2:-0.08977\n",
      "[120]\ttrain-rmse:11.56244\tvalid-rmse:11.04269\ttrain-r2:0.11912\tvalid-r2:0.15807\n",
      "[130]\ttrain-rmse:10.37298\tvalid-rmse:9.91242\ttrain-r2:0.29103\tvalid-r2:0.32160\n",
      "[140]\ttrain-rmse:9.48469\tvalid-rmse:9.09516\ttrain-r2:0.40726\tvalid-r2:0.42885\n",
      "[150]\ttrain-rmse:8.83214\tvalid-rmse:8.52020\ttrain-r2:0.48601\tvalid-r2:0.49878\n",
      "[160]\ttrain-rmse:8.35969\tvalid-rmse:8.12353\ttrain-r2:0.53953\tvalid-r2:0.54437\n",
      "[170]\ttrain-rmse:8.02036\tvalid-rmse:7.85804\ttrain-r2:0.57615\tvalid-r2:0.57366\n",
      "[180]\ttrain-rmse:7.77876\tvalid-rmse:7.68686\ttrain-r2:0.60131\tvalid-r2:0.59203\n",
      "[190]\ttrain-rmse:7.60525\tvalid-rmse:7.58087\ttrain-r2:0.61889\tvalid-r2:0.60321\n",
      "[200]\ttrain-rmse:7.48050\tvalid-rmse:7.51692\ttrain-r2:0.63129\tvalid-r2:0.60987\n",
      "[210]\ttrain-rmse:7.39333\tvalid-rmse:7.48012\ttrain-r2:0.63984\tvalid-r2:0.61368\n",
      "[220]\ttrain-rmse:7.32762\tvalid-rmse:7.45882\ttrain-r2:0.64621\tvalid-r2:0.61588\n",
      "[230]\ttrain-rmse:7.27875\tvalid-rmse:7.44961\ttrain-r2:0.65091\tvalid-r2:0.61683\n",
      "[240]\ttrain-rmse:7.24139\tvalid-rmse:7.44675\ttrain-r2:0.65449\tvalid-r2:0.61712\n",
      "[250]\ttrain-rmse:7.21345\tvalid-rmse:7.44653\ttrain-r2:0.65715\tvalid-r2:0.61715\n",
      "[260]\ttrain-rmse:7.19028\tvalid-rmse:7.44919\ttrain-r2:0.65935\tvalid-r2:0.61687\n",
      "[270]\ttrain-rmse:7.16736\tvalid-rmse:7.45482\ttrain-r2:0.66152\tvalid-r2:0.61629\n",
      "[280]\ttrain-rmse:7.14990\tvalid-rmse:7.45982\ttrain-r2:0.66316\tvalid-r2:0.61578\n",
      "[290]\ttrain-rmse:7.12970\tvalid-rmse:7.46626\ttrain-r2:0.66506\tvalid-r2:0.61511\n",
      "Stopping. Best iteration:\n",
      "[248]\ttrain-rmse:7.21927\tvalid-rmse:7.44574\ttrain-r2:0.65660\tvalid-r2:0.61723\n",
      "\n",
      "[12:53:59] WARNING: C:/Users/Administrator/workspace/xgboost-win64_release_1.2.0/src/objective/regression_obj.cu:174: reg:linear is now deprecated in favor of reg:squarederror.\n"
     ]
    }
   ],
   "source": [
    "x_train, x_valid, y_train, y_valid = train_test_split(X2_train, y, test_size=0.2, random_state=4242)\n",
    "\n",
    "d_train = xgb.DMatrix(x_train, label=y_train)\n",
    "d_valid = xgb.DMatrix(x_valid, label=y_valid)\n",
    "d_test = xgb.DMatrix(X2_test)\n",
    "\n",
    "watchlist = [(d_train, 'train'), (d_valid, 'valid')]\n",
    "\n",
    "clf = xgb.train(params, d_train, 1000, watchlist, early_stopping_rounds=50, feval=xgb_r2_score, maximize=True, verbose_eval=10)"
   ]
  },
  {
   "cell_type": "code",
   "execution_count": 66,
   "metadata": {},
   "outputs": [
    {
     "name": "stdout",
     "output_type": "stream",
     "text": [
      "R2 score for train data using XGboost on full data is 0.65 and valid data is 0.61\n"
     ]
    }
   ],
   "source": [
    "print('R2 score for train data using XGboost on full data is 0.65 and valid data is 0.61')"
   ]
  },
  {
   "cell_type": "markdown",
   "metadata": {},
   "source": [
    "### Label Encoded Features"
   ]
  },
  {
   "cell_type": "code",
   "execution_count": 232,
   "metadata": {},
   "outputs": [],
   "source": [
    "train= pd.read_csv('train.csv')\n",
    "test = pd.read_csv('test.csv')"
   ]
  },
  {
   "cell_type": "code",
   "execution_count": 233,
   "metadata": {},
   "outputs": [],
   "source": [
    "y = train['y']"
   ]
  },
  {
   "cell_type": "code",
   "execution_count": 234,
   "metadata": {},
   "outputs": [],
   "source": [
    "##Categorical columns\n",
    "cat_columns=[]\n",
    "for i in train.columns:\n",
    "    if train[i].dtype =='O' or train[i].dtype =='float64':\n",
    "        cat_columns.append(i)"
   ]
  },
  {
   "cell_type": "code",
   "execution_count": 235,
   "metadata": {},
   "outputs": [],
   "source": [
    "##Categorical train data\n",
    "##Categorical train data\n",
    "cat_train = train[cat_columns]\n",
    "##Categorical test data\n",
    "cat_columns.remove('y')\n",
    "cat_test = test[cat_columns]\n",
    "\n",
    "##Label encoding categorical features\n",
    "for i in cat_columns:\n",
    "    en = LabelEncoder()\n",
    "    en.fit(list(train[i].values)+list(test[i].values))\n",
    "    cat_train[i] = en.transform(train[i])\n",
    "    cat_test[i] = en.transform(test[i])"
   ]
  },
  {
   "cell_type": "code",
   "execution_count": 236,
   "metadata": {},
   "outputs": [],
   "source": [
    "##Binary data\n",
    "binary_columns=[]\n",
    "for i in train.columns:\n",
    "    if train[i].dtype =='int64':\n",
    "        binary_columns.append(i)\n",
    "binary_train = train[binary_columns]\n",
    "binary_test = test[binary_columns]\n",
    "binary_train = pd.concat((train['y'],binary_train),axis=1)"
   ]
  },
  {
   "cell_type": "markdown",
   "metadata": {},
   "source": [
    "##### Data with label encoded features and binary data"
   ]
  },
  {
   "cell_type": "code",
   "execution_count": 237,
   "metadata": {},
   "outputs": [],
   "source": [
    "X1_train = cat_train.drop('y',axis=1)\n",
    "X1_train = pd.concat([train['y'],X1_train],axis=1)\n",
    "X1_train = pd.concat((cat_train,binary_train),axis=1)\n",
    "X1_test = pd.concat((cat_test,binary_test),axis=1)"
   ]
  },
  {
   "cell_type": "markdown",
   "metadata": {},
   "source": [
    "##### Selecting top 275 corelated features"
   ]
  },
  {
   "cell_type": "code",
   "execution_count": 238,
   "metadata": {},
   "outputs": [],
   "source": [
    "X1_train = X1_train[top_275_features.index]\n",
    "X1_test = X1_test[top_275_features.index]"
   ]
  },
  {
   "cell_type": "markdown",
   "metadata": {},
   "source": [
    "###### Full data"
   ]
  },
  {
   "cell_type": "code",
   "execution_count": 239,
   "metadata": {},
   "outputs": [],
   "source": [
    "X2_train = pd.concat((cat_train,binary_train),axis=1)\n",
    "X2_train = X2_train.drop('y',axis=1)\n",
    "X2_test = pd.concat((cat_test,binary_test),axis=1)\n",
    "y = train['y']"
   ]
  },
  {
   "cell_type": "markdown",
   "metadata": {},
   "source": [
    "##### Splitting the data"
   ]
  },
  {
   "cell_type": "code",
   "execution_count": 240,
   "metadata": {},
   "outputs": [],
   "source": [
    "X1_train, X1_valid, y1_train, y1_valid = train_test_split(X1_train, y, test_size=0.2)\n",
    "X2_train, X2_valid, y2_train, y2_valid = train_test_split(X2_train, y, test_size=0.2)"
   ]
  },
  {
   "cell_type": "markdown",
   "metadata": {},
   "source": [
    "##### Linear Regression on Selected data"
   ]
  },
  {
   "cell_type": "code",
   "execution_count": 226,
   "metadata": {},
   "outputs": [
    {
     "name": "stdout",
     "output_type": "stream",
     "text": [
      "R2 score for Linear Regression on train data is : 0.5758466245895174\n"
     ]
    }
   ],
   "source": [
    "lr = LinearRegression()\n",
    "lr.fit(X1_train,y1_train)\n",
    "print('R2 score for Linear Regression on train data is :',r2_score(y1_train,lr.predict(X1_train)))"
   ]
  },
  {
   "cell_type": "code",
   "execution_count": 78,
   "metadata": {},
   "outputs": [
    {
     "name": "stdout",
     "output_type": "stream",
     "text": [
      "R2 score for Linear Regression on valid data is : 0.5931220988550634\n"
     ]
    }
   ],
   "source": [
    "print('R2 score for Linear Regression on valid data is :',r2_score(y1_valid,lr.predict(X1_valid)))"
   ]
  },
  {
   "cell_type": "markdown",
   "metadata": {},
   "source": [
    "##### Linear regression in Full data"
   ]
  },
  {
   "cell_type": "code",
   "execution_count": 79,
   "metadata": {},
   "outputs": [
    {
     "name": "stdout",
     "output_type": "stream",
     "text": [
      "R2 score for Linear Regression on full train data is : 0.6276942941883861\n"
     ]
    }
   ],
   "source": [
    "lr = LinearRegression()\n",
    "lr.fit(X2_train,y2_train)\n",
    "print('R2 score for Linear Regression on full train data is :',r2_score(y2_train,lr.predict(X2_train)))"
   ]
  },
  {
   "cell_type": "code",
   "execution_count": 80,
   "metadata": {},
   "outputs": [
    {
     "name": "stdout",
     "output_type": "stream",
     "text": [
      "R2 score for Linear Regression on full train data is : 0.41705357198328064\n"
     ]
    }
   ],
   "source": [
    "print('R2 score for Linear Regression on full train data is :',r2_score(y2_valid,lr.predict(X2_valid)))"
   ]
  },
  {
   "cell_type": "markdown",
   "metadata": {},
   "source": [
    "SVM on Selected data"
   ]
  },
  {
   "cell_type": "code",
   "execution_count": 242,
   "metadata": {},
   "outputs": [
    {
     "name": "stdout",
     "output_type": "stream",
     "text": [
      "R2 score for Svm on seleted data is : -0.010049537965354904\n"
     ]
    }
   ],
   "source": [
    "svm = SVR()\n",
    "svm.fit(X1_train,y1_train)\n",
    "print('R2 score for Svm on seleted data is :',r2_score(y1_train,svm.predict(X1_train)))"
   ]
  },
  {
   "cell_type": "markdown",
   "metadata": {},
   "source": [
    "Svm on full data"
   ]
  },
  {
   "cell_type": "code",
   "execution_count": 243,
   "metadata": {},
   "outputs": [
    {
     "name": "stdout",
     "output_type": "stream",
     "text": [
      "R2 score for SVM on full data is : -0.012158387017807248\n"
     ]
    }
   ],
   "source": [
    "svm = SVR()\n",
    "svm.fit(X2_train,y2_train)\n",
    "print('R2 score for SVM on full data is :',r2_score(y2_train,svm.predict(X2_train)))"
   ]
  },
  {
   "cell_type": "markdown",
   "metadata": {},
   "source": [
    "##### Decision Tree on Selected data"
   ]
  },
  {
   "cell_type": "code",
   "execution_count": 81,
   "metadata": {},
   "outputs": [],
   "source": [
    "tree = DecisionTreeRegressor()\n",
    "param = {'max_depth':[1,3,5,7,9,10]}\n",
    "clf_dt = GridSearchCV(tree,param_grid=param,cv=5,scoring='r2',return_train_score=True)"
   ]
  },
  {
   "cell_type": "code",
   "execution_count": 82,
   "metadata": {},
   "outputs": [
    {
     "data": {
      "text/plain": [
       "GridSearchCV(cv=5, estimator=DecisionTreeRegressor(),\n",
       "             param_grid={'max_depth': [1, 3, 5, 7, 9, 10]},\n",
       "             return_train_score=True, scoring='r2')"
      ]
     },
     "execution_count": 82,
     "metadata": {},
     "output_type": "execute_result"
    }
   ],
   "source": [
    "clf_dt.fit(X1_train,y1_train)"
   ]
  },
  {
   "cell_type": "code",
   "execution_count": 83,
   "metadata": {},
   "outputs": [
    {
     "data": {
      "text/plain": [
       "{'max_depth': 3}"
      ]
     },
     "execution_count": 83,
     "metadata": {},
     "output_type": "execute_result"
    }
   ],
   "source": [
    "clf_dt.best_params_"
   ]
  },
  {
   "cell_type": "code",
   "execution_count": 84,
   "metadata": {},
   "outputs": [
    {
     "name": "stdout",
     "output_type": "stream",
     "text": [
      "R2 score for Linear Regression is : 0.5635840981489288\n"
     ]
    }
   ],
   "source": [
    "best_dt= DecisionTreeRegressor(max_depth=3)\n",
    "best_dt.fit(X1_train,y1_train)\n",
    "print('R2 score for Decision tree on train data is :',r2_score(y1_train,best_dt.predict(X1_train)))"
   ]
  },
  {
   "cell_type": "code",
   "execution_count": 86,
   "metadata": {},
   "outputs": [
    {
     "name": "stdout",
     "output_type": "stream",
     "text": [
      "R2 score for Decision tree on valid data is : 0.6072926275449457\n"
     ]
    }
   ],
   "source": [
    "print('R2 score for Decision tree on valid data is :',r2_score(y1_valid,best_dt.predict(X1_valid)))"
   ]
  },
  {
   "cell_type": "markdown",
   "metadata": {},
   "source": [
    "##### Decision trees on full data"
   ]
  },
  {
   "cell_type": "code",
   "execution_count": 88,
   "metadata": {},
   "outputs": [
    {
     "name": "stdout",
     "output_type": "stream",
     "text": [
      "R2 score for Decision tree on full train data is : 0.6021680207977209\n"
     ]
    }
   ],
   "source": [
    "best_dt= DecisionTreeRegressor(max_depth=3)\n",
    "best_dt.fit(X2_train,y2_train)\n",
    "print('R2 score for Decision tree on full train data is :',r2_score(y2_train,best_dt.predict(X2_train)))"
   ]
  },
  {
   "cell_type": "code",
   "execution_count": 89,
   "metadata": {},
   "outputs": [
    {
     "name": "stdout",
     "output_type": "stream",
     "text": [
      "R2 score for Decision tree on full valid data is : 0.46513692320628663\n"
     ]
    }
   ],
   "source": [
    "print('R2 score for Decision tree on full valid data is :',r2_score(y2_valid,best_dt.predict(X2_valid)))"
   ]
  },
  {
   "cell_type": "markdown",
   "metadata": {},
   "source": [
    "##### XGBoost on selected data"
   ]
  },
  {
   "cell_type": "code",
   "execution_count": 46,
   "metadata": {},
   "outputs": [],
   "source": [
    "x_train, x_valid, y_train, y_valid = train_test_split(X1_train, y, test_size=0.2, random_state=4242)\n",
    "d_train = xgb.DMatrix(x_train, label=y_train)\n",
    "d_valid = xgb.DMatrix(x_valid, label=y_valid)\n",
    "d_test = xgb.DMatrix(X1_test)"
   ]
  },
  {
   "cell_type": "code",
   "execution_count": 47,
   "metadata": {},
   "outputs": [
    {
     "name": "stdout",
     "output_type": "stream",
     "text": [
      "[11:25:08] WARNING: C:/Users/Administrator/workspace/xgboost-win64_release_1.2.0/src/objective/regression_obj.cu:174: reg:linear is now deprecated in favor of reg:squarederror.\n",
      "[0]\ttrain-rmse:99.13973\tvalid-rmse:98.25376\ttrain-r2:-58.34264\tvalid-r2:-67.62468\n",
      "Multiple eval metrics have been passed: 'valid-r2' will be used for early stopping.\n",
      "\n",
      "Will train until valid-r2 hasn't improved in 50 rounds.\n",
      "[10]\ttrain-rmse:81.18323\tvalid-rmse:80.27140\ttrain-r2:-38.79276\tvalid-r2:-44.80403\n",
      "[20]\ttrain-rmse:66.54102\tvalid-rmse:65.59669\ttrain-r2:-25.73316\tvalid-r2:-29.58764\n",
      "[30]\ttrain-rmse:54.61489\tvalid-rmse:53.63052\ttrain-r2:-17.00917\tvalid-r2:-19.44589\n",
      "[40]\ttrain-rmse:44.91724\tvalid-rmse:43.88424\ttrain-r2:-11.18141\tvalid-r2:-12.68986\n",
      "[50]\ttrain-rmse:37.05044\tvalid-rmse:35.96449\ttrain-r2:-7.28816\tvalid-r2:-8.19453\n",
      "[60]\ttrain-rmse:30.69023\tvalid-rmse:29.53708\ttrain-r2:-4.68685\tvalid-r2:-5.20179\n",
      "[70]\ttrain-rmse:25.57155\tvalid-rmse:24.34564\ttrain-r2:-2.94807\tvalid-r2:-3.21332\n",
      "[80]\ttrain-rmse:21.47761\tvalid-rmse:20.17465\ttrain-r2:-1.78512\tvalid-r2:-1.89330\n",
      "[90]\ttrain-rmse:18.23151\tvalid-rmse:16.84921\ttrain-r2:-1.00686\tvalid-r2:-1.01809\n",
      "[100]\ttrain-rmse:15.68505\tvalid-rmse:14.22874\ttrain-r2:-0.48540\tvalid-r2:-0.43918\n",
      "[110]\ttrain-rmse:13.71383\tvalid-rmse:12.18810\ttrain-r2:-0.13550\tvalid-r2:-0.05598\n",
      "[120]\ttrain-rmse:12.21047\tvalid-rmse:10.63716\ttrain-r2:0.09981\tvalid-r2:0.19567\n",
      "[130]\ttrain-rmse:11.08450\tvalid-rmse:9.48067\ttrain-r2:0.25817\tvalid-r2:0.36106\n",
      "[140]\ttrain-rmse:10.25956\tvalid-rmse:8.64215\ttrain-r2:0.36448\tvalid-r2:0.46908\n",
      "[150]\ttrain-rmse:9.66082\tvalid-rmse:8.04320\ttrain-r2:0.43649\tvalid-r2:0.54012\n",
      "[160]\ttrain-rmse:9.23124\tvalid-rmse:7.63239\ttrain-r2:0.48549\tvalid-r2:0.58590\n",
      "[170]\ttrain-rmse:8.92401\tvalid-rmse:7.36218\ttrain-r2:0.51917\tvalid-r2:0.61470\n",
      "[180]\ttrain-rmse:8.70755\tvalid-rmse:7.18686\ttrain-r2:0.54221\tvalid-r2:0.63284\n",
      "[190]\ttrain-rmse:8.54889\tvalid-rmse:7.07861\ttrain-r2:0.55874\tvalid-r2:0.64381\n",
      "[200]\ttrain-rmse:8.43805\tvalid-rmse:7.01871\ttrain-r2:0.57011\tvalid-r2:0.64982\n",
      "[210]\ttrain-rmse:8.35929\tvalid-rmse:6.98421\ttrain-r2:0.57810\tvalid-r2:0.65325\n",
      "[220]\ttrain-rmse:8.29358\tvalid-rmse:6.96728\ttrain-r2:0.58471\tvalid-r2:0.65493\n",
      "[230]\ttrain-rmse:8.24620\tvalid-rmse:6.96554\ttrain-r2:0.58944\tvalid-r2:0.65510\n",
      "[240]\ttrain-rmse:8.20724\tvalid-rmse:6.97163\ttrain-r2:0.59331\tvalid-r2:0.65450\n",
      "[250]\ttrain-rmse:8.17856\tvalid-rmse:6.98301\ttrain-r2:0.59615\tvalid-r2:0.65337\n",
      "[260]\ttrain-rmse:8.15356\tvalid-rmse:6.99610\ttrain-r2:0.59861\tvalid-r2:0.65207\n",
      "[270]\ttrain-rmse:8.12955\tvalid-rmse:7.00807\ttrain-r2:0.60097\tvalid-r2:0.65088\n",
      "Stopping. Best iteration:\n",
      "[229]\ttrain-rmse:8.25013\tvalid-rmse:6.96449\ttrain-r2:0.58905\tvalid-r2:0.65521\n",
      "\n",
      "[11:25:10] WARNING: C:/Users/Administrator/workspace/xgboost-win64_release_1.2.0/src/objective/regression_obj.cu:174: reg:linear is now deprecated in favor of reg:squarederror.\n"
     ]
    }
   ],
   "source": [
    "watchlist = [(d_train, 'train'), (d_valid, 'valid')]\n",
    "\n",
    "clf = xgb.train(params, d_train, 1000, watchlist, early_stopping_rounds=50, feval=xgb_r2_score, maximize=True, verbose_eval=10)"
   ]
  },
  {
   "cell_type": "code",
   "execution_count": 90,
   "metadata": {},
   "outputs": [
    {
     "name": "stdout",
     "output_type": "stream",
     "text": [
      "R2 score on train data using XGboost is 0.58 and valid data is 0.655\n"
     ]
    }
   ],
   "source": [
    "print('R2 score on train data using XGboost is 0.58 and valid data is 0.655')"
   ]
  },
  {
   "cell_type": "code",
   "execution_count": 58,
   "metadata": {},
   "outputs": [],
   "source": [
    "pred = clf.predict(d_test1)\n",
    "prediction = pd.DataFrame()\n",
    "prediction['ID'] = test['ID']\n",
    "prediction['y'] = pred\n",
    "prediction.to_csv('predictions1.csv',index=False)"
   ]
  },
  {
   "cell_type": "markdown",
   "metadata": {},
   "source": [
    "##### Xgboost on full data"
   ]
  },
  {
   "cell_type": "code",
   "execution_count": 61,
   "metadata": {},
   "outputs": [
    {
     "name": "stdout",
     "output_type": "stream",
     "text": [
      "[12:59:01] WARNING: C:/Users/Administrator/workspace/xgboost-win64_release_1.2.0/src/objective/regression_obj.cu:174: reg:linear is now deprecated in favor of reg:squarederror.\n",
      "[0]\ttrain-rmse:99.13973\tvalid-rmse:98.25376\ttrain-r2:-58.34264\tvalid-r2:-67.62468\n",
      "Multiple eval metrics have been passed: 'valid-r2' will be used for early stopping.\n",
      "\n",
      "Will train until valid-r2 hasn't improved in 50 rounds.\n",
      "[10]\ttrain-rmse:81.18323\tvalid-rmse:80.27140\ttrain-r2:-38.79276\tvalid-r2:-44.80403\n",
      "[20]\ttrain-rmse:66.54102\tvalid-rmse:65.59669\ttrain-r2:-25.73316\tvalid-r2:-29.58764\n",
      "[30]\ttrain-rmse:54.61489\tvalid-rmse:53.63052\ttrain-r2:-17.00917\tvalid-r2:-19.44589\n",
      "[40]\ttrain-rmse:44.91724\tvalid-rmse:43.88424\ttrain-r2:-11.18141\tvalid-r2:-12.68986\n",
      "[50]\ttrain-rmse:37.05044\tvalid-rmse:35.96449\ttrain-r2:-7.28816\tvalid-r2:-8.19453\n",
      "[60]\ttrain-rmse:30.69023\tvalid-rmse:29.53708\ttrain-r2:-4.68685\tvalid-r2:-5.20179\n",
      "[70]\ttrain-rmse:25.57155\tvalid-rmse:24.34564\ttrain-r2:-2.94807\tvalid-r2:-3.21332\n",
      "[80]\ttrain-rmse:21.47761\tvalid-rmse:20.17465\ttrain-r2:-1.78512\tvalid-r2:-1.89330\n",
      "[90]\ttrain-rmse:18.23152\tvalid-rmse:16.84898\ttrain-r2:-1.00686\tvalid-r2:-1.01804\n",
      "[100]\ttrain-rmse:15.68501\tvalid-rmse:14.22838\ttrain-r2:-0.48539\tvalid-r2:-0.43911\n",
      "[110]\ttrain-rmse:13.71409\tvalid-rmse:12.18725\ttrain-r2:-0.13555\tvalid-r2:-0.05583\n",
      "[120]\ttrain-rmse:12.21039\tvalid-rmse:10.63709\ttrain-r2:0.09982\tvalid-r2:0.19568\n",
      "[130]\ttrain-rmse:11.08564\tvalid-rmse:9.48111\ttrain-r2:0.25802\tvalid-r2:0.36100\n",
      "[140]\ttrain-rmse:10.26015\tvalid-rmse:8.64038\ttrain-r2:0.36441\tvalid-r2:0.46930\n",
      "[150]\ttrain-rmse:9.66281\tvalid-rmse:8.04047\ttrain-r2:0.43626\tvalid-r2:0.54044\n",
      "[160]\ttrain-rmse:9.23419\tvalid-rmse:7.62801\ttrain-r2:0.48516\tvalid-r2:0.58638\n",
      "[170]\ttrain-rmse:8.92659\tvalid-rmse:7.35571\ttrain-r2:0.51889\tvalid-r2:0.61538\n",
      "[180]\ttrain-rmse:8.70526\tvalid-rmse:7.17942\ttrain-r2:0.54245\tvalid-r2:0.63360\n",
      "[190]\ttrain-rmse:8.54817\tvalid-rmse:7.06941\ttrain-r2:0.55882\tvalid-r2:0.64474\n",
      "[200]\ttrain-rmse:8.43630\tvalid-rmse:7.00700\ttrain-r2:0.57029\tvalid-r2:0.65098\n",
      "[210]\ttrain-rmse:8.35645\tvalid-rmse:6.97206\ttrain-r2:0.57839\tvalid-r2:0.65446\n",
      "[220]\ttrain-rmse:8.29604\tvalid-rmse:6.95431\ttrain-r2:0.58446\tvalid-r2:0.65621\n",
      "[230]\ttrain-rmse:8.25022\tvalid-rmse:6.95042\ttrain-r2:0.58904\tvalid-r2:0.65660\n",
      "[240]\ttrain-rmse:8.21478\tvalid-rmse:6.95357\ttrain-r2:0.59256\tvalid-r2:0.65629\n",
      "[250]\ttrain-rmse:8.18580\tvalid-rmse:6.95899\ttrain-r2:0.59543\tvalid-r2:0.65575\n",
      "[260]\ttrain-rmse:8.15932\tvalid-rmse:6.96623\ttrain-r2:0.59804\tvalid-r2:0.65503\n",
      "[270]\ttrain-rmse:8.14059\tvalid-rmse:6.97163\ttrain-r2:0.59989\tvalid-r2:0.65450\n",
      "[280]\ttrain-rmse:8.12478\tvalid-rmse:6.97833\ttrain-r2:0.60144\tvalid-r2:0.65383\n",
      "Stopping. Best iteration:\n",
      "[231]\ttrain-rmse:8.24672\tvalid-rmse:6.94970\ttrain-r2:0.58939\tvalid-r2:0.65667\n",
      "\n",
      "[12:59:03] WARNING: C:/Users/Administrator/workspace/xgboost-win64_release_1.2.0/src/objective/regression_obj.cu:174: reg:linear is now deprecated in favor of reg:squarederror.\n"
     ]
    }
   ],
   "source": [
    "x_train, x_valid, y_train, y_valid = train_test_split(X2_train, y, test_size=0.2, random_state=4242)\n",
    "d_train = xgb.DMatrix(x_train, label=y_train)\n",
    "d_valid = xgb.DMatrix(x_valid, label=y_valid)\n",
    "d_test = xgb.DMatrix(X2_test)\n",
    "params = {}\n",
    "params['objective'] = 'reg:linear'\n",
    "params['eta'] = 0.02\n",
    "params['max_depth'] = 4\n",
    "\n",
    "def xgb_r2_score(preds, dtrain):\n",
    "    labels = dtrain.get_label()\n",
    "    return 'r2', r2_score(labels, preds)\n",
    "\n",
    "watchlist = [(d_train, 'train'), (d_valid, 'valid')]\n",
    "\n",
    "clf = xgb.train(params, d_train, 1000, watchlist, early_stopping_rounds=50, feval=xgb_r2_score, maximize=True, verbose_eval=10)"
   ]
  },
  {
   "cell_type": "code",
   "execution_count": 91,
   "metadata": {},
   "outputs": [
    {
     "name": "stdout",
     "output_type": "stream",
     "text": [
      "R2 score on train data using XGboost is 0.58 and on valid data is 0.65\n"
     ]
    }
   ],
   "source": [
    "print('R2 score on train data using XGboost is 0.58 and on valid data is 0.65')"
   ]
  },
  {
   "cell_type": "markdown",
   "metadata": {},
   "source": [
    "#### Considering data with y values less than 160"
   ]
  },
  {
   "cell_type": "code",
   "execution_count": 92,
   "metadata": {},
   "outputs": [],
   "source": [
    "train= pd.read_csv('train.csv')\n",
    "test = pd.read_csv('test.csv')\n"
   ]
  },
  {
   "cell_type": "code",
   "execution_count": 93,
   "metadata": {},
   "outputs": [],
   "source": [
    "train = train[train['y']<160]\n",
    "y = train['y']"
   ]
  },
  {
   "cell_type": "code",
   "execution_count": 94,
   "metadata": {},
   "outputs": [],
   "source": [
    "##Categorical features\n",
    "cat_columns=[]\n",
    "for i in train.columns:\n",
    "    if train[i].dtype =='O' or train[i].dtype =='float64':\n",
    "        cat_columns.append(i)"
   ]
  },
  {
   "cell_type": "code",
   "execution_count": 95,
   "metadata": {},
   "outputs": [],
   "source": [
    "##Categorical train data\n",
    "cat_train = train[cat_columns]\n",
    "##Categorical test data\n",
    "cat_columns.remove('y')\n",
    "cat_test = test[cat_columns]\n",
    "\n",
    "##Label encoding categorical features\n",
    "for i in cat_columns:\n",
    "    en = LabelEncoder()\n",
    "    en.fit(list(train[i].values)+list(test[i].values))\n",
    "    cat_train[i] = en.transform(train[i])\n",
    "    cat_test[i] = en.transform(test[i])"
   ]
  },
  {
   "cell_type": "code",
   "execution_count": 96,
   "metadata": {},
   "outputs": [],
   "source": [
    "##Binary data\n",
    "binary_columns=[]\n",
    "for i in train.columns:\n",
    "    if train[i].dtype =='int64':\n",
    "        binary_columns.append(i)\n",
    "binary_train = train[binary_columns]\n",
    "binary_test = test[binary_columns]\n",
    "binary_train = pd.concat((train['y'],binary_train),axis=1)"
   ]
  },
  {
   "cell_type": "markdown",
   "metadata": {},
   "source": [
    "##### Data with Label encoded features and binary data without outliers"
   ]
  },
  {
   "cell_type": "code",
   "execution_count": 97,
   "metadata": {},
   "outputs": [],
   "source": [
    "X1_train = cat_train.drop('y',axis=1)\n",
    "X1_train = pd.concat([train['y'],X1_train],axis=1)\n",
    "X1_train = pd.concat((cat_train,binary_train),axis=1)\n",
    "X1_test = pd.concat((cat_test,binary_test),axis=1)"
   ]
  },
  {
   "cell_type": "markdown",
   "metadata": {},
   "source": [
    "#### Data with Selected features"
   ]
  },
  {
   "cell_type": "code",
   "execution_count": 98,
   "metadata": {},
   "outputs": [],
   "source": [
    "X1_train = X1_train[top_275_features.index]\n",
    "X1_test = X1_test[top_275_features.index]"
   ]
  },
  {
   "cell_type": "markdown",
   "metadata": {},
   "source": [
    "##### Full data without outliers"
   ]
  },
  {
   "cell_type": "code",
   "execution_count": 99,
   "metadata": {},
   "outputs": [],
   "source": [
    "X2_train = pd.concat((cat_train,binary_train),axis=1)\n",
    "X2_train = X2_train.drop('y',axis=1)\n",
    "X2_test = pd.concat((cat_test,binary_test),axis=1)\n",
    "y = train['y']"
   ]
  },
  {
   "cell_type": "markdown",
   "metadata": {},
   "source": [
    "Splitting the data"
   ]
  },
  {
   "cell_type": "code",
   "execution_count": 100,
   "metadata": {},
   "outputs": [],
   "source": [
    "X1_train, X1_valid, y1_train, y1_valid = train_test_split(X1_train, y, test_size=0.2)\n",
    "X2_train, X2_valid, y2_train, y2_valid = train_test_split(X2_train, y, test_size=0.2)"
   ]
  },
  {
   "cell_type": "markdown",
   "metadata": {},
   "source": [
    "##### Linear regression on selected data"
   ]
  },
  {
   "cell_type": "code",
   "execution_count": 103,
   "metadata": {},
   "outputs": [
    {
     "name": "stdout",
     "output_type": "stream",
     "text": [
      "R2 score for Linear Regression on train data is : 0.6212675872951843\n"
     ]
    }
   ],
   "source": [
    "lr = LinearRegression()\n",
    "lr.fit(X1_train,y1_train)\n",
    "print('R2 score for Linear Regression on train data is :',r2_score(y1_train,lr.predict(X1_train)))"
   ]
  },
  {
   "cell_type": "code",
   "execution_count": 104,
   "metadata": {},
   "outputs": [
    {
     "name": "stdout",
     "output_type": "stream",
     "text": [
      "R2 score for Linear Regression on valid data is : 0.596252287394753\n"
     ]
    }
   ],
   "source": [
    "print('R2 score for Linear Regression on valid data is :',r2_score(y1_valid,lr.predict(X1_valid)))"
   ]
  },
  {
   "cell_type": "markdown",
   "metadata": {},
   "source": [
    "##### Linear regression on Full data"
   ]
  },
  {
   "cell_type": "code",
   "execution_count": 106,
   "metadata": {},
   "outputs": [
    {
     "name": "stdout",
     "output_type": "stream",
     "text": [
      "R2 score for Linear Regression is : 0.6233972006252506\n"
     ]
    }
   ],
   "source": [
    "lr = LinearRegression()\n",
    "lr.fit(X2_train,y2_train)\n",
    "print('R2 score for Linear Regression is :',r2_score(y2_train,lr.predict(X2_train)))"
   ]
  },
  {
   "cell_type": "code",
   "execution_count": 107,
   "metadata": {},
   "outputs": [
    {
     "name": "stdout",
     "output_type": "stream",
     "text": [
      "R2 score for Linear Regression is : 0.6032106644399599\n"
     ]
    }
   ],
   "source": [
    "print('R2 score for Linear Regression is :',r2_score(y2_valid,lr.predict(X2_valid)))"
   ]
  },
  {
   "cell_type": "markdown",
   "metadata": {},
   "source": [
    "SVM"
   ]
  },
  {
   "cell_type": "code",
   "execution_count": 45,
   "metadata": {},
   "outputs": [
    {
     "name": "stdout",
     "output_type": "stream",
     "text": [
      "R2 score for Linear Regression is : -0.01075966209219259\n"
     ]
    }
   ],
   "source": [
    "svm = SVR()\n",
    "svm.fit(X1_train,y)\n",
    "print('R2 score for Linear Regression is :',r2_score(y,svm.predict(X1_train)))"
   ]
  },
  {
   "cell_type": "code",
   "execution_count": 70,
   "metadata": {},
   "outputs": [
    {
     "name": "stdout",
     "output_type": "stream",
     "text": [
      "R2 score for Linear Regression is : -0.01075790749348271\n"
     ]
    }
   ],
   "source": [
    "svm = SVR()\n",
    "svm.fit(X2_train,y)\n",
    "print('R2 score for Linear Regression is :',r2_score(y,svm.predict(X2_train)))"
   ]
  },
  {
   "cell_type": "markdown",
   "metadata": {},
   "source": [
    "##### Decision Tree on selected data"
   ]
  },
  {
   "cell_type": "code",
   "execution_count": 108,
   "metadata": {},
   "outputs": [],
   "source": [
    "tree = DecisionTreeRegressor()\n",
    "param = {'max_depth':[1,3,5,7,9,10]}\n",
    "clf_dt = GridSearchCV(tree,param_grid=param,cv=5,scoring='r2',return_train_score=True)"
   ]
  },
  {
   "cell_type": "code",
   "execution_count": 109,
   "metadata": {},
   "outputs": [
    {
     "data": {
      "text/plain": [
       "GridSearchCV(cv=5, estimator=DecisionTreeRegressor(),\n",
       "             param_grid={'max_depth': [1, 3, 5, 7, 9, 10]},\n",
       "             return_train_score=True, scoring='r2')"
      ]
     },
     "execution_count": 109,
     "metadata": {},
     "output_type": "execute_result"
    }
   ],
   "source": [
    "clf_dt.fit(X1_train,y1_train)"
   ]
  },
  {
   "cell_type": "code",
   "execution_count": 110,
   "metadata": {},
   "outputs": [
    {
     "data": {
      "text/plain": [
       "{'max_depth': 3}"
      ]
     },
     "execution_count": 110,
     "metadata": {},
     "output_type": "execute_result"
    }
   ],
   "source": [
    "clf_dt.best_params_"
   ]
  },
  {
   "cell_type": "code",
   "execution_count": 112,
   "metadata": {},
   "outputs": [
    {
     "name": "stdout",
     "output_type": "stream",
     "text": [
      "R2 score for Decision tree on train data is : 0.6030715777402532\n"
     ]
    }
   ],
   "source": [
    "best_dt= DecisionTreeRegressor(max_depth=3)\n",
    "best_dt.fit(X1_train,y1_train)\n",
    "print('R2 score for Decision tree on train data is :',r2_score(y1_train,best_dt.predict(X1_train)))"
   ]
  },
  {
   "cell_type": "code",
   "execution_count": 113,
   "metadata": {},
   "outputs": [
    {
     "name": "stdout",
     "output_type": "stream",
     "text": [
      "R2 score for Decision tree on valid data is : 0.629799084238601\n"
     ]
    }
   ],
   "source": [
    "print('R2 score for Decision tree on valid data is :',r2_score(y1_valid,best_dt.predict(X1_valid)))"
   ]
  },
  {
   "cell_type": "markdown",
   "metadata": {},
   "source": [
    "##### Decision tree on full data"
   ]
  },
  {
   "cell_type": "code",
   "execution_count": 114,
   "metadata": {},
   "outputs": [
    {
     "name": "stdout",
     "output_type": "stream",
     "text": [
      "R2 score for Decision tree on full train data is : 0.5971645967994105\n"
     ]
    }
   ],
   "source": [
    "best_dt= DecisionTreeRegressor(max_depth=3)\n",
    "best_dt.fit(X2_train,y2_train)\n",
    "print('R2 score for Decision tree on full train data is :',r2_score(y2_train,best_dt.predict(X2_train)))"
   ]
  },
  {
   "cell_type": "code",
   "execution_count": 115,
   "metadata": {},
   "outputs": [
    {
     "name": "stdout",
     "output_type": "stream",
     "text": [
      "R2 score for Decision tree on full valid data is : 0.6529079057728742\n"
     ]
    }
   ],
   "source": [
    "print('R2 score for Decision tree on full valid data is :',r2_score(y2_valid,best_dt.predict(X2_valid)))"
   ]
  },
  {
   "cell_type": "markdown",
   "metadata": {},
   "source": [
    "##### XGBoost on Selected data"
   ]
  },
  {
   "cell_type": "code",
   "execution_count": 51,
   "metadata": {},
   "outputs": [],
   "source": [
    "x_train, x_valid, y_train, y_valid = train_test_split(X1_train, y, test_size=0.2, random_state=4242)\n",
    "d_train = xgb.DMatrix(x_train, label=y_train)\n",
    "d_valid = xgb.DMatrix(x_valid, label=y_valid)\n",
    "d_test = xgb.DMatrix(X1_test)"
   ]
  },
  {
   "cell_type": "code",
   "execution_count": 52,
   "metadata": {},
   "outputs": [
    {
     "name": "stdout",
     "output_type": "stream",
     "text": [
      "[11:53:41] WARNING: C:/Users/Administrator/workspace/xgboost-win64_release_1.2.0/src/objective/regression_obj.cu:174: reg:linear is now deprecated in favor of reg:squarederror.\n",
      "[0]\ttrain-rmse:98.88351\tvalid-rmse:98.53010\ttrain-r2:-63.42683\tvalid-r2:-66.02915\n",
      "Multiple eval metrics have been passed: 'valid-r2' will be used for early stopping.\n",
      "\n",
      "Will train until valid-r2 hasn't improved in 50 rounds.\n",
      "[10]\ttrain-rmse:80.94443\tvalid-rmse:80.53110\ttrain-r2:-42.17109\tvalid-r2:-43.77681\n",
      "[20]\ttrain-rmse:66.30997\tvalid-rmse:65.84438\ttrain-r2:-27.97188\tvalid-r2:-28.93389\n",
      "[30]\ttrain-rmse:54.38234\tvalid-rmse:53.87113\ttrain-r2:-18.48655\tvalid-r2:-19.03724\n",
      "[40]\ttrain-rmse:44.67418\tvalid-rmse:44.12291\ttrain-r2:-12.15020\tvalid-r2:-12.44170\n",
      "[50]\ttrain-rmse:36.78762\tvalid-rmse:36.20367\ttrain-r2:-7.91708\tvalid-r2:-8.04963\n",
      "[60]\ttrain-rmse:30.39815\tvalid-rmse:29.78817\ttrain-r2:-5.08854\tvalid-r2:-5.12652\n",
      "[70]\ttrain-rmse:25.24151\tvalid-rmse:24.61678\ttrain-r2:-3.19807\tvalid-r2:-3.18397\n",
      "[80]\ttrain-rmse:21.10302\tvalid-rmse:20.46720\ttrain-r2:-1.93432\tvalid-r2:-1.89230\n",
      "[90]\ttrain-rmse:17.80533\tvalid-rmse:17.16952\ttrain-r2:-1.08891\tvalid-r2:-1.03536\n",
      "[100]\ttrain-rmse:15.20163\tvalid-rmse:14.57617\ttrain-r2:-0.52265\tvalid-r2:-0.46694\n",
      "[110]\ttrain-rmse:13.16855\tvalid-rmse:12.56712\ttrain-r2:-0.14260\tvalid-r2:-0.09043\n",
      "[120]\ttrain-rmse:11.60449\tvalid-rmse:11.03895\ttrain-r2:0.11270\tvalid-r2:0.15864\n",
      "[130]\ttrain-rmse:10.41831\tvalid-rmse:9.90760\ttrain-r2:0.28482\tvalid-r2:0.32226\n",
      "[140]\ttrain-rmse:9.53388\tvalid-rmse:9.08984\ttrain-r2:0.40109\tvalid-r2:0.42952\n",
      "[150]\ttrain-rmse:8.89061\tvalid-rmse:8.51044\ttrain-r2:0.47919\tvalid-r2:0.49993\n",
      "[160]\ttrain-rmse:8.42635\tvalid-rmse:8.10675\ttrain-r2:0.53216\tvalid-r2:0.54625\n",
      "[170]\ttrain-rmse:8.09460\tvalid-rmse:7.83698\ttrain-r2:0.56827\tvalid-r2:0.57594\n",
      "[180]\ttrain-rmse:7.85684\tvalid-rmse:7.66458\ttrain-r2:0.59326\tvalid-r2:0.59440\n",
      "[190]\ttrain-rmse:7.68707\tvalid-rmse:7.55997\ttrain-r2:0.61065\tvalid-r2:0.60539\n",
      "[200]\ttrain-rmse:7.56639\tvalid-rmse:7.49887\ttrain-r2:0.62278\tvalid-r2:0.61174\n",
      "[210]\ttrain-rmse:7.47584\tvalid-rmse:7.46516\ttrain-r2:0.63175\tvalid-r2:0.61523\n",
      "[220]\ttrain-rmse:7.40917\tvalid-rmse:7.44752\ttrain-r2:0.63829\tvalid-r2:0.61704\n",
      "[230]\ttrain-rmse:7.35853\tvalid-rmse:7.43970\ttrain-r2:0.64322\tvalid-r2:0.61785\n",
      "[240]\ttrain-rmse:7.31732\tvalid-rmse:7.44060\ttrain-r2:0.64721\tvalid-r2:0.61776\n",
      "[250]\ttrain-rmse:7.28483\tvalid-rmse:7.44409\ttrain-r2:0.65033\tvalid-r2:0.61740\n",
      "[260]\ttrain-rmse:7.25621\tvalid-rmse:7.45272\ttrain-r2:0.65307\tvalid-r2:0.61651\n",
      "[270]\ttrain-rmse:7.22890\tvalid-rmse:7.45466\ttrain-r2:0.65568\tvalid-r2:0.61631\n",
      "[280]\ttrain-rmse:7.20261\tvalid-rmse:7.46453\ttrain-r2:0.65818\tvalid-r2:0.61529\n",
      "Stopping. Best iteration:\n",
      "[236]\ttrain-rmse:7.33345\tvalid-rmse:7.43933\ttrain-r2:0.64565\tvalid-r2:0.61789\n",
      "\n",
      "[11:53:43] WARNING: C:/Users/Administrator/workspace/xgboost-win64_release_1.2.0/src/objective/regression_obj.cu:174: reg:linear is now deprecated in favor of reg:squarederror.\n"
     ]
    }
   ],
   "source": [
    "watchlist = [(d_train, 'train'), (d_valid, 'valid')]\n",
    "clf = xgb.train(params, d_train, 1000, watchlist, early_stopping_rounds=50, feval=xgb_r2_score, maximize=True, verbose_eval=10)"
   ]
  },
  {
   "cell_type": "code",
   "execution_count": 116,
   "metadata": {},
   "outputs": [
    {
     "name": "stdout",
     "output_type": "stream",
     "text": [
      "R2 score for XGBoost model on train data is 0.64 and on valid data is 0.61\n"
     ]
    }
   ],
   "source": [
    "print(\"R2 score for XGBoost model on train data is 0.64 and on valid data is 0.61\")"
   ]
  },
  {
   "cell_type": "code",
   "execution_count": 54,
   "metadata": {},
   "outputs": [],
   "source": [
    "pred = clf.predict(d_test)\n",
    "prediction = pd.DataFrame()\n",
    "prediction['ID'] = test['ID']\n",
    "prediction['y'] = pred\n",
    "prediction.to_csv('predictions2.csv',index=False)"
   ]
  },
  {
   "cell_type": "markdown",
   "metadata": {},
   "source": [
    "##### Xgboost on Full data without outliers"
   ]
  },
  {
   "cell_type": "code",
   "execution_count": 72,
   "metadata": {},
   "outputs": [
    {
     "name": "stdout",
     "output_type": "stream",
     "text": [
      "[13:04:53] WARNING: C:/Users/Administrator/workspace/xgboost-win64_release_1.2.0/src/objective/regression_obj.cu:174: reg:linear is now deprecated in favor of reg:squarederror.\n",
      "[0]\ttrain-rmse:98.88351\tvalid-rmse:98.53010\ttrain-r2:-63.42683\tvalid-r2:-66.02915\n",
      "Multiple eval metrics have been passed: 'valid-r2' will be used for early stopping.\n",
      "\n",
      "Will train until valid-r2 hasn't improved in 50 rounds.\n",
      "[10]\ttrain-rmse:80.94443\tvalid-rmse:80.53110\ttrain-r2:-42.17109\tvalid-r2:-43.77681\n",
      "[20]\ttrain-rmse:66.30997\tvalid-rmse:65.84438\ttrain-r2:-27.97188\tvalid-r2:-28.93389\n",
      "[30]\ttrain-rmse:54.38234\tvalid-rmse:53.87113\ttrain-r2:-18.48655\tvalid-r2:-19.03724\n",
      "[40]\ttrain-rmse:44.67418\tvalid-rmse:44.12291\ttrain-r2:-12.15020\tvalid-r2:-12.44170\n",
      "[50]\ttrain-rmse:36.78762\tvalid-rmse:36.20367\ttrain-r2:-7.91708\tvalid-r2:-8.04963\n",
      "[60]\ttrain-rmse:30.39815\tvalid-rmse:29.78817\ttrain-r2:-5.08854\tvalid-r2:-5.12652\n",
      "[70]\ttrain-rmse:25.24151\tvalid-rmse:24.61678\ttrain-r2:-3.19807\tvalid-r2:-3.18397\n",
      "[80]\ttrain-rmse:21.10302\tvalid-rmse:20.46720\ttrain-r2:-1.93432\tvalid-r2:-1.89230\n",
      "[90]\ttrain-rmse:17.80525\tvalid-rmse:17.17188\ttrain-r2:-1.08889\tvalid-r2:-1.03592\n",
      "[100]\ttrain-rmse:15.20161\tvalid-rmse:14.58099\ttrain-r2:-0.52264\tvalid-r2:-0.46791\n",
      "[110]\ttrain-rmse:13.16858\tvalid-rmse:12.57410\ttrain-r2:-0.14261\tvalid-r2:-0.09164\n",
      "[120]\ttrain-rmse:11.60234\tvalid-rmse:11.04824\ttrain-r2:0.11303\tvalid-r2:0.15722\n",
      "[130]\ttrain-rmse:10.41633\tvalid-rmse:9.91593\ttrain-r2:0.28509\tvalid-r2:0.32112\n",
      "[140]\ttrain-rmse:9.53303\tvalid-rmse:9.09814\ttrain-r2:0.40120\tvalid-r2:0.42848\n",
      "[150]\ttrain-rmse:8.88846\tvalid-rmse:8.52018\ttrain-r2:0.47944\tvalid-r2:0.49878\n",
      "[160]\ttrain-rmse:8.42320\tvalid-rmse:8.11629\ttrain-r2:0.53251\tvalid-r2:0.54518\n",
      "[170]\ttrain-rmse:8.09100\tvalid-rmse:7.84805\ttrain-r2:0.56866\tvalid-r2:0.57474\n",
      "[180]\ttrain-rmse:7.85406\tvalid-rmse:7.67593\ttrain-r2:0.59355\tvalid-r2:0.59319\n",
      "[190]\ttrain-rmse:7.68522\tvalid-rmse:7.56819\ttrain-r2:0.61084\tvalid-r2:0.60453\n",
      "[200]\ttrain-rmse:7.56282\tvalid-rmse:7.50168\ttrain-r2:0.62313\tvalid-r2:0.61145\n",
      "[210]\ttrain-rmse:7.47540\tvalid-rmse:7.46260\ttrain-r2:0.63180\tvalid-r2:0.61549\n",
      "[220]\ttrain-rmse:7.40973\tvalid-rmse:7.44098\ttrain-r2:0.63824\tvalid-r2:0.61772\n",
      "[230]\ttrain-rmse:7.35832\tvalid-rmse:7.43179\ttrain-r2:0.64324\tvalid-r2:0.61866\n",
      "[240]\ttrain-rmse:7.32090\tvalid-rmse:7.42746\ttrain-r2:0.64686\tvalid-r2:0.61910\n",
      "[250]\ttrain-rmse:7.28845\tvalid-rmse:7.42720\ttrain-r2:0.64998\tvalid-r2:0.61913\n",
      "[260]\ttrain-rmse:7.26498\tvalid-rmse:7.42711\ttrain-r2:0.65223\tvalid-r2:0.61914\n",
      "[270]\ttrain-rmse:7.24459\tvalid-rmse:7.42998\ttrain-r2:0.65418\tvalid-r2:0.61884\n",
      "[280]\ttrain-rmse:7.22504\tvalid-rmse:7.43332\ttrain-r2:0.65605\tvalid-r2:0.61850\n",
      "[290]\ttrain-rmse:7.20714\tvalid-rmse:7.43507\ttrain-r2:0.65775\tvalid-r2:0.61832\n",
      "[300]\ttrain-rmse:7.19142\tvalid-rmse:7.43700\ttrain-r2:0.65924\tvalid-r2:0.61813\n",
      "Stopping. Best iteration:\n",
      "[253]\ttrain-rmse:7.28214\tvalid-rmse:7.42647\ttrain-r2:0.65059\tvalid-r2:0.61921\n",
      "\n",
      "[13:04:55] WARNING: C:/Users/Administrator/workspace/xgboost-win64_release_1.2.0/src/objective/regression_obj.cu:174: reg:linear is now deprecated in favor of reg:squarederror.\n"
     ]
    }
   ],
   "source": [
    "x_train, x_valid, y_train, y_valid = train_test_split(X2_train, y, test_size=0.2, random_state=4242)\n",
    "d_train = xgb.DMatrix(x_train, label=y_train)\n",
    "d_valid = xgb.DMatrix(x_valid, label=y_valid)\n",
    "d_test = xgb.DMatrix(X2_test)\n",
    "watchlist = [(d_train, 'train'), (d_valid, 'valid')]\n",
    "clf = xgb.train(params, d_train, 1000, watchlist, early_stopping_rounds=50, feval=xgb_r2_score, maximize=True, verbose_eval=10)"
   ]
  },
  {
   "cell_type": "code",
   "execution_count": 117,
   "metadata": {},
   "outputs": [
    {
     "name": "stdout",
     "output_type": "stream",
     "text": [
      "R2 score for XGBoost model on full train data is 0.65 and on full valid data is 0.62\n"
     ]
    }
   ],
   "source": [
    "print(\"R2 score for XGBoost model on full train data is 0.65 and on full valid data is 0.62\")"
   ]
  },
  {
   "cell_type": "code",
   "execution_count": 214,
   "metadata": {},
   "outputs": [],
   "source": [
    "from prettytable import PrettyTable\n",
    "x = PrettyTable()"
   ]
  },
  {
   "cell_type": "code",
   "execution_count": 215,
   "metadata": {},
   "outputs": [],
   "source": [
    "x.field_names = ['S.no','Encoder','Data','Outliers_removed','Model','Train_r2_score','Valid_r2_score']\n",
    "x.add_row(['1','Target Encoder','Top 275 features','No','Linear Regression','0.60','-'])\n",
    "x.add_row(['2','Target Encoder','Full data','No','Linear Regression','0.61','0.53'])\n",
    "x.add_row(['3','Target Encoder','Top 275 features','No','Decision Tree','0.56','0.57'])\n",
    "x.add_row(['4','Target Encoder','Full data','No','Decision Tree','0.57','0.56'])\n",
    "x.add_row(['5','Target Encoder','Top 275 features','No','XgBoost','0.64','0.55'])\n",
    "x.add_row(['6','Target Encoder','Full data','No','XgBoost','0.63','0.59'])\n",
    "x.add_row(['7','Target Encoder','Top 275 features','Yes','Linear Regression','0.64','0.61'])\n",
    "x.add_row(['8','Target Encoder','Full data','Yes','Linear Regression','0.64','0.61'])\n",
    "x.add_row(['9','Target Encoder','Top 275 features','Yes','Decision Tree','0.60','0.61'])\n",
    "x.add_row(['10','Target Encoder','Full data','Yes','Decision Tree','0.60','0.63'])\n",
    "x.add_row(['11','Target Encoder','Top 275 features','Yes','XgBoost','0.66','0.62'])\n",
    "x.add_row(['12','Target Encoder','Full data','Yes','XgBoost','0.65','0.61'])\n",
    "\n",
    "x.add_row(['13','Label Encoder','Top 275 features','No','Linear Regression','0.58','0.59'])\n",
    "x.add_row(['14','Label Encoder','Full data','No','Linear Regression','0.62','0.41'])\n",
    "x.add_row(['15','Label Encoder','Top 275 features','No','Decision Tree','0.56','0.60'])\n",
    "x.add_row(['16','Label Encoder','Full data','No','Decision Tree','0.60','0.46'])\n",
    "x.add_row(['17','Label Encoder','Top 275 features','No','XgBoost','0.58','0.65'])\n",
    "x.add_row(['18','Label Encoder','Full data','No','XgBoost','0.58','0.65'])\n",
    "x.add_row(['19','Label Encoder','Top 275 features','Yes','Linear Regression','0.62','0.59'])\n",
    "x.add_row(['20','Label Encoder','Full data','Yes','Linear Regression','0.62','0.60'])\n",
    "x.add_row(['21','Label Encoder','Top 275 features','Yes','Decision Tree','0.60','0.62'])\n",
    "x.add_row(['22','Label Encoder','Full data','Yes','Decision Tree','0.59','0.65'])\n",
    "x.add_row(['23','Label Encoder','Top 275 features','Yes','XgBoost','0.64','0.62'])\n",
    "x.add_row(['24','Label Encoder','Full data','Yes','XgBoost','0.65','0.62'])"
   ]
  },
  {
   "cell_type": "code",
   "execution_count": 216,
   "metadata": {},
   "outputs": [
    {
     "name": "stdout",
     "output_type": "stream",
     "text": [
      "+------+----------------+------------------+------------------+-------------------+----------------+----------------+\n",
      "| S.no |    Encoder     |       Data       | Outliers_removed |       Model       | Train_r2_score | Valid_r2_score |\n",
      "+------+----------------+------------------+------------------+-------------------+----------------+----------------+\n",
      "|  1   | Target Encoder | Top 275 features |        No        | Linear Regression |      0.60      |       -        |\n",
      "|  2   | Target Encoder |    Full data     |        No        | Linear Regression |      0.61      |      0.53      |\n",
      "|  3   | Target Encoder | Top 275 features |        No        |   Decision Tree   |      0.56      |      0.57      |\n",
      "|  4   | Target Encoder |    Full data     |        No        |   Decision Tree   |      0.57      |      0.56      |\n",
      "|  5   | Target Encoder | Top 275 features |        No        |      XgBoost      |      0.64      |      0.55      |\n",
      "|  6   | Target Encoder |    Full data     |        No        |      XgBoost      |      0.63      |      0.59      |\n",
      "|  7   | Target Encoder | Top 275 features |       Yes        | Linear Regression |      0.64      |      0.61      |\n",
      "|  8   | Target Encoder |    Full data     |       Yes        | Linear Regression |      0.64      |      0.61      |\n",
      "|  9   | Target Encoder | Top 275 features |       Yes        |   Decision Tree   |      0.60      |      0.61      |\n",
      "|  10  | Target Encoder |    Full data     |       Yes        |   Decision Tree   |      0.60      |      0.63      |\n",
      "|  11  | Target Encoder | Top 275 features |       Yes        |      XgBoost      |      0.66      |      0.62      |\n",
      "|  12  | Target Encoder |    Full data     |       Yes        |      XgBoost      |      0.65      |      0.61      |\n",
      "|  13  | Label Encoder  | Top 275 features |        No        | Linear Regression |      0.58      |      0.59      |\n",
      "|  14  | Label Encoder  |    Full data     |        No        | Linear Regression |      0.62      |      0.41      |\n",
      "|  15  | Label Encoder  | Top 275 features |        No        |   Decision Tree   |      0.56      |      0.60      |\n",
      "|  16  | Label Encoder  |    Full data     |        No        |   Decision Tree   |      0.60      |      0.46      |\n",
      "|  17  | Label Encoder  | Top 275 features |        No        |      XgBoost      |      0.58      |      0.65      |\n",
      "|  18  | Label Encoder  |    Full data     |        No        |      XgBoost      |      0.58      |      0.65      |\n",
      "|  19  | Label Encoder  | Top 275 features |       Yes        | Linear Regression |      0.62      |      0.59      |\n",
      "|  20  | Label Encoder  |    Full data     |       Yes        | Linear Regression |      0.62      |      0.60      |\n",
      "|  21  | Label Encoder  | Top 275 features |       Yes        |   Decision Tree   |      0.60      |      0.62      |\n",
      "|  22  | Label Encoder  |    Full data     |       Yes        |   Decision Tree   |      0.59      |      0.65      |\n",
      "|  23  | Label Encoder  | Top 275 features |       Yes        |      XgBoost      |      0.64      |      0.62      |\n",
      "|  24  | Label Encoder  |    Full data     |       Yes        |      XgBoost      |      0.65      |      0.62      |\n",
      "+------+----------------+------------------+------------------+-------------------+----------------+----------------+\n"
     ]
    }
   ],
   "source": [
    "print(x)"
   ]
  },
  {
   "cell_type": "code",
   "execution_count": 248,
   "metadata": {},
   "outputs": [
    {
     "data": {
      "text/plain": [
       "Text(0.5, 1.0, 'Submissions on Kaggle')"
      ]
     },
     "execution_count": 248,
     "metadata": {},
     "output_type": "execute_result"
    },
    {
     "data": {
      "image/png": "[encoded data removed]",
      "text/plain": [
       "<Figure size 864x432 with 1 Axes>"
      ]
     },
     "metadata": {
      "needs_background": "light"
     },
     "output_type": "display_data"
    }
   ],
   "source": [
    "plt.figure(figsize=(12,6))\n",
    "x=plt.imread('submissions.PNG')\n",
    "plt.imshow(x)\n",
    "plt.title('Submissions on Kaggle')"
   ]
  },
  {
   "cell_type": "markdown",
   "metadata": {},
   "source": [
    "- The one with highest score is obtained using xgboost on label encoder features with selected features"
   ]
  },
  {
   "cell_type": "markdown",
   "metadata": {},
   "source": [
    "- Xgboost with outliers and label encoded has much high r2 score og 0.65 than other models \n",
    "- Linear regression and Decision trees perform almost equally\n",
    "- SVM with rbf kernel is not fitting on the data so ignoring SVM's\n",
    "- Much hyperparamter tuning of decision trees and Xgboost can increase the models performance\n",
    "- XGboost with label encoding has private Lb score of 0.54990 and public Lb of 0.5560 we can still try increasing the models performance with some more FE and hypertuning"
   ]
  }
 ],
 "metadata": {
  "kernelspec": {
   "display_name": "convenv",
   "language": "python",
   "name": "convenv"
  },
  "language_info": {
   "codemirror_mode": {
    "name": "ipython",
    "version": 3
   },
   "file_extension": ".py",
   "mimetype": "text/x-python",
   "name": "python",
   "nbconvert_exporter": "python",
   "pygments_lexer": "ipython3",
   "version": "3.7.9"
  }
 },
 "nbformat": 4,
 "nbformat_minor": 4
}
