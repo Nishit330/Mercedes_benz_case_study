{
 "cells": [
  {
   "cell_type": "markdown",
   "metadata": {},
   "source": [
    "Using Stacked regression"
   ]
  },
  {
   "cell_type": "code",
   "execution_count": 1,
   "metadata": {},
   "outputs": [],
   "source": [
    "import numpy as np\n",
    "from sklearn.preprocessing import LabelEncoder\n",
    "import xgboost as xgb\n",
    "import pandas as pd\n",
    "from sklearn.linear_model import ElasticNetCV, LassoLarsCV\n",
    "from sklearn.ensemble import GradientBoostingRegressor\n",
    "from sklearn.preprocessing import StandardScaler\n",
    "from sklearn.tree import DecisionTreeRegressor\n",
    "from sklearn.decomposition import PCA\n",
    "from sklearn.metrics import r2_score\n",
    "from sklearn.linear_model import LinearRegression\n",
    "from sklearn.svm import SVR\n",
    "from sklearn.tree import DecisionTreeRegressor\n",
    "from sklearn.linear_model import SGDRegressor,Ridge,Lasso\n",
    "import phik\n",
    "from category_encoders import TargetEncoder\n",
    "from sklearn import preprocessing\n",
    "from sklearn.model_selection import GridSearchCV,RandomizedSearchCV\n",
    "import warnings\n",
    "from sklearn.ensemble import GradientBoostingRegressor,RandomForestRegressor\n",
    "import matplotlib.pyplot as plt\n",
    "from sklearn.model_selection import train_test_split,cross_val_score\n",
    "from mlxtend.regressor import StackingCVRegressor\n",
    "warnings.filterwarnings('ignore')"
   ]
  },
  {
   "cell_type": "markdown",
   "metadata": {},
   "source": [
    "Reading train and test csv files"
   ]
  },
  {
   "cell_type": "code",
   "execution_count": 2,
   "metadata": {},
   "outputs": [],
   "source": [
    "train = pd.read_csv('train.csv')\n",
    "test = pd.read_csv('test.csv')"
   ]
  },
  {
   "cell_type": "markdown",
   "metadata": {},
   "source": [
    "Target variable"
   ]
  },
  {
   "cell_type": "code",
   "execution_count": 3,
   "metadata": {},
   "outputs": [],
   "source": [
    "y = train['y']"
   ]
  },
  {
   "cell_type": "markdown",
   "metadata": {},
   "source": [
    "Corelation matrix of the train data using phik"
   ]
  },
  {
   "cell_type": "code",
   "execution_count": 4,
   "metadata": {},
   "outputs": [
    {
     "name": "stdout",
     "output_type": "stream",
     "text": [
      "interval columns not set, guessing: ['ID', 'y', 'X10', 'X11', 'X12', 'X13', 'X14', 'X15', 'X16', 'X17', 'X18', 'X19', 'X20', 'X21', 'X22', 'X23', 'X24', 'X26', 'X27', 'X28', 'X29', 'X30', 'X31', 'X32', 'X33', 'X34', 'X35', 'X36', 'X37', 'X38', 'X39', 'X40', 'X41', 'X42', 'X43', 'X44', 'X45', 'X46', 'X47', 'X48', 'X49', 'X50', 'X51', 'X52', 'X53', 'X54', 'X55', 'X56', 'X57', 'X58', 'X59', 'X60', 'X61', 'X62', 'X63', 'X64', 'X65', 'X66', 'X67', 'X68', 'X69', 'X70', 'X71', 'X73', 'X74', 'X75', 'X76', 'X77', 'X78', 'X79', 'X80', 'X81', 'X82', 'X83', 'X84', 'X85', 'X86', 'X87', 'X88', 'X89', 'X90', 'X91', 'X92', 'X93', 'X94', 'X95', 'X96', 'X97', 'X98', 'X99', 'X100', 'X101', 'X102', 'X103', 'X104', 'X105', 'X106', 'X107', 'X108', 'X109', 'X110', 'X111', 'X112', 'X113', 'X114', 'X115', 'X116', 'X117', 'X118', 'X119', 'X120', 'X122', 'X123', 'X124', 'X125', 'X126', 'X127', 'X128', 'X129', 'X130', 'X131', 'X132', 'X133', 'X134', 'X135', 'X136', 'X137', 'X138', 'X139', 'X140', 'X141', 'X142', 'X143', 'X144', 'X145', 'X146', 'X147', 'X148', 'X150', 'X151', 'X152', 'X153', 'X154', 'X155', 'X156', 'X157', 'X158', 'X159', 'X160', 'X161', 'X162', 'X163', 'X164', 'X165', 'X166', 'X167', 'X168', 'X169', 'X170', 'X171', 'X172', 'X173', 'X174', 'X175', 'X176', 'X177', 'X178', 'X179', 'X180', 'X181', 'X182', 'X183', 'X184', 'X185', 'X186', 'X187', 'X189', 'X190', 'X191', 'X192', 'X194', 'X195', 'X196', 'X197', 'X198', 'X199', 'X200', 'X201', 'X202', 'X203', 'X204', 'X205', 'X206', 'X207', 'X208', 'X209', 'X210', 'X211', 'X212', 'X213', 'X214', 'X215', 'X216', 'X217', 'X218', 'X219', 'X220', 'X221', 'X222', 'X223', 'X224', 'X225', 'X226', 'X227', 'X228', 'X229', 'X230', 'X231', 'X232', 'X233', 'X234', 'X235', 'X236', 'X237', 'X238', 'X239', 'X240', 'X241', 'X242', 'X243', 'X244', 'X245', 'X246', 'X247', 'X248', 'X249', 'X250', 'X251', 'X252', 'X253', 'X254', 'X255', 'X256', 'X257', 'X258', 'X259', 'X260', 'X261', 'X262', 'X263', 'X264', 'X265', 'X266', 'X267', 'X268', 'X269', 'X270', 'X271', 'X272', 'X273', 'X274', 'X275', 'X276', 'X277', 'X278', 'X279', 'X280', 'X281', 'X282', 'X283', 'X284', 'X285', 'X286', 'X287', 'X288', 'X289', 'X290', 'X291', 'X292', 'X293', 'X294', 'X295', 'X296', 'X297', 'X298', 'X299', 'X300', 'X301', 'X302', 'X304', 'X305', 'X306', 'X307', 'X308', 'X309', 'X310', 'X311', 'X312', 'X313', 'X314', 'X315', 'X316', 'X317', 'X318', 'X319', 'X320', 'X321', 'X322', 'X323', 'X324', 'X325', 'X326', 'X327', 'X328', 'X329', 'X330', 'X331', 'X332', 'X333', 'X334', 'X335', 'X336', 'X337', 'X338', 'X339', 'X340', 'X341', 'X342', 'X343', 'X344', 'X345', 'X346', 'X347', 'X348', 'X349', 'X350', 'X351', 'X352', 'X353', 'X354', 'X355', 'X356', 'X357', 'X358', 'X359', 'X360', 'X361', 'X362', 'X363', 'X364', 'X365', 'X366', 'X367', 'X368', 'X369', 'X370', 'X371', 'X372', 'X373', 'X374', 'X375', 'X376', 'X377', 'X378', 'X379', 'X380', 'X382', 'X383', 'X384', 'X385']\n"
     ]
    }
   ],
   "source": [
    "corelation_mat = train.phik_matrix()"
   ]
  },
  {
   "cell_type": "markdown",
   "metadata": {},
   "source": [
    "#### 1.Label Encoding  categorical features"
   ]
  },
  {
   "cell_type": "code",
   "execution_count": 5,
   "metadata": {},
   "outputs": [],
   "source": [
    "##Categorical columns\n",
    "cat_columns=[]\n",
    "for i in train.columns:\n",
    "    if train[i].dtype =='O' or train[i].dtype =='float64':\n",
    "        cat_columns.append(i)"
   ]
  },
  {
   "cell_type": "markdown",
   "metadata": {},
   "source": [
    "Label encoding features"
   ]
  },
  {
   "cell_type": "code",
   "execution_count": 6,
   "metadata": {},
   "outputs": [],
   "source": [
    "##Categorical train data\n",
    "##Categorical train data\n",
    "cat_train = train[cat_columns]\n",
    "##Categorical test data\n",
    "cat_columns.remove('y')\n",
    "cat_test = test[cat_columns]\n",
    "\n",
    "##Label encoding categorical features\n",
    "for i in cat_columns:\n",
    "    en = LabelEncoder()\n",
    "    en.fit(list(train[i].values)+list(test[i].values))\n",
    "    cat_train[i] = en.transform(train[i])\n",
    "    cat_test[i] = en.transform(test[i])"
   ]
  },
  {
   "cell_type": "markdown",
   "metadata": {},
   "source": [
    "Binary data"
   ]
  },
  {
   "cell_type": "code",
   "execution_count": 7,
   "metadata": {},
   "outputs": [],
   "source": [
    "##Binary data\n",
    "binary_columns=[]\n",
    "for i in train.columns:\n",
    "    if train[i].dtype =='int64':\n",
    "        binary_columns.append(i)\n",
    "binary_train = train[binary_columns]\n",
    "binary_test = test[binary_columns]\n",
    "# binary_train = pd.concat((train['y'],binary_train),axis=1)"
   ]
  },
  {
   "cell_type": "code",
   "execution_count": 8,
   "metadata": {},
   "outputs": [],
   "source": [
    "X1_train = cat_train.drop('y',axis=1)\n",
    "# X1_train = pd.concat([train['y'],X1_train],axis=1)\n",
    "X1_train = pd.concat((cat_train,binary_train),axis=1)\n",
    "X1_test = pd.concat((cat_test,binary_test),axis=1)"
   ]
  },
  {
   "cell_type": "code",
   "execution_count": 9,
   "metadata": {},
   "outputs": [],
   "source": [
    "X =X1_train.drop('y',axis=1)"
   ]
  },
  {
   "cell_type": "markdown",
   "metadata": {},
   "source": [
    "Stack 1 "
   ]
  },
  {
   "cell_type": "code",
   "execution_count": 11,
   "metadata": {},
   "outputs": [],
   "source": [
    "param_grid1={'lasso__alpha': [0.1, 1.0, 10.0],\n",
    "            'ridge__alpha': [0.1, 1.0, 10.0],\n",
    "            'meta_regressor__n_estimators':[200,500],\n",
    "           \"meta_regressor__max_depth\": [2,4,5]}"
   ]
  },
  {
   "cell_type": "code",
   "execution_count": 35,
   "metadata": {},
   "outputs": [],
   "source": [
    "clf = xgb.XGBRegressor(objective='reg:squarederror',n_estimators=500,eta=0.02,max_depth=3)\n",
    "clf1 =Lasso()\n",
    "clf2=Ridge()\n",
    "regre = [clf,clf1,clf2]\n",
    "stack = StackingCVRegressor(regressors=regre,\n",
    "                            meta_regressor=clf, \n",
    "                            use_features_in_secondary=True,cv=5)"
   ]
  },
  {
   "cell_type": "code",
   "execution_count": 27,
   "metadata": {},
   "outputs": [],
   "source": [
    "para = {'max_depth':[2,4,6,8],'n_estimators':[200,300,400,500]}"
   ]
  },
  {
   "cell_type": "code",
   "execution_count": 42,
   "metadata": {},
   "outputs": [],
   "source": [
    "params = {'xgbregressor_max_depth':[2,3,4],\n",
    "            'lasso__alpha': [ 0.5,1.0,1.5],\n",
    "          'ridge__alpha': [ 0.5,1.0,1.5],\n",
    "          'meta_regressor__max_depth': [2,4,5]\n",
    "         }"
   ]
  },
  {
   "cell_type": "code",
   "execution_count": 43,
   "metadata": {},
   "outputs": [
    {
     "data": {
      "text/plain": [
       "GridSearchCV(cv=5,\n",
       "             estimator=StackingCVRegressor(meta_regressor=XGBRegressor(base_score=None,\n",
       "                                                                       booster=None,\n",
       "                                                                       colsample_bylevel=None,\n",
       "                                                                       colsample_bynode=None,\n",
       "                                                                       colsample_bytree=None,\n",
       "                                                                       eta=0.02,\n",
       "                                                                       gamma=None,\n",
       "                                                                       gpu_id=None,\n",
       "                                                                       importance_type='gain',\n",
       "                                                                       interaction_constraints=None,\n",
       "                                                                       learning_rate=None,\n",
       "                                                                       max_delta_step=None,\n",
       "                                                                       max_depth=3,\n",
       "                                                                       min_child_weight=None,\n",
       "                                                                       missing=nan,\n",
       "                                                                       monotone_...\n",
       "                                                                    random_state=None,\n",
       "                                                                    reg_alpha=None,\n",
       "                                                                    reg_lambda=None,\n",
       "                                                                    scale_pos_weight=None,\n",
       "                                                                    subsample=None,\n",
       "                                                                    tree_method=None,\n",
       "                                                                    validate_parameters=None,\n",
       "                                                                    verbosity=None),\n",
       "                                                       Lasso(), Ridge()],\n",
       "                                           use_features_in_secondary=True),\n",
       "             n_jobs=-1,\n",
       "             param_grid={'lasso__alpha': [0.1, 1.0, 10.0],\n",
       "                         'meta_regressor__max_depth': [2, 4, 5],\n",
       "                         'meta_regressor__n_estimators': [200, 500],\n",
       "                         'ridge__alpha': [0.1, 1.0, 10.0]})"
      ]
     },
     "execution_count": 43,
     "metadata": {},
     "output_type": "execute_result"
    }
   ],
   "source": [
    "grid = GridSearchCV(stack,param_grid=param_grid1,cv=5,refit=True,n_jobs=-1)\n",
    "grid.fit(X.values,y)"
   ]
  },
  {
   "cell_type": "code",
   "execution_count": 44,
   "metadata": {},
   "outputs": [
    {
     "data": {
      "text/plain": [
       "0.6034283199470634"
      ]
     },
     "execution_count": 44,
     "metadata": {},
     "output_type": "execute_result"
    }
   ],
   "source": [
    "r2_score(y,grid.best_estimator_.predict(X.values))"
   ]
  },
  {
   "cell_type": "code",
   "execution_count": 45,
   "metadata": {},
   "outputs": [
    {
     "data": {
      "text/plain": [
       "{'lasso__alpha': 1.0,\n",
       " 'meta_regressor__max_depth': 2,\n",
       " 'meta_regressor__n_estimators': 500,\n",
       " 'ridge__alpha': 10.0}"
      ]
     },
     "execution_count": 45,
     "metadata": {},
     "output_type": "execute_result"
    }
   ],
   "source": [
    "grid.best_params_"
   ]
  },
  {
   "cell_type": "code",
   "execution_count": 48,
   "metadata": {},
   "outputs": [],
   "source": [
    "os.mkdir('stacked1')"
   ]
  },
  {
   "cell_type": "code",
   "execution_count": 50,
   "metadata": {},
   "outputs": [],
   "source": [
    "\n",
    "pred = grid.predict(X1_test.values)\n",
    "prediction = pd.DataFrame()\n",
    "prediction['ID'] = test['ID']\n",
    "prediction['y'] = pred\n",
    "prediction.to_csv('stacked1/full_1.csv',index=False)"
   ]
  },
  {
   "cell_type": "code",
   "execution_count": 130,
   "metadata": {},
   "outputs": [
    {
     "data": {
      "text/plain": [
       "<matplotlib.image.AxesImage at 0x245154d9648>"
      ]
     },
     "execution_count": 130,
     "metadata": {},
     "output_type": "execute_result"
    },
    {
     "data": {
      "image/png": "[encoded data removed]",
      "text/plain": [
       "<Figure size 1008x432 with 1 Axes>"
      ]
     },
     "metadata": {
      "needs_background": "light"
     },
     "output_type": "display_data"
    }
   ],
   "source": [
    "plt.figure(figsize=(14,6))\n",
    "x = plt.imread('stacked1/full1.PNG')\n",
    "plt.imshow(x)"
   ]
  },
  {
   "cell_type": "markdown",
   "metadata": {},
   "source": [
    "In this stacked regression XGB,Lasso,Ridge are used as regressors and XGB is used as a meta regressor with grid search and the best score is 0.54760 "
   ]
  },
  {
   "cell_type": "markdown",
   "metadata": {},
   "source": [
    "Stack 2"
   ]
  },
  {
   "cell_type": "code",
   "execution_count": 79,
   "metadata": {},
   "outputs": [],
   "source": [
    "params = {'xgbregressor__max_depth':[2,3,4],\n",
    "            'lasso__alpha': [ 0.1,1.0,10],\n",
    "          'ridge__alpha': [ 0.1,1.0,10],\n",
    "          'meta_regressor__max_depth': [2,4,5]\n",
    "         }"
   ]
  },
  {
   "cell_type": "code",
   "execution_count": 80,
   "metadata": {},
   "outputs": [],
   "source": [
    "clf = xgb.XGBRegressor(objective='reg:squarederror',n_estimators=500,eta=0.02)\n",
    "clf1 =Lasso()\n",
    "clf2=Ridge()\n",
    "meta = xgb.XGBRegressor(objective='reg:squarederror',n_estimators=500,eta=0.02)\n",
    "regre = [clf,clf1,clf2]\n",
    "stack = StackingCVRegressor(regressors=regre,\n",
    "                            meta_regressor=meta, \n",
    "                            use_features_in_secondary=True,cv=5)"
   ]
  },
  {
   "cell_type": "code",
   "execution_count": 81,
   "metadata": {},
   "outputs": [
    {
     "data": {
      "text/plain": [
       "GridSearchCV(cv=5,\n",
       "             estimator=StackingCVRegressor(meta_regressor=XGBRegressor(base_score=None,\n",
       "                                                                       booster=None,\n",
       "                                                                       colsample_bylevel=None,\n",
       "                                                                       colsample_bynode=None,\n",
       "                                                                       colsample_bytree=None,\n",
       "                                                                       eta=0.02,\n",
       "                                                                       gamma=None,\n",
       "                                                                       gpu_id=None,\n",
       "                                                                       importance_type='gain',\n",
       "                                                                       interaction_constraints=None,\n",
       "                                                                       learning_rate=None,\n",
       "                                                                       max_delta_step=None,\n",
       "                                                                       max_depth=None,\n",
       "                                                                       min_child_weight=None,\n",
       "                                                                       missing=nan,\n",
       "                                                                       monoto...\n",
       "                                                                    num_parallel_tree=None,\n",
       "                                                                    random_state=None,\n",
       "                                                                    reg_alpha=None,\n",
       "                                                                    reg_lambda=None,\n",
       "                                                                    scale_pos_weight=None,\n",
       "                                                                    subsample=None,\n",
       "                                                                    tree_method=None,\n",
       "                                                                    validate_parameters=None,\n",
       "                                                                    verbosity=None),\n",
       "                                                       Lasso(), Ridge()],\n",
       "                                           use_features_in_secondary=True),\n",
       "             n_jobs=-1,\n",
       "             param_grid={'lasso__alpha': [0.1, 1.0, 10],\n",
       "                         'meta_regressor__max_depth': [2, 4, 5],\n",
       "                         'ridge__alpha': [0.1, 1.0, 10],\n",
       "                         'xgbregressor__max_depth': [2, 3, 4]})"
      ]
     },
     "execution_count": 81,
     "metadata": {},
     "output_type": "execute_result"
    }
   ],
   "source": [
    "grid = GridSearchCV(stack,param_grid=params,cv=5,refit=True,n_jobs=-1)\n",
    "grid.fit(X.values,y)"
   ]
  },
  {
   "cell_type": "code",
   "execution_count": 83,
   "metadata": {},
   "outputs": [
    {
     "data": {
      "text/plain": [
       "0.5992637789922439"
      ]
     },
     "execution_count": 83,
     "metadata": {},
     "output_type": "execute_result"
    }
   ],
   "source": [
    "r2_score(y,grid.best_estimator_.predict(X.values))"
   ]
  },
  {
   "cell_type": "code",
   "execution_count": 84,
   "metadata": {},
   "outputs": [],
   "source": [
    "best2 = grid.best_estimator_\n",
    "pred = best2.predict(X1_test.values)\n",
    "prediction = pd.DataFrame()\n",
    "prediction['ID'] = test['ID']\n",
    "prediction['y'] = pred\n",
    "prediction.to_csv('stacked1/full_2.csv',index=False)"
   ]
  },
  {
   "cell_type": "code",
   "execution_count": 131,
   "metadata": {},
   "outputs": [
    {
     "data": {
      "text/plain": [
       "<matplotlib.image.AxesImage at 0x245157d1208>"
      ]
     },
     "execution_count": 131,
     "metadata": {},
     "output_type": "execute_result"
    },
    {
     "data": {
      "image/png": "[encoded data removed]",
      "text/plain": [
       "<Figure size 1008x432 with 1 Axes>"
      ]
     },
     "metadata": {
      "needs_background": "light"
     },
     "output_type": "display_data"
    }
   ],
   "source": [
    "plt.figure(figsize=(14,6))\n",
    "x = plt.imread('stacked1/full2.PNG')\n",
    "plt.imshow(x)"
   ]
  },
  {
   "cell_type": "markdown",
   "metadata": {},
   "source": [
    "In this stacked regression XGB,Lasso,Ridge are used as regressors and another XGB is used as a meta regressor with grid search and the best score is 0.54807"
   ]
  },
  {
   "cell_type": "markdown",
   "metadata": {},
   "source": [
    "Stack 3"
   ]
  },
  {
   "cell_type": "code",
   "execution_count": 12,
   "metadata": {},
   "outputs": [],
   "source": [
    "params = {'xgbregressor__max_depth':[2,3,4],\n",
    "            'ridge__alpha': [ 0.1,1.0,10],\n",
    "          'randomforestregressor__max_depth': [2,3,4],\n",
    "          'meta_regressor__max_depth': [2,4,5]\n",
    "         }"
   ]
  },
  {
   "cell_type": "code",
   "execution_count": 13,
   "metadata": {},
   "outputs": [],
   "source": [
    "clf = xgb.XGBRegressor(objective='reg:squarederror',n_estimators=500,eta=0.02)\n",
    "clf1 =RandomForestRegressor(n_estimators=500)\n",
    "clf2=Ridge()\n",
    "meta = xgb.XGBRegressor(objective='reg:squarederror',n_estimators=500,eta=0.02)\n",
    "regre = [clf,clf1,clf2]\n",
    "stack = StackingCVRegressor(regressors=regre,\n",
    "                            meta_regressor=meta, \n",
    "                            use_features_in_secondary=True,cv=5)"
   ]
  },
  {
   "cell_type": "code",
   "execution_count": 14,
   "metadata": {},
   "outputs": [
    {
     "data": {
      "text/plain": [
       "GridSearchCV(cv=5,\n",
       "             estimator=StackingCVRegressor(meta_regressor=XGBRegressor(base_score=None,\n",
       "                                                                       booster=None,\n",
       "                                                                       colsample_bylevel=None,\n",
       "                                                                       colsample_bynode=None,\n",
       "                                                                       colsample_bytree=None,\n",
       "                                                                       eta=0.02,\n",
       "                                                                       gamma=None,\n",
       "                                                                       gpu_id=None,\n",
       "                                                                       importance_type='gain',\n",
       "                                                                       interaction_constraints=None,\n",
       "                                                                       learning_rate=None,\n",
       "                                                                       max_delta_step=None,\n",
       "                                                                       max_depth=None,\n",
       "                                                                       min_child_weight=None,\n",
       "                                                                       missing=nan,\n",
       "                                                                       monoto...\n",
       "                                                                    reg_lambda=None,\n",
       "                                                                    scale_pos_weight=None,\n",
       "                                                                    subsample=None,\n",
       "                                                                    tree_method=None,\n",
       "                                                                    validate_parameters=None,\n",
       "                                                                    verbosity=None),\n",
       "                                                       RandomForestRegressor(n_estimators=500),\n",
       "                                                       Ridge()],\n",
       "                                           use_features_in_secondary=True),\n",
       "             n_jobs=-1,\n",
       "             param_grid={'meta_regressor__max_depth': [2, 4, 5],\n",
       "                         'randomforestregressor__max_depth': [2, 3, 4],\n",
       "                         'ridge__alpha': [0.1, 1.0, 10],\n",
       "                         'xgbregressor__max_depth': [2, 3, 4]})"
      ]
     },
     "execution_count": 14,
     "metadata": {},
     "output_type": "execute_result"
    }
   ],
   "source": [
    "grid = GridSearchCV(stack,param_grid=params,cv=5,refit=True,n_jobs=-1)\n",
    "grid.fit(X.values,y)"
   ]
  },
  {
   "cell_type": "code",
   "execution_count": 15,
   "metadata": {},
   "outputs": [
    {
     "data": {
      "text/plain": [
       "0.6016262599483606"
      ]
     },
     "execution_count": 15,
     "metadata": {},
     "output_type": "execute_result"
    }
   ],
   "source": [
    "r2_score(y,grid.best_estimator_.predict(X.values))"
   ]
  },
  {
   "cell_type": "code",
   "execution_count": 16,
   "metadata": {},
   "outputs": [],
   "source": [
    "best2 = grid.best_estimator_\n",
    "pred = best2.predict(X1_test.values)\n",
    "prediction = pd.DataFrame()\n",
    "prediction['ID'] = test['ID']\n",
    "prediction['y'] = pred\n",
    "prediction.to_csv('stacked1/full_3.csv',index=False)"
   ]
  },
  {
   "cell_type": "code",
   "execution_count": 17,
   "metadata": {},
   "outputs": [
    {
     "data": {
      "text/plain": [
       "{'meta_regressor__max_depth': 2,\n",
       " 'randomforestregressor__max_depth': 4,\n",
       " 'ridge__alpha': 1.0,\n",
       " 'xgbregressor__max_depth': 2}"
      ]
     },
     "execution_count": 17,
     "metadata": {},
     "output_type": "execute_result"
    }
   ],
   "source": [
    "grid.best_params_"
   ]
  },
  {
   "cell_type": "code",
   "execution_count": 133,
   "metadata": {},
   "outputs": [
    {
     "data": {
      "text/plain": [
       "<matplotlib.image.AxesImage at 0x2451553b5c8>"
      ]
     },
     "execution_count": 133,
     "metadata": {},
     "output_type": "execute_result"
    },
    {
     "data": {
      "image/png": "[encoded data removed]",
      "text/plain": [
       "<Figure size 1008x432 with 1 Axes>"
      ]
     },
     "metadata": {
      "needs_background": "light"
     },
     "output_type": "display_data"
    }
   ],
   "source": [
    "plt.figure(figsize=(14,6))\n",
    "x = plt.imread('stacked1/full3.PNG')\n",
    "plt.imshow(x)"
   ]
  },
  {
   "cell_type": "markdown",
   "metadata": {},
   "source": [
    "In this stacked regression XGB,Random forest,Ridge are used as regressors and XGB is used as a meta regressor with grid search and the best score is 0.54816 "
   ]
  },
  {
   "cell_type": "markdown",
   "metadata": {},
   "source": [
    "Stack 4"
   ]
  },
  {
   "cell_type": "code",
   "execution_count": 19,
   "metadata": {},
   "outputs": [],
   "source": [
    "params = {'xgbregressor__max_depth':[2,3,4],\n",
    "            'ridge__alpha': [ 0.1,1.0,10],\n",
    "          'lasso__alpha':[0,1,1,10],\n",
    "          'randomforestregressor__max_depth': [2,3,4],\n",
    "          'meta_regressor__max_depth': [2,4,5]\n",
    "         }"
   ]
  },
  {
   "cell_type": "code",
   "execution_count": 21,
   "metadata": {},
   "outputs": [],
   "source": [
    "clf = xgb.XGBRegressor(objective='reg:squarederror',n_estimators=500,eta=0.02)\n",
    "clf1 =RandomForestRegressor(n_estimators=500)\n",
    "clf2=Ridge()\n",
    "clf3 = Lasso()\n",
    "meta = xgb.XGBRegressor(objective='reg:squarederror',n_estimators=500,eta=0.02)\n",
    "regre = [clf,clf1,clf2,clf3]\n",
    "stack = StackingCVRegressor(regressors=regre,\n",
    "                            meta_regressor=meta, \n",
    "                            use_features_in_secondary=True,cv=5)"
   ]
  },
  {
   "cell_type": "code",
   "execution_count": 22,
   "metadata": {},
   "outputs": [
    {
     "name": "stdout",
     "output_type": "stream",
     "text": [
      "Fitting 5 folds for each of 324 candidates, totalling 1620 fits\n"
     ]
    },
    {
     "name": "stderr",
     "output_type": "stream",
     "text": [
      "[Parallel(n_jobs=-1)]: Using backend LokyBackend with 12 concurrent workers.\n",
      "[Parallel(n_jobs=-1)]: Done  26 tasks      | elapsed: 12.4min\n",
      "[Parallel(n_jobs=-1)]: Done 176 tasks      | elapsed: 65.9min\n",
      "[Parallel(n_jobs=-1)]: Done 426 tasks      | elapsed: 156.3min\n",
      "[Parallel(n_jobs=-1)]: Done 776 tasks      | elapsed: 274.7min\n",
      "[Parallel(n_jobs=-1)]: Done 1226 tasks      | elapsed: 428.2min\n",
      "[Parallel(n_jobs=-1)]: Done 1620 out of 1620 | elapsed: 559.6min finished\n"
     ]
    },
    {
     "data": {
      "text/plain": [
       "GridSearchCV(cv=5,\n",
       "             estimator=StackingCVRegressor(meta_regressor=XGBRegressor(base_score=None,\n",
       "                                                                       booster=None,\n",
       "                                                                       colsample_bylevel=None,\n",
       "                                                                       colsample_bynode=None,\n",
       "                                                                       colsample_bytree=None,\n",
       "                                                                       eta=0.02,\n",
       "                                                                       gamma=None,\n",
       "                                                                       gpu_id=None,\n",
       "                                                                       importance_type='gain',\n",
       "                                                                       interaction_constraints=None,\n",
       "                                                                       learning_rate=None,\n",
       "                                                                       max_delta_step=None,\n",
       "                                                                       max_depth=None,\n",
       "                                                                       min_child_weight=None,\n",
       "                                                                       missing=nan,\n",
       "                                                                       monoto...\n",
       "                                                                    subsample=None,\n",
       "                                                                    tree_method=None,\n",
       "                                                                    validate_parameters=None,\n",
       "                                                                    verbosity=None),\n",
       "                                                       RandomForestRegressor(n_estimators=500),\n",
       "                                                       Ridge(), Lasso()],\n",
       "                                           use_features_in_secondary=True),\n",
       "             n_jobs=-1,\n",
       "             param_grid={'lasso__alpha': [0, 1, 1, 10],\n",
       "                         'meta_regressor__max_depth': [2, 4, 5],\n",
       "                         'randomforestregressor__max_depth': [2, 3, 4],\n",
       "                         'ridge__alpha': [0.1, 1.0, 10],\n",
       "                         'xgbregressor__max_depth': [2, 3, 4]},\n",
       "             verbose=1)"
      ]
     },
     "execution_count": 22,
     "metadata": {},
     "output_type": "execute_result"
    }
   ],
   "source": [
    "grid = GridSearchCV(stack,param_grid=params,cv=5,refit=True,n_jobs=-1,verbose=1)\n",
    "grid.fit(X.values,y)"
   ]
  },
  {
   "cell_type": "code",
   "execution_count": 23,
   "metadata": {},
   "outputs": [
    {
     "data": {
      "text/plain": [
       "0.6012045424210005"
      ]
     },
     "execution_count": 23,
     "metadata": {},
     "output_type": "execute_result"
    }
   ],
   "source": [
    "r2_score(y,grid.best_estimator_.predict(X.values))"
   ]
  },
  {
   "cell_type": "code",
   "execution_count": 24,
   "metadata": {},
   "outputs": [],
   "source": [
    "best2 = grid.best_estimator_\n",
    "pred = best2.predict(X1_test.values)\n",
    "prediction = pd.DataFrame()\n",
    "prediction['ID'] = test['ID']\n",
    "prediction['y'] = pred\n",
    "prediction.to_csv('stacked1/full_4.csv',index=False)"
   ]
  },
  {
   "cell_type": "code",
   "execution_count": 134,
   "metadata": {},
   "outputs": [
    {
     "data": {
      "text/plain": [
       "<matplotlib.image.AxesImage at 0x245155fdb08>"
      ]
     },
     "execution_count": 134,
     "metadata": {},
     "output_type": "execute_result"
    },
    {
     "data": {
      "image/png": "[encoded data removed]",
      "text/plain": [
       "<Figure size 1008x432 with 1 Axes>"
      ]
     },
     "metadata": {
      "needs_background": "light"
     },
     "output_type": "display_data"
    }
   ],
   "source": [
    "plt.figure(figsize=(14,6))\n",
    "x = plt.imread('stacked1/full4.PNG')\n",
    "plt.imshow(x)"
   ]
  },
  {
   "cell_type": "markdown",
   "metadata": {},
   "source": [
    "In this stacked regression XGB,Random forest,Ridge,Lasso are used as regressors and XGB is used as a meta regressor with grid search and the best score is 0.54704 "
   ]
  },
  {
   "cell_type": "markdown",
   "metadata": {},
   "source": [
    "Stack 5"
   ]
  },
  {
   "cell_type": "code",
   "execution_count": 12,
   "metadata": {},
   "outputs": [],
   "source": [
    "params = {\n",
    "            'ridge__alpha': [ 0.1,1.0,10],\n",
    "          'lasso__alpha':[0,1,10],\n",
    "          'randomforestregressor__max_depth': [2,3,4],\n",
    "          'meta_regressor__max_depth': [2,4,5]\n",
    "         }"
   ]
  },
  {
   "cell_type": "code",
   "execution_count": 13,
   "metadata": {},
   "outputs": [],
   "source": [
    "clf = LinearRegression()\n",
    "clf1 =RandomForestRegressor(n_estimators=500)\n",
    "clf2=Ridge()\n",
    "clf3 = Lasso()\n",
    "meta = xgb.XGBRegressor(objective='reg:squarederror',n_estimators=500,eta=0.02)\n",
    "regre = [clf,clf1,clf2,clf3]\n",
    "stack = StackingCVRegressor(regressors=regre,\n",
    "                            meta_regressor=meta, \n",
    "                            use_features_in_secondary=True,cv=5)"
   ]
  },
  {
   "cell_type": "code",
   "execution_count": 14,
   "metadata": {
    "scrolled": false
   },
   "outputs": [
    {
     "name": "stdout",
     "output_type": "stream",
     "text": [
      "Fitting 4 folds for each of 81 candidates, totalling 324 fits\n"
     ]
    },
    {
     "name": "stderr",
     "output_type": "stream",
     "text": [
      "[Parallel(n_jobs=-1)]: Using backend LokyBackend with 12 concurrent workers.\n",
      "[Parallel(n_jobs=-1)]: Done  48 tasks      | elapsed: 15.1min\n",
      "[Parallel(n_jobs=-1)]: Done 138 tasks      | elapsed: 41.4min\n",
      "[Parallel(n_jobs=-1)]: Done 264 tasks      | elapsed: 73.3min\n",
      "[Parallel(n_jobs=-1)]: Done 324 out of 324 | elapsed: 87.6min finished\n"
     ]
    },
    {
     "data": {
      "text/plain": [
       "GridSearchCV(cv=4,\n",
       "             estimator=StackingCVRegressor(meta_regressor=XGBRegressor(base_score=None,\n",
       "                                                                       booster=None,\n",
       "                                                                       colsample_bylevel=None,\n",
       "                                                                       colsample_bynode=None,\n",
       "                                                                       colsample_bytree=None,\n",
       "                                                                       eta=0.02,\n",
       "                                                                       gamma=None,\n",
       "                                                                       gpu_id=None,\n",
       "                                                                       importance_type='gain',\n",
       "                                                                       interaction_constraints=None,\n",
       "                                                                       learning_rate=None,\n",
       "                                                                       max_delta_step=None,\n",
       "                                                                       max_depth=None,\n",
       "                                                                       min_child_weight=None,\n",
       "                                                                       missing=nan,\n",
       "                                                                       monoto...\n",
       "                                                                       subsample=None,\n",
       "                                                                       tree_method=None,\n",
       "                                                                       validate_parameters=None,\n",
       "                                                                       verbosity=None),\n",
       "                                           regressors=[LinearRegression(),\n",
       "                                                       RandomForestRegressor(n_estimators=500),\n",
       "                                                       Ridge(), Lasso()],\n",
       "                                           use_features_in_secondary=True),\n",
       "             n_jobs=-1,\n",
       "             param_grid={'lasso__alpha': [0, 1, 10],\n",
       "                         'meta_regressor__max_depth': [2, 4, 5],\n",
       "                         'randomforestregressor__max_depth': [2, 3, 4],\n",
       "                         'ridge__alpha': [0.1, 1.0, 10]},\n",
       "             verbose=5)"
      ]
     },
     "execution_count": 14,
     "metadata": {},
     "output_type": "execute_result"
    }
   ],
   "source": [
    "grid = GridSearchCV(stack,param_grid=params,cv=4,refit=True,n_jobs=-1,verbose=5)\n",
    "grid.fit(X.values,y)"
   ]
  },
  {
   "cell_type": "code",
   "execution_count": 15,
   "metadata": {},
   "outputs": [
    {
     "data": {
      "text/plain": [
       "0.5986918297969405"
      ]
     },
     "execution_count": 15,
     "metadata": {},
     "output_type": "execute_result"
    }
   ],
   "source": [
    "r2_score(y,grid.best_estimator_.predict(X.values))"
   ]
  },
  {
   "cell_type": "code",
   "execution_count": 16,
   "metadata": {},
   "outputs": [],
   "source": [
    "best2 = grid.best_estimator_\n",
    "pred = best2.predict(X1_test.values)\n",
    "prediction = pd.DataFrame()\n",
    "prediction['ID'] = test['ID']\n",
    "prediction['y'] = pred\n",
    "prediction.to_csv('stacked1/full_5.csv',index=False)"
   ]
  },
  {
   "cell_type": "code",
   "execution_count": 3,
   "metadata": {},
   "outputs": [
    {
     "data": {
      "text/plain": [
       "<matplotlib.image.AxesImage at 0x1863a006c88>"
      ]
     },
     "execution_count": 3,
     "metadata": {},
     "output_type": "execute_result"
    },
    {
     "data": {
      "image/png": "[encoded data removed]",
      "text/plain": [
       "<Figure size 1008x432 with 1 Axes>"
      ]
     },
     "metadata": {
      "needs_background": "light"
     },
     "output_type": "display_data"
    }
   ],
   "source": [
    "plt.figure(figsize=(14,6))\n",
    "x = plt.imread('stacked1/full5.PNG')\n",
    "plt.imshow(x)"
   ]
  },
  {
   "cell_type": "markdown",
   "metadata": {},
   "source": [
    "In this stacked regression Linear ,Random forest,Ridge,Lasso are used as regressors and XGB is used as a meta regressor with grid search and the best score is 0.54873"
   ]
  },
  {
   "cell_type": "markdown",
   "metadata": {},
   "source": [
    "Stack 6"
   ]
  },
  {
   "cell_type": "code",
   "execution_count": 18,
   "metadata": {},
   "outputs": [],
   "source": [
    "params = {\n",
    "            'svr__C': [ 0.1,1.0,10],\n",
    "          'lasso__alpha':[0,1,10],\n",
    "          'randomforestregressor__max_depth': [2,3,4],\n",
    "          'meta_regressor__max_depth': [2,4,5]\n",
    "         }"
   ]
  },
  {
   "cell_type": "code",
   "execution_count": 19,
   "metadata": {},
   "outputs": [],
   "source": [
    "clf = LinearRegression()\n",
    "clf1 =RandomForestRegressor(n_estimators=500)\n",
    "clf2=SVR()\n",
    "clf3 = Lasso()\n",
    "meta = xgb.XGBRegressor(objective='reg:squarederror',n_estimators=500,eta=0.02)\n",
    "regre = [clf,clf1,clf2,clf3]\n",
    "stack = StackingCVRegressor(regressors=regre,\n",
    "                            meta_regressor=meta, \n",
    "                            use_features_in_secondary=True,cv=5)"
   ]
  },
  {
   "cell_type": "code",
   "execution_count": 20,
   "metadata": {},
   "outputs": [
    {
     "name": "stdout",
     "output_type": "stream",
     "text": [
      "Fitting 4 folds for each of 81 candidates, totalling 324 fits\n"
     ]
    },
    {
     "name": "stderr",
     "output_type": "stream",
     "text": [
      "[Parallel(n_jobs=-1)]: Using backend LokyBackend with 12 concurrent workers.\n",
      "[Parallel(n_jobs=-1)]: Done  48 tasks      | elapsed: 22.1min\n",
      "[Parallel(n_jobs=-1)]: Done 138 tasks      | elapsed: 58.4min\n",
      "[Parallel(n_jobs=-1)]: Done 264 tasks      | elapsed: 102.7min\n",
      "[Parallel(n_jobs=-1)]: Done 324 out of 324 | elapsed: 123.6min finished\n"
     ]
    },
    {
     "data": {
      "text/plain": [
       "GridSearchCV(cv=4,\n",
       "             estimator=StackingCVRegressor(meta_regressor=XGBRegressor(base_score=None,\n",
       "                                                                       booster=None,\n",
       "                                                                       colsample_bylevel=None,\n",
       "                                                                       colsample_bynode=None,\n",
       "                                                                       colsample_bytree=None,\n",
       "                                                                       eta=0.02,\n",
       "                                                                       gamma=None,\n",
       "                                                                       gpu_id=None,\n",
       "                                                                       importance_type='gain',\n",
       "                                                                       interaction_constraints=None,\n",
       "                                                                       learning_rate=None,\n",
       "                                                                       max_delta_step=None,\n",
       "                                                                       max_depth=None,\n",
       "                                                                       min_child_weight=None,\n",
       "                                                                       missing=nan,\n",
       "                                                                       monoto...\n",
       "                                                                       scale_pos_weight=None,\n",
       "                                                                       subsample=None,\n",
       "                                                                       tree_method=None,\n",
       "                                                                       validate_parameters=None,\n",
       "                                                                       verbosity=None),\n",
       "                                           regressors=[LinearRegression(),\n",
       "                                                       RandomForestRegressor(n_estimators=500),\n",
       "                                                       SVR(), Lasso()],\n",
       "                                           use_features_in_secondary=True),\n",
       "             n_jobs=-1,\n",
       "             param_grid={'lasso__alpha': [0, 1, 10],\n",
       "                         'meta_regressor__max_depth': [2, 4, 5],\n",
       "                         'randomforestregressor__max_depth': [2, 3, 4],\n",
       "                         'svr__C': [0.1, 1.0, 10]},\n",
       "             verbose=5)"
      ]
     },
     "execution_count": 20,
     "metadata": {},
     "output_type": "execute_result"
    }
   ],
   "source": [
    "grid = GridSearchCV(stack,param_grid=params,cv=4,refit=True,n_jobs=-1,verbose=5)\n",
    "grid.fit(X.values,y)"
   ]
  },
  {
   "cell_type": "code",
   "execution_count": 21,
   "metadata": {},
   "outputs": [
    {
     "data": {
      "text/plain": [
       "0.5939631179884336"
      ]
     },
     "execution_count": 21,
     "metadata": {},
     "output_type": "execute_result"
    }
   ],
   "source": [
    "r2_score(y,grid.best_estimator_.predict(X.values))"
   ]
  },
  {
   "cell_type": "code",
   "execution_count": 22,
   "metadata": {},
   "outputs": [],
   "source": [
    "best2 = grid.best_estimator_\n",
    "pred = best2.predict(X1_test.values)\n",
    "prediction = pd.DataFrame()\n",
    "prediction['ID'] = test['ID']\n",
    "prediction['y'] = pred\n",
    "prediction.to_csv('stacked1/full_6.csv',index=False)"
   ]
  },
  {
   "cell_type": "code",
   "execution_count": 137,
   "metadata": {},
   "outputs": [
    {
     "data": {
      "text/plain": [
       "<matplotlib.image.AxesImage at 0x24517164d48>"
      ]
     },
     "execution_count": 137,
     "metadata": {},
     "output_type": "execute_result"
    },
    {
     "data": {
      "image/png": "[encoded data removed]",
      "text/plain": [
       "<Figure size 1008x432 with 1 Axes>"
      ]
     },
     "metadata": {
      "needs_background": "light"
     },
     "output_type": "display_data"
    }
   ],
   "source": [
    "plt.figure(figsize=(14,6))\n",
    "x = plt.imread('stacked1/full6.PNG')\n",
    "plt.imshow(x)"
   ]
  },
  {
   "cell_type": "markdown",
   "metadata": {},
   "source": [
    "In this stacked regression Linear,Random forest,SVR,Lasso are used as regressors and XGB is used as a meta regressor with grid search and the best score is 0.54788"
   ]
  },
  {
   "cell_type": "markdown",
   "metadata": {},
   "source": [
    "Stack 7"
   ]
  },
  {
   "cell_type": "code",
   "execution_count": 23,
   "metadata": {},
   "outputs": [],
   "source": [
    "params = {\n",
    "            'svr__C': [ 0.1,1.0,10],\n",
    "          'xgbregressor__max_depth':[2,3,4],\n",
    "          'randomforestregressor__max_depth': [2,3,4],\n",
    "          'meta_regressor__max_depth': [2,4,5]\n",
    "         }"
   ]
  },
  {
   "cell_type": "code",
   "execution_count": 24,
   "metadata": {},
   "outputs": [],
   "source": [
    "clf = xgb.XGBRegressor(objective='reg:squarederror',n_estimators=500,eta=0.02)\n",
    "clf1 =RandomForestRegressor(n_estimators=500)\n",
    "clf2=SVR()\n",
    "# clf3 = Lasso()\n",
    "meta = xgb.XGBRegressor(objective='reg:squarederror',n_estimators=500,eta=0.02)\n",
    "regre = [clf,clf1,clf2]\n",
    "stack = StackingCVRegressor(regressors=regre,\n",
    "                            meta_regressor=meta, \n",
    "                            use_features_in_secondary=True,cv=5)"
   ]
  },
  {
   "cell_type": "code",
   "execution_count": 25,
   "metadata": {},
   "outputs": [
    {
     "name": "stdout",
     "output_type": "stream",
     "text": [
      "Fitting 4 folds for each of 81 candidates, totalling 324 fits\n"
     ]
    },
    {
     "name": "stderr",
     "output_type": "stream",
     "text": [
      "[Parallel(n_jobs=-1)]: Using backend LokyBackend with 12 concurrent workers.\n",
      "[Parallel(n_jobs=-1)]: Done  48 tasks      | elapsed: 22.4min\n",
      "[Parallel(n_jobs=-1)]: Done 138 tasks      | elapsed: 61.9min\n",
      "[Parallel(n_jobs=-1)]: Done 264 tasks      | elapsed: 124.5min\n",
      "[Parallel(n_jobs=-1)]: Done 324 out of 324 | elapsed: 151.4min finished\n"
     ]
    },
    {
     "data": {
      "text/plain": [
       "GridSearchCV(cv=4,\n",
       "             estimator=StackingCVRegressor(meta_regressor=XGBRegressor(base_score=None,\n",
       "                                                                       booster=None,\n",
       "                                                                       colsample_bylevel=None,\n",
       "                                                                       colsample_bynode=None,\n",
       "                                                                       colsample_bytree=None,\n",
       "                                                                       eta=0.02,\n",
       "                                                                       gamma=None,\n",
       "                                                                       gpu_id=None,\n",
       "                                                                       importance_type='gain',\n",
       "                                                                       interaction_constraints=None,\n",
       "                                                                       learning_rate=None,\n",
       "                                                                       max_delta_step=None,\n",
       "                                                                       max_depth=None,\n",
       "                                                                       min_child_weight=None,\n",
       "                                                                       missing=nan,\n",
       "                                                                       monoto...\n",
       "                                                                    reg_lambda=None,\n",
       "                                                                    scale_pos_weight=None,\n",
       "                                                                    subsample=None,\n",
       "                                                                    tree_method=None,\n",
       "                                                                    validate_parameters=None,\n",
       "                                                                    verbosity=None),\n",
       "                                                       RandomForestRegressor(n_estimators=500),\n",
       "                                                       SVR()],\n",
       "                                           use_features_in_secondary=True),\n",
       "             n_jobs=-1,\n",
       "             param_grid={'meta_regressor__max_depth': [2, 4, 5],\n",
       "                         'randomforestregressor__max_depth': [2, 3, 4],\n",
       "                         'svr__C': [0.1, 1.0, 10],\n",
       "                         'xgbregressor__max_depth': [2, 3, 4]},\n",
       "             verbose=5)"
      ]
     },
     "execution_count": 25,
     "metadata": {},
     "output_type": "execute_result"
    }
   ],
   "source": [
    "grid = GridSearchCV(stack,param_grid=params,cv=4,refit=True,n_jobs=-1,verbose=5)\n",
    "grid.fit(X.values,y)"
   ]
  },
  {
   "cell_type": "code",
   "execution_count": 26,
   "metadata": {},
   "outputs": [
    {
     "data": {
      "text/plain": [
       "0.5969768405130293"
      ]
     },
     "execution_count": 26,
     "metadata": {},
     "output_type": "execute_result"
    }
   ],
   "source": [
    "r2_score(y,grid.best_estimator_.predict(X.values))"
   ]
  },
  {
   "cell_type": "code",
   "execution_count": 27,
   "metadata": {},
   "outputs": [],
   "source": [
    "best2 = grid.best_estimator_\n",
    "pred = best2.predict(X1_test.values)\n",
    "prediction = pd.DataFrame()\n",
    "prediction['ID'] = test['ID']\n",
    "prediction['y'] = pred\n",
    "prediction.to_csv('stacked1/full_7.csv',index=False)"
   ]
  },
  {
   "cell_type": "code",
   "execution_count": 138,
   "metadata": {},
   "outputs": [
    {
     "data": {
      "text/plain": [
       "<matplotlib.image.AxesImage at 0x24517212688>"
      ]
     },
     "execution_count": 138,
     "metadata": {},
     "output_type": "execute_result"
    },
    {
     "data": {
      "image/png": "[encoded data removed]",
      "text/plain": [
       "<Figure size 1008x432 with 1 Axes>"
      ]
     },
     "metadata": {
      "needs_background": "light"
     },
     "output_type": "display_data"
    }
   ],
   "source": [
    "plt.figure(figsize=(14,6))\n",
    "x = plt.imread('stacked1/full7.PNG')\n",
    "plt.imshow(x)"
   ]
  },
  {
   "cell_type": "markdown",
   "metadata": {},
   "source": [
    "In this stacked regression XGB,Random forest,SVR are used as regressors and XGB is used as a meta regressor with grid search and the best score is 0.54856"
   ]
  },
  {
   "cell_type": "markdown",
   "metadata": {},
   "source": [
    "Stack 8"
   ]
  },
  {
   "cell_type": "code",
   "execution_count": 28,
   "metadata": {},
   "outputs": [],
   "source": [
    "params = {\n",
    "            'svr__C': [ 0.1,1.0,10],\n",
    "          'randomforestregressor__max_depth': [2,3,4],\n",
    "          'meta_regressor__max_depth': [2,4,5]\n",
    "         }"
   ]
  },
  {
   "cell_type": "code",
   "execution_count": 29,
   "metadata": {},
   "outputs": [],
   "source": [
    "clf = LinearRegression()\n",
    "clf1 =RandomForestRegressor(n_estimators=500)\n",
    "clf2=SVR()\n",
    "# clf3 = Lasso()\n",
    "meta = xgb.XGBRegressor(objective='reg:squarederror',n_estimators=500,eta=0.02)\n",
    "regre = [clf,clf1,clf2]\n",
    "stack = StackingCVRegressor(regressors=regre,\n",
    "                            meta_regressor=meta, \n",
    "                            use_features_in_secondary=True,cv=5)"
   ]
  },
  {
   "cell_type": "code",
   "execution_count": 30,
   "metadata": {},
   "outputs": [
    {
     "name": "stdout",
     "output_type": "stream",
     "text": [
      "Fitting 4 folds for each of 27 candidates, totalling 108 fits\n"
     ]
    },
    {
     "name": "stderr",
     "output_type": "stream",
     "text": [
      "[Parallel(n_jobs=-1)]: Using backend LokyBackend with 12 concurrent workers.\n",
      "[Parallel(n_jobs=-1)]: Done  48 tasks      | elapsed: 19.9min\n",
      "[Parallel(n_jobs=-1)]: Done 108 out of 108 | elapsed: 41.0min finished\n"
     ]
    },
    {
     "data": {
      "text/plain": [
       "GridSearchCV(cv=4,\n",
       "             estimator=StackingCVRegressor(meta_regressor=XGBRegressor(base_score=None,\n",
       "                                                                       booster=None,\n",
       "                                                                       colsample_bylevel=None,\n",
       "                                                                       colsample_bynode=None,\n",
       "                                                                       colsample_bytree=None,\n",
       "                                                                       eta=0.02,\n",
       "                                                                       gamma=None,\n",
       "                                                                       gpu_id=None,\n",
       "                                                                       importance_type='gain',\n",
       "                                                                       interaction_constraints=None,\n",
       "                                                                       learning_rate=None,\n",
       "                                                                       max_delta_step=None,\n",
       "                                                                       max_depth=None,\n",
       "                                                                       min_child_weight=None,\n",
       "                                                                       missing=nan,\n",
       "                                                                       monoto...\n",
       "                                                                       reg_lambda=None,\n",
       "                                                                       scale_pos_weight=None,\n",
       "                                                                       subsample=None,\n",
       "                                                                       tree_method=None,\n",
       "                                                                       validate_parameters=None,\n",
       "                                                                       verbosity=None),\n",
       "                                           regressors=[LinearRegression(),\n",
       "                                                       RandomForestRegressor(n_estimators=500),\n",
       "                                                       SVR()],\n",
       "                                           use_features_in_secondary=True),\n",
       "             n_jobs=-1,\n",
       "             param_grid={'meta_regressor__max_depth': [2, 4, 5],\n",
       "                         'randomforestregressor__max_depth': [2, 3, 4],\n",
       "                         'svr__C': [0.1, 1.0, 10]},\n",
       "             verbose=5)"
      ]
     },
     "execution_count": 30,
     "metadata": {},
     "output_type": "execute_result"
    }
   ],
   "source": [
    "grid = GridSearchCV(stack,param_grid=params,cv=4,refit=True,n_jobs=-1,verbose=5)\n",
    "grid.fit(X.values,y)"
   ]
  },
  {
   "cell_type": "code",
   "execution_count": 31,
   "metadata": {},
   "outputs": [
    {
     "data": {
      "text/plain": [
       "0.5961026410638604"
      ]
     },
     "execution_count": 31,
     "metadata": {},
     "output_type": "execute_result"
    }
   ],
   "source": [
    "r2_score(y,grid.best_estimator_.predict(X.values))"
   ]
  },
  {
   "cell_type": "code",
   "execution_count": 32,
   "metadata": {},
   "outputs": [],
   "source": [
    "best2 = grid.best_estimator_\n",
    "pred = best2.predict(X1_test.values)\n",
    "prediction = pd.DataFrame()\n",
    "prediction['ID'] = test['ID']\n",
    "prediction['y'] = pred\n",
    "prediction.to_csv('stacked1/full_8.csv',index=False)"
   ]
  },
  {
   "cell_type": "code",
   "execution_count": 139,
   "metadata": {},
   "outputs": [
    {
     "data": {
      "text/plain": [
       "<matplotlib.image.AxesImage at 0x245172bc408>"
      ]
     },
     "execution_count": 139,
     "metadata": {},
     "output_type": "execute_result"
    },
    {
     "data": {
      "image/png": "[encoded data removed]",
      "text/plain": [
       "<Figure size 1008x432 with 1 Axes>"
      ]
     },
     "metadata": {
      "needs_background": "light"
     },
     "output_type": "display_data"
    }
   ],
   "source": [
    "plt.figure(figsize=(14,6))\n",
    "x = plt.imread('stacked1/full8.PNG')\n",
    "plt.imshow(x)"
   ]
  },
  {
   "cell_type": "markdown",
   "metadata": {},
   "source": [
    "In this stacked regression Linear,Random forest,SVR are used as regressors and XGB is used as a meta regressor with grid search and the best score is 0.54659"
   ]
  },
  {
   "cell_type": "markdown",
   "metadata": {},
   "source": [
    "Stack 9"
   ]
  },
  {
   "cell_type": "code",
   "execution_count": 35,
   "metadata": {},
   "outputs": [],
   "source": [
    "params = {\n",
    "            'lasso__alpha': [0.1,1.0,10,15],\n",
    "          'randomforestregressor__max_depth': [2,3,4,5],\n",
    "          'meta_regressor__max_depth': [2,4,5,6]\n",
    "         }"
   ]
  },
  {
   "cell_type": "code",
   "execution_count": 36,
   "metadata": {},
   "outputs": [],
   "source": [
    "clf = LinearRegression()\n",
    "clf1 =RandomForestRegressor(n_estimators=500)\n",
    "clf3 = Lasso()\n",
    "meta = xgb.XGBRegressor(objective='reg:squarederror',n_estimators=500,eta=0.02)\n",
    "regre = [clf,clf1,clf3]\n",
    "stack = StackingCVRegressor(regressors=regre,\n",
    "                            meta_regressor=meta, \n",
    "                            use_features_in_secondary=True,cv=5)"
   ]
  },
  {
   "cell_type": "code",
   "execution_count": 37,
   "metadata": {},
   "outputs": [
    {
     "name": "stdout",
     "output_type": "stream",
     "text": [
      "Fitting 4 folds for each of 64 candidates, totalling 256 fits\n"
     ]
    },
    {
     "name": "stderr",
     "output_type": "stream",
     "text": [
      "[Parallel(n_jobs=-1)]: Using backend LokyBackend with 12 concurrent workers.\n",
      "[Parallel(n_jobs=-1)]: Done  48 tasks      | elapsed: 15.4min\n",
      "[Parallel(n_jobs=-1)]: Done 138 tasks      | elapsed: 40.9min\n",
      "[Parallel(n_jobs=-1)]: Done 256 out of 256 | elapsed: 71.3min finished\n"
     ]
    },
    {
     "data": {
      "text/plain": [
       "GridSearchCV(cv=4,\n",
       "             estimator=StackingCVRegressor(meta_regressor=XGBRegressor(base_score=None,\n",
       "                                                                       booster=None,\n",
       "                                                                       colsample_bylevel=None,\n",
       "                                                                       colsample_bynode=None,\n",
       "                                                                       colsample_bytree=None,\n",
       "                                                                       eta=0.02,\n",
       "                                                                       gamma=None,\n",
       "                                                                       gpu_id=None,\n",
       "                                                                       importance_type='gain',\n",
       "                                                                       interaction_constraints=None,\n",
       "                                                                       learning_rate=None,\n",
       "                                                                       max_delta_step=None,\n",
       "                                                                       max_depth=None,\n",
       "                                                                       min_child_weight=None,\n",
       "                                                                       missing=nan,\n",
       "                                                                       monoto...\n",
       "                                                                       scale_pos_weight=None,\n",
       "                                                                       subsample=None,\n",
       "                                                                       tree_method=None,\n",
       "                                                                       validate_parameters=None,\n",
       "                                                                       verbosity=None),\n",
       "                                           regressors=[LinearRegression(),\n",
       "                                                       RandomForestRegressor(n_estimators=500),\n",
       "                                                       Lasso()],\n",
       "                                           use_features_in_secondary=True),\n",
       "             n_jobs=-1,\n",
       "             param_grid={'lasso__alpha': [0.1, 1.0, 10, 15],\n",
       "                         'meta_regressor__max_depth': [2, 4, 5, 6],\n",
       "                         'randomforestregressor__max_depth': [2, 3, 4, 5]},\n",
       "             verbose=5)"
      ]
     },
     "execution_count": 37,
     "metadata": {},
     "output_type": "execute_result"
    }
   ],
   "source": [
    "grid = GridSearchCV(stack,param_grid=params,cv=4,refit=True,n_jobs=-1,verbose=5)\n",
    "grid.fit(X.values,y)"
   ]
  },
  {
   "cell_type": "code",
   "execution_count": 38,
   "metadata": {},
   "outputs": [
    {
     "data": {
      "text/plain": [
       "0.5948402729981637"
      ]
     },
     "execution_count": 38,
     "metadata": {},
     "output_type": "execute_result"
    }
   ],
   "source": [
    "r2_score(y,grid.best_estimator_.predict(X.values))"
   ]
  },
  {
   "cell_type": "code",
   "execution_count": 39,
   "metadata": {},
   "outputs": [],
   "source": [
    "best2 = grid.best_estimator_\n",
    "pred = best2.predict(X1_test.values)\n",
    "prediction = pd.DataFrame()\n",
    "prediction['ID'] = test['ID']\n",
    "prediction['y'] = pred\n",
    "prediction.to_csv('stacked1/full_9.csv',index=False)"
   ]
  },
  {
   "cell_type": "code",
   "execution_count": 140,
   "metadata": {},
   "outputs": [
    {
     "data": {
      "text/plain": [
       "<matplotlib.image.AxesImage at 0x2451b71ff08>"
      ]
     },
     "execution_count": 140,
     "metadata": {},
     "output_type": "execute_result"
    },
    {
     "data": {
      "image/png": "[encoded data removed]",
      "text/plain": [
       "<Figure size 1008x432 with 1 Axes>"
      ]
     },
     "metadata": {
      "needs_background": "light"
     },
     "output_type": "display_data"
    }
   ],
   "source": [
    "plt.figure(figsize=(14,6))\n",
    "x = plt.imread('stacked1/full9.PNG')\n",
    "plt.imshow(x)"
   ]
  },
  {
   "cell_type": "markdown",
   "metadata": {},
   "source": [
    "In this stacked regression Linear,Random forest,Ridge,Lasso are used as regressors and XGB is used as a meta regressor with grid search and the best score is 0.54997"
   ]
  },
  {
   "cell_type": "markdown",
   "metadata": {},
   "source": [
    "Stack 10"
   ]
  },
  {
   "cell_type": "code",
   "execution_count": 11,
   "metadata": {},
   "outputs": [],
   "source": [
    "params = {\n",
    "            'lasso__alpha': [0.1,1.0,10,15],\n",
    "          'randomforestregressor__max_depth': [2,3,4,5],\n",
    "    'randomforestregressor__n_estimators': [250,300,500],\n",
    "          'meta_regressor__max_depth': [2,4,5,6],\n",
    "    'meta_regressor__n_estimators':[250,300,500]\n",
    "         }"
   ]
  },
  {
   "cell_type": "code",
   "execution_count": 12,
   "metadata": {},
   "outputs": [],
   "source": [
    "clf = LinearRegression()\n",
    "clf1 =RandomForestRegressor()\n",
    "clf3 = Lasso()\n",
    "meta = xgb.XGBRegressor(objective='reg:squarederror',eta=0.02)\n",
    "regre = [clf,clf1,clf3]\n",
    "stack = StackingCVRegressor(regressors=regre,\n",
    "                            meta_regressor=meta, \n",
    "                            use_features_in_secondary=True,cv=5)"
   ]
  },
  {
   "cell_type": "code",
   "execution_count": 13,
   "metadata": {},
   "outputs": [
    {
     "name": "stdout",
     "output_type": "stream",
     "text": [
      "Fitting 4 folds for each of 576 candidates, totalling 2304 fits\n"
     ]
    },
    {
     "name": "stderr",
     "output_type": "stream",
     "text": [
      "[Parallel(n_jobs=-1)]: Using backend LokyBackend with 12 concurrent workers.\n",
      "[Parallel(n_jobs=-1)]: Done  48 tasks      | elapsed: 11.0min\n",
      "[Parallel(n_jobs=-1)]: Done 138 tasks      | elapsed: 29.7min\n",
      "[Parallel(n_jobs=-1)]: Done 264 tasks      | elapsed: 61.1min\n",
      "[Parallel(n_jobs=-1)]: Done 426 tasks      | elapsed: 95.0min\n",
      "[Parallel(n_jobs=-1)]: Done 624 tasks      | elapsed: 135.5min\n",
      "[Parallel(n_jobs=-1)]: Done 858 tasks      | elapsed: 183.4min\n",
      "[Parallel(n_jobs=-1)]: Done 1128 tasks      | elapsed: 242.5min\n",
      "[Parallel(n_jobs=-1)]: Done 1434 tasks      | elapsed: 302.2min\n",
      "[Parallel(n_jobs=-1)]: Done 1776 tasks      | elapsed: 368.2min\n",
      "[Parallel(n_jobs=-1)]: Done 2154 tasks      | elapsed: 440.5min\n",
      "[Parallel(n_jobs=-1)]: Done 2304 out of 2304 | elapsed: 469.3min finished\n"
     ]
    },
    {
     "data": {
      "text/plain": [
       "GridSearchCV(cv=4,\n",
       "             estimator=StackingCVRegressor(meta_regressor=XGBRegressor(base_score=None,\n",
       "                                                                       booster=None,\n",
       "                                                                       colsample_bylevel=None,\n",
       "                                                                       colsample_bynode=None,\n",
       "                                                                       colsample_bytree=None,\n",
       "                                                                       eta=0.02,\n",
       "                                                                       gamma=None,\n",
       "                                                                       gpu_id=None,\n",
       "                                                                       importance_type='gain',\n",
       "                                                                       interaction_constraints=None,\n",
       "                                                                       learning_rate=None,\n",
       "                                                                       max_delta_step=None,\n",
       "                                                                       max_depth=None,\n",
       "                                                                       min_child_weight=None,\n",
       "                                                                       missing=nan,\n",
       "                                                                       monoto...\n",
       "                                                                       verbosity=None),\n",
       "                                           regressors=[LinearRegression(),\n",
       "                                                       RandomForestRegressor(),\n",
       "                                                       Lasso()],\n",
       "                                           use_features_in_secondary=True),\n",
       "             n_jobs=-1,\n",
       "             param_grid={'lasso__alpha': [0.1, 1.0, 10, 15],\n",
       "                         'meta_regressor__max_depth': [2, 4, 5, 6],\n",
       "                         'meta_regressor__n_estimators': [250, 300, 500],\n",
       "                         'randomforestregressor__max_depth': [2, 3, 4, 5],\n",
       "                         'randomforestregressor__n_estimators': [250, 300,\n",
       "                                                                 500]},\n",
       "             verbose=5)"
      ]
     },
     "execution_count": 13,
     "metadata": {},
     "output_type": "execute_result"
    }
   ],
   "source": [
    "grid = GridSearchCV(stack,param_grid=params,cv=4,refit=True,n_jobs=-1,verbose=5)\n",
    "grid.fit(X.values,y)"
   ]
  },
  {
   "cell_type": "code",
   "execution_count": 14,
   "metadata": {},
   "outputs": [
    {
     "data": {
      "text/plain": [
       "0.5892558226575912"
      ]
     },
     "execution_count": 14,
     "metadata": {},
     "output_type": "execute_result"
    }
   ],
   "source": [
    "r2_score(y,grid.best_estimator_.predict(X.values))"
   ]
  },
  {
   "cell_type": "code",
   "execution_count": 15,
   "metadata": {},
   "outputs": [
    {
     "data": {
      "text/plain": [
       "{'lasso__alpha': 10,\n",
       " 'meta_regressor__max_depth': 2,\n",
       " 'meta_regressor__n_estimators': 300,\n",
       " 'randomforestregressor__max_depth': 2,\n",
       " 'randomforestregressor__n_estimators': 250}"
      ]
     },
     "execution_count": 15,
     "metadata": {},
     "output_type": "execute_result"
    }
   ],
   "source": [
    "grid.best_params_"
   ]
  },
  {
   "cell_type": "code",
   "execution_count": 16,
   "metadata": {},
   "outputs": [],
   "source": [
    "best2 = grid.best_estimator_\n",
    "pred = best2.predict(X1_test.values)\n",
    "prediction = pd.DataFrame()\n",
    "prediction['ID'] = test['ID']\n",
    "prediction['y'] = pred\n",
    "prediction.to_csv('stacked1/full_10.csv',index=False)"
   ]
  },
  {
   "cell_type": "code",
   "execution_count": 141,
   "metadata": {},
   "outputs": [
    {
     "data": {
      "text/plain": [
       "<matplotlib.image.AxesImage at 0x24519029708>"
      ]
     },
     "execution_count": 141,
     "metadata": {},
     "output_type": "execute_result"
    },
    {
     "data": {
      "image/png": "[encoded data removed]",
      "text/plain": [
       "<Figure size 1008x432 with 1 Axes>"
      ]
     },
     "metadata": {
      "needs_background": "light"
     },
     "output_type": "display_data"
    }
   ],
   "source": [
    "plt.figure(figsize=(14,6))\n",
    "x = plt.imread('stacked1/full10.PNG')\n",
    "plt.imshow(x)"
   ]
  },
  {
   "cell_type": "markdown",
   "metadata": {},
   "source": [
    "In this stacked regression Linear,Random forest,Lasso are used as regressors and XGB is used as a meta regressor with grid search and the best score is 0.54883"
   ]
  },
  {
   "cell_type": "markdown",
   "metadata": {},
   "source": [
    "XGB on target values less than 200 and top 260 features"
   ]
  },
  {
   "cell_type": "code",
   "execution_count": 10,
   "metadata": {},
   "outputs": [],
   "source": [
    "params1={}\n",
    "params1['eta']=[0.02,0.01]\n",
    "params1['n_estimators']=[300,400,500]\n",
    "params1['max_depth']=[2,3]\n",
    "params1['objective'] = ['reg:linear']\n"
   ]
  },
  {
   "cell_type": "code",
   "execution_count": 13,
   "metadata": {},
   "outputs": [],
   "source": [
    "top_100_features = corelation_mat['y'].sort_values(ascending=False)[0:260]\n",
    "top_100_features=top_100_features.drop('y')\n",
    "X2_test = X1_test[top_100_features.index]\n",
    "X2_train = X1_train.iloc[train[train['y']<175].index]\n",
    "y2 = y[train[train['y']<175].index]\n",
    "X2_train = X2_train[top_100_features.index]"
   ]
  },
  {
   "cell_type": "code",
   "execution_count": 15,
   "metadata": {},
   "outputs": [
    {
     "data": {
      "text/html": [
       "<div>\n",
       "<style scoped>\n",
       "    .dataframe tbody tr th:only-of-type {\n",
       "        vertical-align: middle;\n",
       "    }\n",
       "\n",
       "    .dataframe tbody tr th {\n",
       "        vertical-align: top;\n",
       "    }\n",
       "\n",
       "    .dataframe thead th {\n",
       "        text-align: right;\n",
       "    }\n",
       "</style>\n",
       "<table border=\"1\" class=\"dataframe\">\n",
       "  <thead>\n",
       "    <tr style=\"text-align: right;\">\n",
       "      <th></th>\n",
       "      <th>X339</th>\n",
       "      <th>X0</th>\n",
       "      <th>X236</th>\n",
       "      <th>X314</th>\n",
       "      <th>X261</th>\n",
       "      <th>X127</th>\n",
       "      <th>X2</th>\n",
       "      <th>X54</th>\n",
       "      <th>X136</th>\n",
       "      <th>X76</th>\n",
       "      <th>...</th>\n",
       "      <th>X196</th>\n",
       "      <th>X342</th>\n",
       "      <th>X135</th>\n",
       "      <th>X326</th>\n",
       "      <th>X226</th>\n",
       "      <th>X152</th>\n",
       "      <th>X63</th>\n",
       "      <th>X212</th>\n",
       "      <th>X252</th>\n",
       "      <th>X90</th>\n",
       "    </tr>\n",
       "  </thead>\n",
       "  <tbody>\n",
       "    <tr>\n",
       "      <th>0</th>\n",
       "      <td>0</td>\n",
       "      <td>24</td>\n",
       "      <td>0</td>\n",
       "      <td>0</td>\n",
       "      <td>0</td>\n",
       "      <td>0</td>\n",
       "      <td>38</td>\n",
       "      <td>1</td>\n",
       "      <td>0</td>\n",
       "      <td>1</td>\n",
       "      <td>...</td>\n",
       "      <td>0</td>\n",
       "      <td>0</td>\n",
       "      <td>0</td>\n",
       "      <td>0</td>\n",
       "      <td>0</td>\n",
       "      <td>0</td>\n",
       "      <td>0</td>\n",
       "      <td>0</td>\n",
       "      <td>0</td>\n",
       "      <td>0</td>\n",
       "    </tr>\n",
       "    <tr>\n",
       "      <th>1</th>\n",
       "      <td>0</td>\n",
       "      <td>46</td>\n",
       "      <td>0</td>\n",
       "      <td>0</td>\n",
       "      <td>0</td>\n",
       "      <td>1</td>\n",
       "      <td>9</td>\n",
       "      <td>0</td>\n",
       "      <td>1</td>\n",
       "      <td>0</td>\n",
       "      <td>...</td>\n",
       "      <td>0</td>\n",
       "      <td>0</td>\n",
       "      <td>0</td>\n",
       "      <td>0</td>\n",
       "      <td>0</td>\n",
       "      <td>0</td>\n",
       "      <td>0</td>\n",
       "      <td>0</td>\n",
       "      <td>0</td>\n",
       "      <td>0</td>\n",
       "    </tr>\n",
       "    <tr>\n",
       "      <th>2</th>\n",
       "      <td>0</td>\n",
       "      <td>24</td>\n",
       "      <td>0</td>\n",
       "      <td>0</td>\n",
       "      <td>0</td>\n",
       "      <td>0</td>\n",
       "      <td>19</td>\n",
       "      <td>1</td>\n",
       "      <td>0</td>\n",
       "      <td>1</td>\n",
       "      <td>...</td>\n",
       "      <td>0</td>\n",
       "      <td>0</td>\n",
       "      <td>0</td>\n",
       "      <td>0</td>\n",
       "      <td>0</td>\n",
       "      <td>0</td>\n",
       "      <td>0</td>\n",
       "      <td>0</td>\n",
       "      <td>0</td>\n",
       "      <td>0</td>\n",
       "    </tr>\n",
       "    <tr>\n",
       "      <th>3</th>\n",
       "      <td>0</td>\n",
       "      <td>24</td>\n",
       "      <td>0</td>\n",
       "      <td>0</td>\n",
       "      <td>0</td>\n",
       "      <td>0</td>\n",
       "      <td>38</td>\n",
       "      <td>1</td>\n",
       "      <td>0</td>\n",
       "      <td>1</td>\n",
       "      <td>...</td>\n",
       "      <td>0</td>\n",
       "      <td>0</td>\n",
       "      <td>0</td>\n",
       "      <td>0</td>\n",
       "      <td>0</td>\n",
       "      <td>0</td>\n",
       "      <td>0</td>\n",
       "      <td>0</td>\n",
       "      <td>1</td>\n",
       "      <td>0</td>\n",
       "    </tr>\n",
       "    <tr>\n",
       "      <th>4</th>\n",
       "      <td>0</td>\n",
       "      <td>49</td>\n",
       "      <td>0</td>\n",
       "      <td>1</td>\n",
       "      <td>1</td>\n",
       "      <td>0</td>\n",
       "      <td>19</td>\n",
       "      <td>0</td>\n",
       "      <td>1</td>\n",
       "      <td>0</td>\n",
       "      <td>...</td>\n",
       "      <td>0</td>\n",
       "      <td>0</td>\n",
       "      <td>0</td>\n",
       "      <td>0</td>\n",
       "      <td>0</td>\n",
       "      <td>0</td>\n",
       "      <td>0</td>\n",
       "      <td>0</td>\n",
       "      <td>0</td>\n",
       "      <td>0</td>\n",
       "    </tr>\n",
       "    <tr>\n",
       "      <th>...</th>\n",
       "      <td>...</td>\n",
       "      <td>...</td>\n",
       "      <td>...</td>\n",
       "      <td>...</td>\n",
       "      <td>...</td>\n",
       "      <td>...</td>\n",
       "      <td>...</td>\n",
       "      <td>...</td>\n",
       "      <td>...</td>\n",
       "      <td>...</td>\n",
       "      <td>...</td>\n",
       "      <td>...</td>\n",
       "      <td>...</td>\n",
       "      <td>...</td>\n",
       "      <td>...</td>\n",
       "      <td>...</td>\n",
       "      <td>...</td>\n",
       "      <td>...</td>\n",
       "      <td>...</td>\n",
       "      <td>...</td>\n",
       "      <td>...</td>\n",
       "    </tr>\n",
       "    <tr>\n",
       "      <th>4204</th>\n",
       "      <td>0</td>\n",
       "      <td>9</td>\n",
       "      <td>0</td>\n",
       "      <td>1</td>\n",
       "      <td>1</td>\n",
       "      <td>0</td>\n",
       "      <td>19</td>\n",
       "      <td>0</td>\n",
       "      <td>1</td>\n",
       "      <td>0</td>\n",
       "      <td>...</td>\n",
       "      <td>0</td>\n",
       "      <td>0</td>\n",
       "      <td>0</td>\n",
       "      <td>0</td>\n",
       "      <td>0</td>\n",
       "      <td>0</td>\n",
       "      <td>0</td>\n",
       "      <td>0</td>\n",
       "      <td>0</td>\n",
       "      <td>0</td>\n",
       "    </tr>\n",
       "    <tr>\n",
       "      <th>4205</th>\n",
       "      <td>0</td>\n",
       "      <td>46</td>\n",
       "      <td>0</td>\n",
       "      <td>0</td>\n",
       "      <td>0</td>\n",
       "      <td>1</td>\n",
       "      <td>9</td>\n",
       "      <td>0</td>\n",
       "      <td>1</td>\n",
       "      <td>0</td>\n",
       "      <td>...</td>\n",
       "      <td>0</td>\n",
       "      <td>0</td>\n",
       "      <td>0</td>\n",
       "      <td>1</td>\n",
       "      <td>1</td>\n",
       "      <td>1</td>\n",
       "      <td>0</td>\n",
       "      <td>0</td>\n",
       "      <td>0</td>\n",
       "      <td>0</td>\n",
       "    </tr>\n",
       "    <tr>\n",
       "      <th>4206</th>\n",
       "      <td>0</td>\n",
       "      <td>51</td>\n",
       "      <td>0</td>\n",
       "      <td>0</td>\n",
       "      <td>0</td>\n",
       "      <td>1</td>\n",
       "      <td>19</td>\n",
       "      <td>0</td>\n",
       "      <td>1</td>\n",
       "      <td>0</td>\n",
       "      <td>...</td>\n",
       "      <td>0</td>\n",
       "      <td>0</td>\n",
       "      <td>0</td>\n",
       "      <td>0</td>\n",
       "      <td>0</td>\n",
       "      <td>0</td>\n",
       "      <td>0</td>\n",
       "      <td>0</td>\n",
       "      <td>0</td>\n",
       "      <td>0</td>\n",
       "    </tr>\n",
       "    <tr>\n",
       "      <th>4207</th>\n",
       "      <td>0</td>\n",
       "      <td>10</td>\n",
       "      <td>0</td>\n",
       "      <td>1</td>\n",
       "      <td>1</td>\n",
       "      <td>0</td>\n",
       "      <td>19</td>\n",
       "      <td>0</td>\n",
       "      <td>1</td>\n",
       "      <td>0</td>\n",
       "      <td>...</td>\n",
       "      <td>0</td>\n",
       "      <td>0</td>\n",
       "      <td>0</td>\n",
       "      <td>0</td>\n",
       "      <td>0</td>\n",
       "      <td>0</td>\n",
       "      <td>0</td>\n",
       "      <td>0</td>\n",
       "      <td>0</td>\n",
       "      <td>0</td>\n",
       "    </tr>\n",
       "    <tr>\n",
       "      <th>4208</th>\n",
       "      <td>0</td>\n",
       "      <td>46</td>\n",
       "      <td>0</td>\n",
       "      <td>0</td>\n",
       "      <td>0</td>\n",
       "      <td>1</td>\n",
       "      <td>9</td>\n",
       "      <td>0</td>\n",
       "      <td>1</td>\n",
       "      <td>0</td>\n",
       "      <td>...</td>\n",
       "      <td>0</td>\n",
       "      <td>0</td>\n",
       "      <td>0</td>\n",
       "      <td>0</td>\n",
       "      <td>0</td>\n",
       "      <td>0</td>\n",
       "      <td>0</td>\n",
       "      <td>0</td>\n",
       "      <td>0</td>\n",
       "      <td>0</td>\n",
       "    </tr>\n",
       "  </tbody>\n",
       "</table>\n",
       "<p>4209 rows × 259 columns</p>\n",
       "</div>"
      ],
      "text/plain": [
       "      X339  X0  X236  X314  X261  X127  X2  X54  X136  X76  ...  X196  X342  \\\n",
       "0        0  24     0     0     0     0  38    1     0    1  ...     0     0   \n",
       "1        0  46     0     0     0     1   9    0     1    0  ...     0     0   \n",
       "2        0  24     0     0     0     0  19    1     0    1  ...     0     0   \n",
       "3        0  24     0     0     0     0  38    1     0    1  ...     0     0   \n",
       "4        0  49     0     1     1     0  19    0     1    0  ...     0     0   \n",
       "...    ...  ..   ...   ...   ...   ...  ..  ...   ...  ...  ...   ...   ...   \n",
       "4204     0   9     0     1     1     0  19    0     1    0  ...     0     0   \n",
       "4205     0  46     0     0     0     1   9    0     1    0  ...     0     0   \n",
       "4206     0  51     0     0     0     1  19    0     1    0  ...     0     0   \n",
       "4207     0  10     0     1     1     0  19    0     1    0  ...     0     0   \n",
       "4208     0  46     0     0     0     1   9    0     1    0  ...     0     0   \n",
       "\n",
       "      X135  X326  X226  X152  X63  X212  X252  X90  \n",
       "0        0     0     0     0    0     0     0    0  \n",
       "1        0     0     0     0    0     0     0    0  \n",
       "2        0     0     0     0    0     0     0    0  \n",
       "3        0     0     0     0    0     0     1    0  \n",
       "4        0     0     0     0    0     0     0    0  \n",
       "...    ...   ...   ...   ...  ...   ...   ...  ...  \n",
       "4204     0     0     0     0    0     0     0    0  \n",
       "4205     0     1     1     1    0     0     0    0  \n",
       "4206     0     0     0     0    0     0     0    0  \n",
       "4207     0     0     0     0    0     0     0    0  \n",
       "4208     0     0     0     0    0     0     0    0  \n",
       "\n",
       "[4209 rows x 259 columns]"
      ]
     },
     "execution_count": 15,
     "metadata": {},
     "output_type": "execute_result"
    }
   ],
   "source": [
    "X2_test"
   ]
  },
  {
   "cell_type": "code",
   "execution_count": null,
   "metadata": {},
   "outputs": [],
   "source": []
  },
  {
   "cell_type": "code",
   "execution_count": 16,
   "metadata": {},
   "outputs": [],
   "source": [
    "params1={}\n",
    "params1['eta']=[0.06,0.04,0.02]\n",
    "params1['n_estimators']=[250,500,750,1000]\n",
    "params1['max_depth']=[2,4,6,8]\n",
    "params1['objective'] = ['reg:linear']\n",
    "params1['reg_lambda']=[0,1,2]\n",
    "# params1['interaction_constraints']='[[314,315],[229,339]]'"
   ]
  },
  {
   "cell_type": "code",
   "execution_count": 17,
   "metadata": {},
   "outputs": [
    {
     "name": "stdout",
     "output_type": "stream",
     "text": [
      "Fitting 2 folds for each of 144 candidates, totalling 288 fits\n"
     ]
    },
    {
     "name": "stderr",
     "output_type": "stream",
     "text": [
      "[Parallel(n_jobs=-1)]: Using backend LokyBackend with 12 concurrent workers.\n",
      "[Parallel(n_jobs=-1)]: Done  48 tasks      | elapsed:   38.9s\n",
      "[Parallel(n_jobs=-1)]: Done 138 tasks      | elapsed:  2.8min\n",
      "[Parallel(n_jobs=-1)]: Done 264 tasks      | elapsed:  6.0min\n",
      "[Parallel(n_jobs=-1)]: Done 288 out of 288 | elapsed:  6.8min finished\n"
     ]
    },
    {
     "name": "stdout",
     "output_type": "stream",
     "text": [
      "[13:18:36] WARNING: C:/Users/Administrator/workspace/xgboost-win64_release_1.2.0/src/objective/regression_obj.cu:174: reg:linear is now deprecated in favor of reg:squarederror.\n",
      "[13:18:37] WARNING: C:/Users/Administrator/workspace/xgboost-win64_release_1.2.0/src/objective/regression_obj.cu:174: reg:linear is now deprecated in favor of reg:squarederror.\n"
     ]
    },
    {
     "data": {
      "text/plain": [
       "GridSearchCV(cv=2,\n",
       "             estimator=XGBRegressor(base_score=None, booster=None,\n",
       "                                    colsample_bylevel=None,\n",
       "                                    colsample_bynode=None,\n",
       "                                    colsample_bytree=None, gamma=None,\n",
       "                                    gpu_id=None, importance_type='gain',\n",
       "                                    interaction_constraints=None,\n",
       "                                    learning_rate=None, max_delta_step=None,\n",
       "                                    max_depth=None, min_child_weight=None,\n",
       "                                    missing=nan, monotone_constraints=None,\n",
       "                                    n_estimators=100, n_jobs=...\n",
       "                                    num_parallel_tree=None,\n",
       "                                    objective='reg:linear', random_state=None,\n",
       "                                    reg_alpha=None, reg_lambda=None,\n",
       "                                    scale_pos_weight=None, subsample=None,\n",
       "                                    tree_method=None, validate_parameters=None,\n",
       "                                    verbosity=None),\n",
       "             n_jobs=-1,\n",
       "             param_grid={'eta': [0.06, 0.04, 0.02], 'max_depth': [2, 4, 6, 8],\n",
       "                         'n_estimators': [250, 500, 750, 1000],\n",
       "                         'objective': ['reg:linear'], 'reg_lambda': [0, 1, 2]},\n",
       "             scoring='r2', verbose=5)"
      ]
     },
     "execution_count": 17,
     "metadata": {},
     "output_type": "execute_result"
    }
   ],
   "source": [
    "clf = xgb.XGBRegressor(objective='reg:linear',)\n",
    "grid3 = GridSearchCV(clf,params1,scoring='r2',cv=2,n_jobs=-1,verbose=5)\n",
    "grid3.fit(X2_train,y2)"
   ]
  },
  {
   "cell_type": "code",
   "execution_count": 23,
   "metadata": {},
   "outputs": [],
   "source": [
    "best = grid3.best_estimator_"
   ]
  },
  {
   "cell_type": "code",
   "execution_count": null,
   "metadata": {},
   "outputs": [],
   "source": [
    "a = "
   ]
  },
  {
   "cell_type": "code",
   "execution_count": 22,
   "metadata": {},
   "outputs": [
    {
     "ename": "ValueError",
     "evalue": "feature_names mismatch: ['X339', 'X0', 'X236', 'X314', 'X261', 'X127', 'X2', 'X54', 'X136', 'X76', 'X232', 'X263', 'X29', 'X279', 'X162', 'X313', 'X328', 'X276', 'X272', 'X250', 'X178', 'X166', 'X48', 'X113', 'X134', 'X222', 'X147', 'X111', 'X198', 'X234', 'X80', 'X264', 'X348', 'X126', 'X66', 'X316', 'X120', 'X52', 'X130', 'X128', 'X61', 'X170', 'X179', 'X119', 'X118', 'X306', 'X251', 'X238', 'X191', 'X378', 'X14', 'X169', 'X315', 'X304', 'X101', 'X98', 'X28', 'X275', 'X3', 'X189', 'X224', 'X185', 'X51', 'X1', 'X265', 'X75', 'X215', 'X19', 'X223', 'X108', 'X300', 'X286', 'X208', 'X368', 'X371', 'X228', 'X229', 'X43', 'X115', 'X159', 'X8', 'X46', 'X156', 'X157', 'X148', 'X6', 'X292', 'X68', 'X35', 'X37', 'X31', 'X274', 'X187', 'X209', 'X311', 'X5', 'X47', 'X84', 'X244', 'X71', 'X17', 'X382', 'X150', 'X273', 'X256', 'X355', 'X96', 'X180', 'X64', 'X301', 'X85', 'X363', 'X205', 'X204', 'X346', 'X197', 'X325', 'X354', 'X367', 'X360', 'X155', 'X331', 'X79', 'X129', 'X362', 'X241', 'X352', 'X49', 'X349', 'X343', 'X351', 'X218', 'X114', 'X194', 'X186', 'X100', 'X4', 'X20', 'X171', 'X383', 'X132', 'X144', 'X376', 'X165', 'X151', 'X267', 'X69', 'X255', 'X334', 'X50', 'X283', 'X117', 'X81', 'X221', 'X337', 'X12', 'X317', 'X55', 'X142', 'X158', 'X350', 'X310', 'X220', 'X312', 'X22', 'X44', 'X302', 'X336', 'X172', 'X62', 'X216', 'X23', 'X322', 'X103', 'ID', 'X16', 'X271', 'X195', 'X153', 'X183', 'X324', 'X58', 'X379', 'X137', 'X131', 'X201', 'X237', 'X78', 'X109', 'X140', 'X168', 'X138', 'X146', 'X163', 'X344', 'X143', 'X70', 'X309', 'X225', 'X358', 'X56', 'X219', 'X246', 'X34', 'X154', 'X277', 'X231', 'X308', 'X211', 'X174', 'X176', 'X285', 'X318', 'X239', 'X53', 'X214', 'X102', 'X321', 'X329', 'X18', 'X45', 'X373', 'X370', 'X377', 'X323', 'X206', 'X125', 'X227', 'X86', 'X13', 'X21', 'X287', 'X112', 'X199', 'X247', 'X202', 'X161', 'X110', 'X167', 'X380', 'X374', 'X27', 'X182', 'X177', 'X266', 'X262', 'X184', 'X291', 'X116', 'X196', 'X342', 'X135', 'X326', 'X226', 'X152', 'X63', 'X212', 'X252', 'X90'] ['f0', 'f1', 'f2', 'f3', 'f4', 'f5', 'f6', 'f7', 'f8', 'f9', 'f10', 'f11', 'f12', 'f13', 'f14', 'f15', 'f16', 'f17', 'f18', 'f19', 'f20', 'f21', 'f22', 'f23', 'f24', 'f25', 'f26', 'f27', 'f28', 'f29', 'f30', 'f31', 'f32', 'f33', 'f34', 'f35', 'f36', 'f37', 'f38', 'f39', 'f40', 'f41', 'f42', 'f43', 'f44', 'f45', 'f46', 'f47', 'f48', 'f49', 'f50', 'f51', 'f52', 'f53', 'f54', 'f55', 'f56', 'f57', 'f58', 'f59', 'f60', 'f61', 'f62', 'f63', 'f64', 'f65', 'f66', 'f67', 'f68', 'f69', 'f70', 'f71', 'f72', 'f73', 'f74', 'f75', 'f76', 'f77', 'f78', 'f79', 'f80', 'f81', 'f82', 'f83', 'f84', 'f85', 'f86', 'f87', 'f88', 'f89', 'f90', 'f91', 'f92', 'f93', 'f94', 'f95', 'f96', 'f97', 'f98', 'f99', 'f100', 'f101', 'f102', 'f103', 'f104', 'f105', 'f106', 'f107', 'f108', 'f109', 'f110', 'f111', 'f112', 'f113', 'f114', 'f115', 'f116', 'f117', 'f118', 'f119', 'f120', 'f121', 'f122', 'f123', 'f124', 'f125', 'f126', 'f127', 'f128', 'f129', 'f130', 'f131', 'f132', 'f133', 'f134', 'f135', 'f136', 'f137', 'f138', 'f139', 'f140', 'f141', 'f142', 'f143', 'f144', 'f145', 'f146', 'f147', 'f148', 'f149', 'f150', 'f151', 'f152', 'f153', 'f154', 'f155', 'f156', 'f157', 'f158', 'f159', 'f160', 'f161', 'f162', 'f163', 'f164', 'f165', 'f166', 'f167', 'f168', 'f169', 'f170', 'f171', 'f172', 'f173', 'f174', 'f175', 'f176', 'f177', 'f178', 'f179', 'f180', 'f181', 'f182', 'f183', 'f184', 'f185', 'f186', 'f187', 'f188', 'f189', 'f190', 'f191', 'f192', 'f193', 'f194', 'f195', 'f196', 'f197', 'f198', 'f199', 'f200', 'f201', 'f202', 'f203', 'f204', 'f205', 'f206', 'f207', 'f208', 'f209', 'f210', 'f211', 'f212', 'f213', 'f214', 'f215', 'f216', 'f217', 'f218', 'f219', 'f220', 'f221', 'f222', 'f223', 'f224', 'f225', 'f226', 'f227', 'f228', 'f229', 'f230', 'f231', 'f232', 'f233', 'f234', 'f235', 'f236', 'f237', 'f238', 'f239', 'f240', 'f241', 'f242', 'f243', 'f244', 'f245', 'f246', 'f247', 'f248', 'f249', 'f250', 'f251', 'f252', 'f253', 'f254', 'f255', 'f256', 'f257', 'f258']\nexpected X62, X4, X13, X239, X148, X85, X324, X172, X362, X312, X182, X98, X129, X23, X317, X370, X51, X117, X120, X184, X126, X80, X343, X376, X231, X383, X125, X76, X314, X180, X113, X161, X328, X196, X168, X2, X171, X178, X134, X368, X283, X214, X313, X232, X53, X261, X27, X46, X311, X166, X244, X16, X151, X323, X318, X227, X8, X225, X3, X209, X50, X118, X267, X69, X63, X185, X137, X241, X336, X276, X96, X138, X286, X130, X354, X264, X58, X70, X348, X157, X86, X215, X271, X272, X128, X197, X156, X279, X52, X300, X158, X222, X179, X224, X206, X251, X246, X202, X373, X169, X116, X55, X71, X140, X61, X355, X146, X308, X167, X329, X218, X135, X100, X229, X119, X187, X22, X195, X301, X247, X48, X234, X47, X189, X351, X292, X162, X371, X66, X216, X131, X263, X285, X159, X358, X19, X223, X136, X342, X221, X1, X198, X101, X220, X68, X377, X29, X78, X273, X150, X201, X379, X325, X322, X339, X262, X163, X56, X316, X45, X43, X6, X132, X170, X331, X155, X352, X374, X35, X252, ID, X37, X219, X154, X14, X228, X277, X81, X310, X18, X344, X176, X75, X266, X127, X226, X174, X350, X275, X109, X212, X304, X20, X205, X208, X315, X183, X367, X111, X380, X165, X79, X144, X152, X90, X378, X147, X321, X110, X64, X108, X238, X334, X114, X142, X103, X236, X211, X49, X256, X44, X265, X102, X191, X115, X17, X346, X194, X255, X204, X274, X5, X382, X12, X302, X199, X34, X360, X326, X250, X337, X177, X309, X54, X287, X291, X31, X28, X84, X186, X0, X363, X306, X112, X237, X349, X143, X21, X153 in input data\ntraining data did not have the following fields: f14, f92, f109, f6, f68, f202, f112, f248, f85, f90, f114, f237, f4, f118, f17, f89, f163, f258, f81, f23, f126, f132, f139, f31, f168, f241, f93, f174, f228, f125, f5, f137, f53, f134, f154, f223, f191, f224, f44, f211, f252, f32, f186, f0, f69, f253, f98, f57, f149, f208, f227, f35, f101, f99, f160, f43, f60, f243, f9, f119, f232, f167, f128, f176, f170, f200, f156, f196, f123, f178, f203, f108, f18, f226, f40, f22, f67, f73, f247, f135, f201, f190, f66, f88, f54, f106, f182, f65, f217, f238, f171, f155, f70, f239, f96, f193, f94, f172, f173, f166, f76, f34, f187, f29, f41, f133, f221, f251, f249, f222, f28, f197, f27, f198, f77, f205, f216, f10, f3, f13, f162, f55, f246, f15, f1, f225, f115, f136, f153, f58, f175, f11, f8, f33, f95, f36, f120, f165, f233, f206, f20, f235, f179, f79, f220, f147, f24, f151, f213, f214, f230, f229, f161, f105, f159, f177, f61, f56, f240, f72, f117, f100, f242, f152, f212, f180, f75, f164, f59, f110, f199, f234, f144, f204, f215, f82, f257, f21, f78, f103, f194, f46, f49, f169, f210, f250, f244, f84, f195, f254, f127, f97, f231, f91, f188, f62, f63, f146, f7, f87, f141, f142, f218, f255, f158, f130, f52, f16, f25, f2, f140, f209, f256, f51, f122, f129, f131, f189, f71, f83, f207, f184, f192, f107, f183, f181, f42, f39, f86, f185, f138, f150, f236, f219, f48, f113, f116, f47, f102, f38, f12, f80, f30, f143, f157, f245, f104, f121, f64, f19, f45, f50, f74, f111, f145, f148, f124, f37, f26",
     "output_type": "error",
     "traceback": [
      "\u001b[1;31m---------------------------------------------------------------------------\u001b[0m",
      "\u001b[1;31mValueError\u001b[0m                                Traceback (most recent call last)",
      "\u001b[1;32m<ipython-input-22-c3e278f0d79e>\u001b[0m in \u001b[0;36m<module>\u001b[1;34m\u001b[0m\n\u001b[1;32m----> 1\u001b[1;33m \u001b[0mbest\u001b[0m\u001b[1;33m.\u001b[0m\u001b[0mpredict\u001b[0m\u001b[1;33m(\u001b[0m\u001b[0mX2_test\u001b[0m\u001b[1;33m.\u001b[0m\u001b[0miloc\u001b[0m\u001b[1;33m[\u001b[0m\u001b[1;36m0\u001b[0m\u001b[1;33m]\u001b[0m\u001b[1;33m.\u001b[0m\u001b[0mvalues\u001b[0m\u001b[1;33m.\u001b[0m\u001b[0mreshape\u001b[0m\u001b[1;33m(\u001b[0m\u001b[1;36m1\u001b[0m\u001b[1;33m,\u001b[0m\u001b[1;33m-\u001b[0m\u001b[1;36m1\u001b[0m\u001b[1;33m)\u001b[0m\u001b[1;33m)\u001b[0m\u001b[1;33m\u001b[0m\u001b[1;33m\u001b[0m\u001b[0m\n\u001b[0m",
      "\u001b[1;32m~\\anaconda3\\envs\\convenv\\lib\\site-packages\\xgboost\\sklearn.py\u001b[0m in \u001b[0;36mpredict\u001b[1;34m(self, data, output_margin, ntree_limit, validate_features, base_margin)\u001b[0m\n\u001b[0;32m    602\u001b[0m                                           \u001b[0moutput_margin\u001b[0m\u001b[1;33m=\u001b[0m\u001b[0moutput_margin\u001b[0m\u001b[1;33m,\u001b[0m\u001b[1;33m\u001b[0m\u001b[1;33m\u001b[0m\u001b[0m\n\u001b[0;32m    603\u001b[0m                                           \u001b[0mntree_limit\u001b[0m\u001b[1;33m=\u001b[0m\u001b[0mntree_limit\u001b[0m\u001b[1;33m,\u001b[0m\u001b[1;33m\u001b[0m\u001b[1;33m\u001b[0m\u001b[0m\n\u001b[1;32m--> 604\u001b[1;33m                                           validate_features=validate_features)\n\u001b[0m\u001b[0;32m    605\u001b[0m \u001b[1;33m\u001b[0m\u001b[0m\n\u001b[0;32m    606\u001b[0m     \u001b[1;32mdef\u001b[0m \u001b[0mapply\u001b[0m\u001b[1;33m(\u001b[0m\u001b[0mself\u001b[0m\u001b[1;33m,\u001b[0m \u001b[0mX\u001b[0m\u001b[1;33m,\u001b[0m \u001b[0mntree_limit\u001b[0m\u001b[1;33m=\u001b[0m\u001b[1;36m0\u001b[0m\u001b[1;33m)\u001b[0m\u001b[1;33m:\u001b[0m\u001b[1;33m\u001b[0m\u001b[1;33m\u001b[0m\u001b[0m\n",
      "\u001b[1;32m~\\anaconda3\\envs\\convenv\\lib\\site-packages\\xgboost\\core.py\u001b[0m in \u001b[0;36mpredict\u001b[1;34m(self, data, output_margin, ntree_limit, pred_leaf, pred_contribs, approx_contribs, pred_interactions, validate_features, training)\u001b[0m\n\u001b[0;32m   1362\u001b[0m \u001b[1;33m\u001b[0m\u001b[0m\n\u001b[0;32m   1363\u001b[0m         \u001b[1;32mif\u001b[0m \u001b[0mvalidate_features\u001b[0m\u001b[1;33m:\u001b[0m\u001b[1;33m\u001b[0m\u001b[1;33m\u001b[0m\u001b[0m\n\u001b[1;32m-> 1364\u001b[1;33m             \u001b[0mself\u001b[0m\u001b[1;33m.\u001b[0m\u001b[0m_validate_features\u001b[0m\u001b[1;33m(\u001b[0m\u001b[0mdata\u001b[0m\u001b[1;33m)\u001b[0m\u001b[1;33m\u001b[0m\u001b[1;33m\u001b[0m\u001b[0m\n\u001b[0m\u001b[0;32m   1365\u001b[0m \u001b[1;33m\u001b[0m\u001b[0m\n\u001b[0;32m   1366\u001b[0m         \u001b[0mlength\u001b[0m \u001b[1;33m=\u001b[0m \u001b[0mc_bst_ulong\u001b[0m\u001b[1;33m(\u001b[0m\u001b[1;33m)\u001b[0m\u001b[1;33m\u001b[0m\u001b[1;33m\u001b[0m\u001b[0m\n",
      "\u001b[1;32m~\\anaconda3\\envs\\convenv\\lib\\site-packages\\xgboost\\core.py\u001b[0m in \u001b[0;36m_validate_features\u001b[1;34m(self, data)\u001b[0m\n\u001b[0;32m   1934\u001b[0m \u001b[1;33m\u001b[0m\u001b[0m\n\u001b[0;32m   1935\u001b[0m                 raise ValueError(msg.format(self.feature_names,\n\u001b[1;32m-> 1936\u001b[1;33m                                             data.feature_names))\n\u001b[0m\u001b[0;32m   1937\u001b[0m \u001b[1;33m\u001b[0m\u001b[0m\n\u001b[0;32m   1938\u001b[0m     def get_split_value_histogram(self, feature, fmap='', bins=None,\n",
      "\u001b[1;31mValueError\u001b[0m: feature_names mismatch: ['X339', 'X0', 'X236', 'X314', 'X261', 'X127', 'X2', 'X54', 'X136', 'X76', 'X232', 'X263', 'X29', 'X279', 'X162', 'X313', 'X328', 'X276', 'X272', 'X250', 'X178', 'X166', 'X48', 'X113', 'X134', 'X222', 'X147', 'X111', 'X198', 'X234', 'X80', 'X264', 'X348', 'X126', 'X66', 'X316', 'X120', 'X52', 'X130', 'X128', 'X61', 'X170', 'X179', 'X119', 'X118', 'X306', 'X251', 'X238', 'X191', 'X378', 'X14', 'X169', 'X315', 'X304', 'X101', 'X98', 'X28', 'X275', 'X3', 'X189', 'X224', 'X185', 'X51', 'X1', 'X265', 'X75', 'X215', 'X19', 'X223', 'X108', 'X300', 'X286', 'X208', 'X368', 'X371', 'X228', 'X229', 'X43', 'X115', 'X159', 'X8', 'X46', 'X156', 'X157', 'X148', 'X6', 'X292', 'X68', 'X35', 'X37', 'X31', 'X274', 'X187', 'X209', 'X311', 'X5', 'X47', 'X84', 'X244', 'X71', 'X17', 'X382', 'X150', 'X273', 'X256', 'X355', 'X96', 'X180', 'X64', 'X301', 'X85', 'X363', 'X205', 'X204', 'X346', 'X197', 'X325', 'X354', 'X367', 'X360', 'X155', 'X331', 'X79', 'X129', 'X362', 'X241', 'X352', 'X49', 'X349', 'X343', 'X351', 'X218', 'X114', 'X194', 'X186', 'X100', 'X4', 'X20', 'X171', 'X383', 'X132', 'X144', 'X376', 'X165', 'X151', 'X267', 'X69', 'X255', 'X334', 'X50', 'X283', 'X117', 'X81', 'X221', 'X337', 'X12', 'X317', 'X55', 'X142', 'X158', 'X350', 'X310', 'X220', 'X312', 'X22', 'X44', 'X302', 'X336', 'X172', 'X62', 'X216', 'X23', 'X322', 'X103', 'ID', 'X16', 'X271', 'X195', 'X153', 'X183', 'X324', 'X58', 'X379', 'X137', 'X131', 'X201', 'X237', 'X78', 'X109', 'X140', 'X168', 'X138', 'X146', 'X163', 'X344', 'X143', 'X70', 'X309', 'X225', 'X358', 'X56', 'X219', 'X246', 'X34', 'X154', 'X277', 'X231', 'X308', 'X211', 'X174', 'X176', 'X285', 'X318', 'X239', 'X53', 'X214', 'X102', 'X321', 'X329', 'X18', 'X45', 'X373', 'X370', 'X377', 'X323', 'X206', 'X125', 'X227', 'X86', 'X13', 'X21', 'X287', 'X112', 'X199', 'X247', 'X202', 'X161', 'X110', 'X167', 'X380', 'X374', 'X27', 'X182', 'X177', 'X266', 'X262', 'X184', 'X291', 'X116', 'X196', 'X342', 'X135', 'X326', 'X226', 'X152', 'X63', 'X212', 'X252', 'X90'] ['f0', 'f1', 'f2', 'f3', 'f4', 'f5', 'f6', 'f7', 'f8', 'f9', 'f10', 'f11', 'f12', 'f13', 'f14', 'f15', 'f16', 'f17', 'f18', 'f19', 'f20', 'f21', 'f22', 'f23', 'f24', 'f25', 'f26', 'f27', 'f28', 'f29', 'f30', 'f31', 'f32', 'f33', 'f34', 'f35', 'f36', 'f37', 'f38', 'f39', 'f40', 'f41', 'f42', 'f43', 'f44', 'f45', 'f46', 'f47', 'f48', 'f49', 'f50', 'f51', 'f52', 'f53', 'f54', 'f55', 'f56', 'f57', 'f58', 'f59', 'f60', 'f61', 'f62', 'f63', 'f64', 'f65', 'f66', 'f67', 'f68', 'f69', 'f70', 'f71', 'f72', 'f73', 'f74', 'f75', 'f76', 'f77', 'f78', 'f79', 'f80', 'f81', 'f82', 'f83', 'f84', 'f85', 'f86', 'f87', 'f88', 'f89', 'f90', 'f91', 'f92', 'f93', 'f94', 'f95', 'f96', 'f97', 'f98', 'f99', 'f100', 'f101', 'f102', 'f103', 'f104', 'f105', 'f106', 'f107', 'f108', 'f109', 'f110', 'f111', 'f112', 'f113', 'f114', 'f115', 'f116', 'f117', 'f118', 'f119', 'f120', 'f121', 'f122', 'f123', 'f124', 'f125', 'f126', 'f127', 'f128', 'f129', 'f130', 'f131', 'f132', 'f133', 'f134', 'f135', 'f136', 'f137', 'f138', 'f139', 'f140', 'f141', 'f142', 'f143', 'f144', 'f145', 'f146', 'f147', 'f148', 'f149', 'f150', 'f151', 'f152', 'f153', 'f154', 'f155', 'f156', 'f157', 'f158', 'f159', 'f160', 'f161', 'f162', 'f163', 'f164', 'f165', 'f166', 'f167', 'f168', 'f169', 'f170', 'f171', 'f172', 'f173', 'f174', 'f175', 'f176', 'f177', 'f178', 'f179', 'f180', 'f181', 'f182', 'f183', 'f184', 'f185', 'f186', 'f187', 'f188', 'f189', 'f190', 'f191', 'f192', 'f193', 'f194', 'f195', 'f196', 'f197', 'f198', 'f199', 'f200', 'f201', 'f202', 'f203', 'f204', 'f205', 'f206', 'f207', 'f208', 'f209', 'f210', 'f211', 'f212', 'f213', 'f214', 'f215', 'f216', 'f217', 'f218', 'f219', 'f220', 'f221', 'f222', 'f223', 'f224', 'f225', 'f226', 'f227', 'f228', 'f229', 'f230', 'f231', 'f232', 'f233', 'f234', 'f235', 'f236', 'f237', 'f238', 'f239', 'f240', 'f241', 'f242', 'f243', 'f244', 'f245', 'f246', 'f247', 'f248', 'f249', 'f250', 'f251', 'f252', 'f253', 'f254', 'f255', 'f256', 'f257', 'f258']\nexpected X62, X4, X13, X239, X148, X85, X324, X172, X362, X312, X182, X98, X129, X23, X317, X370, X51, X117, X120, X184, X126, X80, X343, X376, X231, X383, X125, X76, X314, X180, X113, X161, X328, X196, X168, X2, X171, X178, X134, X368, X283, X214, X313, X232, X53, X261, X27, X46, X311, X166, X244, X16, X151, X323, X318, X227, X8, X225, X3, X209, X50, X118, X267, X69, X63, X185, X137, X241, X336, X276, X96, X138, X286, X130, X354, X264, X58, X70, X348, X157, X86, X215, X271, X272, X128, X197, X156, X279, X52, X300, X158, X222, X179, X224, X206, X251, X246, X202, X373, X169, X116, X55, X71, X140, X61, X355, X146, X308, X167, X329, X218, X135, X100, X229, X119, X187, X22, X195, X301, X247, X48, X234, X47, X189, X351, X292, X162, X371, X66, X216, X131, X263, X285, X159, X358, X19, X223, X136, X342, X221, X1, X198, X101, X220, X68, X377, X29, X78, X273, X150, X201, X379, X325, X322, X339, X262, X163, X56, X316, X45, X43, X6, X132, X170, X331, X155, X352, X374, X35, X252, ID, X37, X219, X154, X14, X228, X277, X81, X310, X18, X344, X176, X75, X266, X127, X226, X174, X350, X275, X109, X212, X304, X20, X205, X208, X315, X183, X367, X111, X380, X165, X79, X144, X152, X90, X378, X147, X321, X110, X64, X108, X238, X334, X114, X142, X103, X236, X211, X49, X256, X44, X265, X102, X191, X115, X17, X346, X194, X255, X204, X274, X5, X382, X12, X302, X199, X34, X360, X326, X250, X337, X177, X309, X54, X287, X291, X31, X28, X84, X186, X0, X363, X306, X112, X237, X349, X143, X21, X153 in input data\ntraining data did not have the following fields: f14, f92, f109, f6, f68, f202, f112, f248, f85, f90, f114, f237, f4, f118, f17, f89, f163, f258, f81, f23, f126, f132, f139, f31, f168, f241, f93, f174, f228, f125, f5, f137, f53, f134, f154, f223, f191, f224, f44, f211, f252, f32, f186, f0, f69, f253, f98, f57, f149, f208, f227, f35, f101, f99, f160, f43, f60, f243, f9, f119, f232, f167, f128, f176, f170, f200, f156, f196, f123, f178, f203, f108, f18, f226, f40, f22, f67, f73, f247, f135, f201, f190, f66, f88, f54, f106, f182, f65, f217, f238, f171, f155, f70, f239, f96, f193, f94, f172, f173, f166, f76, f34, f187, f29, f41, f133, f221, f251, f249, f222, f28, f197, f27, f198, f77, f205, f216, f10, f3, f13, f162, f55, f246, f15, f1, f225, f115, f136, f153, f58, f175, f11, f8, f33, f95, f36, f120, f165, f233, f206, f20, f235, f179, f79, f220, f147, f24, f151, f213, f214, f230, f229, f161, f105, f159, f177, f61, f56, f240, f72, f117, f100, f242, f152, f212, f180, f75, f164, f59, f110, f199, f234, f144, f204, f215, f82, f257, f21, f78, f103, f194, f46, f49, f169, f210, f250, f244, f84, f195, f254, f127, f97, f231, f91, f188, f62, f63, f146, f7, f87, f141, f142, f218, f255, f158, f130, f52, f16, f25, f2, f140, f209, f256, f51, f122, f129, f131, f189, f71, f83, f207, f184, f192, f107, f183, f181, f42, f39, f86, f185, f138, f150, f236, f219, f48, f113, f116, f47, f102, f38, f12, f80, f30, f143, f157, f245, f104, f121, f64, f19, f45, f50, f74, f111, f145, f148, f124, f37, f26"
     ]
    }
   ],
   "source": [
    "best.predict(X2_test.iloc[0].values.reshape(1,-1))"
   ]
  },
  {
   "cell_type": "code",
   "execution_count": 15,
   "metadata": {},
   "outputs": [
    {
     "data": {
      "text/plain": [
       "0.6192887433390156"
      ]
     },
     "execution_count": 15,
     "metadata": {},
     "output_type": "execute_result"
    }
   ],
   "source": [
    "r2_score(y2,grid3.best_estimator_.predict(X2_train))"
   ]
  },
  {
   "cell_type": "code",
   "execution_count": 182,
   "metadata": {},
   "outputs": [],
   "source": [
    "best2 = grid3.best_estimator_\n",
    "pred = best2.predict(X2_test)\n",
    "prediction = pd.DataFrame()\n",
    "prediction['ID'] = test['ID']\n",
    "prediction['y'] = pred\n",
    "prediction.to_csv('stacked1/x1.csv',index=False)"
   ]
  },
  {
   "cell_type": "code",
   "execution_count": 16,
   "metadata": {},
   "outputs": [],
   "source": [
    "best_para = grid3.best_params_"
   ]
  },
  {
   "cell_type": "code",
   "execution_count": 4,
   "metadata": {},
   "outputs": [
    {
     "data": {
      "text/plain": [
       "<matplotlib.image.AxesImage at 0x18639e3dc48>"
      ]
     },
     "execution_count": 4,
     "metadata": {},
     "output_type": "execute_result"
    },
    {
     "data": {
      "image/png": "[encoded data removed]",
      "text/plain": [
       "<Figure size 1008x432 with 1 Axes>"
      ]
     },
     "metadata": {
      "needs_background": "light"
     },
     "output_type": "display_data"
    }
   ],
   "source": [
    "plt.figure(figsize=(14,6))\n",
    "x = plt.imread('stacked1/x1.PNG')\n",
    "plt.imshow(x)"
   ]
  },
  {
   "cell_type": "markdown",
   "metadata": {},
   "source": [
    "Using XGB with grid search on data with target values less than 200 and selecting top 260 features model ahs best score sor far of 0.55341"
   ]
  },
  {
   "cell_type": "markdown",
   "metadata": {},
   "source": [
    "#### XGB with same paramenters but removing Feature ID "
   ]
  },
  {
   "cell_type": "code",
   "execution_count": 115,
   "metadata": {},
   "outputs": [],
   "source": [
    "X3 = X2_train.drop('ID',axis=1)\n",
    "X3_test = X2_test.drop('ID',axis=1)"
   ]
  },
  {
   "cell_type": "code",
   "execution_count": 116,
   "metadata": {},
   "outputs": [
    {
     "data": {
      "text/plain": [
       "{'eta': 0.02,\n",
       " 'max_depth': 2,\n",
       " 'n_estimators': 500,\n",
       " 'objective': 'reg:linear',\n",
       " 'reg_lambda': 2}"
      ]
     },
     "execution_count": 116,
     "metadata": {},
     "output_type": "execute_result"
    }
   ],
   "source": [
    "best_para"
   ]
  },
  {
   "cell_type": "code",
   "execution_count": 117,
   "metadata": {},
   "outputs": [],
   "source": [
    "best = xgb.XGBRegressor(n_estimators=500,max_depth=2,eta=0.02,objective='reg:squarederror',reg_lambda=2,interaction_constraints = '[[331,0,229],[306,307,2]]')"
   ]
  },
  {
   "cell_type": "code",
   "execution_count": 118,
   "metadata": {},
   "outputs": [
    {
     "data": {
      "text/plain": [
       "306"
      ]
     },
     "execution_count": 118,
     "metadata": {},
     "output_type": "execute_result"
    }
   ],
   "source": [
    "X.columns.get_loc('X314')"
   ]
  },
  {
   "cell_type": "code",
   "execution_count": 119,
   "metadata": {},
   "outputs": [
    {
     "data": {
      "text/plain": [
       "X339    1.000000\n",
       "y       1.000000\n",
       "X0      0.751650\n",
       "X236    0.659690\n",
       "X314    0.532702\n",
       "X261    0.518549\n",
       "X127    0.465000\n",
       "X2      0.458670\n",
       "X54     0.314066\n",
       "X136    0.314066\n",
       "Name: y, dtype: float64"
      ]
     },
     "execution_count": 119,
     "metadata": {},
     "output_type": "execute_result"
    }
   ],
   "source": [
    "corelation_mat['y'].sort_values(ascending=False)[:10]"
   ]
  },
  {
   "cell_type": "code",
   "execution_count": 120,
   "metadata": {},
   "outputs": [],
   "source": [
    "best.interaction_constraints = '[[331,0,229]]'"
   ]
  },
  {
   "cell_type": "code",
   "execution_count": 121,
   "metadata": {},
   "outputs": [
    {
     "data": {
      "text/plain": [
       "'[[331,0,229]]'"
      ]
     },
     "execution_count": 121,
     "metadata": {},
     "output_type": "execute_result"
    }
   ],
   "source": [
    "best.interaction_constraints"
   ]
  },
  {
   "cell_type": "code",
   "execution_count": 125,
   "metadata": {},
   "outputs": [
    {
     "data": {
      "text/plain": [
       "XGBRegressor(base_score=0.5, booster='gbtree', colsample_bylevel=1,\n",
       "             colsample_bynode=1, colsample_bytree=1, eta=0.02, gamma=0,\n",
       "             gpu_id=-1, importance_type='gain',\n",
       "             interaction_constraints='[[331,0,229]]',\n",
       "             learning_rate=0.0199999996, max_delta_step=0, max_depth=2,\n",
       "             min_child_weight=1, missing=nan, monotone_constraints='()',\n",
       "             n_estimators=500, n_jobs=0, num_parallel_tree=1, random_state=0,\n",
       "             reg_alpha=0, reg_lambda=2, scale_pos_weight=1, subsample=1,\n",
       "             tree_method='exact', validate_parameters=1, verbosity=None)"
      ]
     },
     "execution_count": 125,
     "metadata": {},
     "output_type": "execute_result"
    }
   ],
   "source": [
    "best.fit(X3,y2)"
   ]
  },
  {
   "cell_type": "code",
   "execution_count": 126,
   "metadata": {},
   "outputs": [
    {
     "data": {
      "text/plain": [
       "0.5863662130217953"
      ]
     },
     "execution_count": 126,
     "metadata": {},
     "output_type": "execute_result"
    }
   ],
   "source": [
    "r2_score(y2,best.predict(X3))"
   ]
  },
  {
   "cell_type": "code",
   "execution_count": 127,
   "metadata": {},
   "outputs": [],
   "source": [
    "pred = best.predict(X3_test)\n",
    "prediction = pd.DataFrame()\n",
    "prediction['ID'] = test['ID']\n",
    "prediction['y'] = pred\n",
    "prediction.to_csv('stacked1/x2.csv',index=False)"
   ]
  },
  {
   "cell_type": "code",
   "execution_count": 143,
   "metadata": {},
   "outputs": [
    {
     "data": {
      "text/plain": [
       "<matplotlib.image.AxesImage at 0x245190efc48>"
      ]
     },
     "execution_count": 143,
     "metadata": {},
     "output_type": "execute_result"
    },
    {
     "data": {
      "image/png": "[encoded data removed]",
      "text/plain": [
       "<Figure size 1008x432 with 1 Axes>"
      ]
     },
     "metadata": {
      "needs_background": "light"
     },
     "output_type": "display_data"
    }
   ],
   "source": [
    "plt.figure(figsize=(14,6))\n",
    "x = plt.imread('stacked1/x2.PNG')\n",
    "plt.imshow(x)"
   ]
  },
  {
   "cell_type": "markdown",
   "metadata": {},
   "source": [
    "By removing feature 'Id' models performance is decreased with r2 score of 0.53643"
   ]
  },
  {
   "cell_type": "code",
   "execution_count": 144,
   "metadata": {},
   "outputs": [],
   "source": [
    "from  prettytable import PrettyTable"
   ]
  },
  {
   "cell_type": "code",
   "execution_count": 156,
   "metadata": {},
   "outputs": [],
   "source": [
    "x = PrettyTable()\n",
    "x.field_names = ['S.no','Regressor','meta_regressor','Score']\n",
    "x.add_row(['1','XGB,Lasso,Ridge','XGB','0.54760'])\n",
    "x.add_row(['2','XGB,Lasso,Ridge','XGB','0.54807'])\n",
    "x.add_row(['3','XGB,Random Forest,Ridge','XGB','0.54816'])\n",
    "x.add_row(['4','XGB,Random Forest,Lasso,Ridge','XGB','0.54704'])\n",
    "x.add_row(['5','Linear,Random Forest,Ridge,Lasso','XGB','0.54873'])\n",
    "x.add_row(['6','Linear,Random Forest,SVR,Lasso','XGB','0.54788'])\n",
    "x.add_row(['7','XGB,Random Forest,SVR','XGB','0.54856'])\n",
    "x.add_row(['8','Linear,Random Forest,SVR','XGB','0.54656'])\n",
    "x.add_row(['9','Linear,Random Forest,Lasso','XGB','0.54997'])\n",
    "x.add_row(['10','Linear,Random Forest,Lasso','XGB','0.54883'])\n",
    "x.add_row(['11','XGB','--','0.55341'])\n",
    "x.add_row(['12','XGB','--','0.53634'])"
   ]
  },
  {
   "cell_type": "code",
   "execution_count": 157,
   "metadata": {},
   "outputs": [
    {
     "name": "stdout",
     "output_type": "stream",
     "text": [
      "+------+----------------------------------+----------------+---------+\n",
      "| S.no |            Regressor             | meta_regressor |  Score  |\n",
      "+------+----------------------------------+----------------+---------+\n",
      "|  1   |         XGB,Lasso,Ridge          |      XGB       | 0.54760 |\n",
      "|  2   |         XGB,Lasso,Ridge          |      XGB       | 0.54807 |\n",
      "|  3   |     XGB,Random Forest,Ridge      |      XGB       | 0.54816 |\n",
      "|  4   |  XGB,Random Forest,Lasso,Ridge   |      XGB       | 0.54704 |\n",
      "|  5   | Linear,Random Forest,Ridge,Lasso |      XGB       | 0.54873 |\n",
      "|  6   |  Linear,Random Forest,SVR,Lasso  |      XGB       | 0.54788 |\n",
      "|  7   |      XGB,Random Forest,SVR       |      XGB       | 0.54856 |\n",
      "|  8   |     Linear,Random Forest,SVR     |      XGB       | 0.54656 |\n",
      "|  9   |    Linear,Random Forest,Lasso    |      XGB       | 0.54997 |\n",
      "|  10  |    Linear,Random Forest,Lasso    |      XGB       | 0.54883 |\n",
      "|  11  |               XGB                |       --       | 0.55341 |\n",
      "|  12  |               XGB                |       --       | 0.53634 |\n",
      "+------+----------------------------------+----------------+---------+\n"
     ]
    }
   ],
   "source": [
    "print(x)"
   ]
  },
  {
   "cell_type": "markdown",
   "metadata": {},
   "source": [
    "### Summary:\n",
    "- Used different combinations of regressors in stacked regressions with XGB as meta regressor for every stack using grid search.\n",
    "- Using best estimators predicted the r2 score for every stack\n",
    "- Stack with linear,Random forest and Lasso has best r2 score of 0.54997 \n",
    "- https://www.kaggle.com/c/mercedes-benz-greener-manufacturing/discussion/37700\n",
    "- Suggestions from above link like interaction combinations of features for XGB and also removed feature Id but models performance is not improved\n",
    "- Instead of using stacked models XGB with grid search on top 260 features with targte values less than 200 has best r2 score of 0.55341 which is like top 1% in Private LB\n",
    " "
   ]
  },
  {
   "cell_type": "code",
   "execution_count": null,
   "metadata": {},
   "outputs": [],
   "source": []
  }
 ],
 "metadata": {
  "kernelspec": {
   "display_name": "convenv",
   "language": "python",
   "name": "convenv"
  },
  "language_info": {
   "codemirror_mode": {
    "name": "ipython",
    "version": 3
   },
   "file_extension": ".py",
   "mimetype": "text/x-python",
   "name": "python",
   "nbconvert_exporter": "python",
   "pygments_lexer": "ipython3",
   "version": "3.7.9"
  }
 },
 "nbformat": 4,
 "nbformat_minor": 4
}
