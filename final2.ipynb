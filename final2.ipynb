{
 "cells": [
  {
   "cell_type": "markdown",
   "metadata": {},
   "source": [
    "Final Models"
   ]
  },
  {
   "cell_type": "code",
   "execution_count": 1,
   "metadata": {},
   "outputs": [],
   "source": [
    "import numpy as np\n",
    "from sklearn.preprocessing import LabelEncoder\n",
    "import xgboost as xgb\n",
    "import pandas as pd\n",
    "from sklearn.linear_model import ElasticNetCV, LassoLarsCV\n",
    "from sklearn.ensemble import GradientBoostingRegressor\n",
    "from sklearn.preprocessing import StandardScaler\n",
    "from sklearn.tree import DecisionTreeRegressor\n",
    "from sklearn.decomposition import PCA\n",
    "from sklearn.metrics import r2_score\n",
    "from sklearn.linear_model import LinearRegression\n",
    "from sklearn.svm import SVR\n",
    "from sklearn.tree import DecisionTreeRegressor\n",
    "from sklearn.linear_model import SGDRegressor,Ridge,Lasso\n",
    "import phik\n",
    "from category_encoders import TargetEncoder\n",
    "from sklearn import preprocessing\n",
    "from sklearn.model_selection import GridSearchCV,RandomizedSearchCV\n",
    "import warnings\n",
    "import joblib\n",
    "from sklearn.ensemble import GradientBoostingRegressor,RandomForestRegressor\n",
    "import matplotlib.pyplot as plt\n",
    "from sklearn.model_selection import train_test_split,cross_val_score\n",
    "from mlxtend.regressor import StackingCVRegressor\n",
    "warnings.filterwarnings('ignore')"
   ]
  },
  {
   "cell_type": "markdown",
   "metadata": {},
   "source": [
    "Reading train and test csv files"
   ]
  },
  {
   "cell_type": "code",
   "execution_count": 2,
   "metadata": {},
   "outputs": [],
   "source": [
    "train = pd.read_csv('train.csv')\n",
    "test = pd.read_csv('test.csv')"
   ]
  },
  {
   "cell_type": "markdown",
   "metadata": {},
   "source": [
    "Target variable"
   ]
  },
  {
   "cell_type": "code",
   "execution_count": 3,
   "metadata": {},
   "outputs": [],
   "source": [
    "y = train['y']"
   ]
  },
  {
   "cell_type": "markdown",
   "metadata": {},
   "source": [
    "Corelation matrix of the train data using phik"
   ]
  },
  {
   "cell_type": "code",
   "execution_count": 13,
   "metadata": {},
   "outputs": [
    {
     "name": "stdout",
     "output_type": "stream",
     "text": [
      "interval columns not set, guessing: ['ID', 'y', 'X10', 'X11', 'X12', 'X13', 'X14', 'X15', 'X16', 'X17', 'X18', 'X19', 'X20', 'X21', 'X22', 'X23', 'X24', 'X26', 'X27', 'X28', 'X29', 'X30', 'X31', 'X32', 'X33', 'X34', 'X35', 'X36', 'X37', 'X38', 'X39', 'X40', 'X41', 'X42', 'X43', 'X44', 'X45', 'X46', 'X47', 'X48', 'X49', 'X50', 'X51', 'X52', 'X53', 'X54', 'X55', 'X56', 'X57', 'X58', 'X59', 'X60', 'X61', 'X62', 'X63', 'X64', 'X65', 'X66', 'X67', 'X68', 'X69', 'X70', 'X71', 'X73', 'X74', 'X75', 'X76', 'X77', 'X78', 'X79', 'X80', 'X81', 'X82', 'X83', 'X84', 'X85', 'X86', 'X87', 'X88', 'X89', 'X90', 'X91', 'X92', 'X93', 'X94', 'X95', 'X96', 'X97', 'X98', 'X99', 'X100', 'X101', 'X102', 'X103', 'X104', 'X105', 'X106', 'X107', 'X108', 'X109', 'X110', 'X111', 'X112', 'X113', 'X114', 'X115', 'X116', 'X117', 'X118', 'X119', 'X120', 'X122', 'X123', 'X124', 'X125', 'X126', 'X127', 'X128', 'X129', 'X130', 'X131', 'X132', 'X133', 'X134', 'X135', 'X136', 'X137', 'X138', 'X139', 'X140', 'X141', 'X142', 'X143', 'X144', 'X145', 'X146', 'X147', 'X148', 'X150', 'X151', 'X152', 'X153', 'X154', 'X155', 'X156', 'X157', 'X158', 'X159', 'X160', 'X161', 'X162', 'X163', 'X164', 'X165', 'X166', 'X167', 'X168', 'X169', 'X170', 'X171', 'X172', 'X173', 'X174', 'X175', 'X176', 'X177', 'X178', 'X179', 'X180', 'X181', 'X182', 'X183', 'X184', 'X185', 'X186', 'X187', 'X189', 'X190', 'X191', 'X192', 'X194', 'X195', 'X196', 'X197', 'X198', 'X199', 'X200', 'X201', 'X202', 'X203', 'X204', 'X205', 'X206', 'X207', 'X208', 'X209', 'X210', 'X211', 'X212', 'X213', 'X214', 'X215', 'X216', 'X217', 'X218', 'X219', 'X220', 'X221', 'X222', 'X223', 'X224', 'X225', 'X226', 'X227', 'X228', 'X229', 'X230', 'X231', 'X232', 'X233', 'X234', 'X235', 'X236', 'X237', 'X238', 'X239', 'X240', 'X241', 'X242', 'X243', 'X244', 'X245', 'X246', 'X247', 'X248', 'X249', 'X250', 'X251', 'X252', 'X253', 'X254', 'X255', 'X256', 'X257', 'X258', 'X259', 'X260', 'X261', 'X262', 'X263', 'X264', 'X265', 'X266', 'X267', 'X268', 'X269', 'X270', 'X271', 'X272', 'X273', 'X274', 'X275', 'X276', 'X277', 'X278', 'X279', 'X280', 'X281', 'X282', 'X283', 'X284', 'X285', 'X286', 'X287', 'X288', 'X289', 'X290', 'X291', 'X292', 'X293', 'X294', 'X295', 'X296', 'X297', 'X298', 'X299', 'X300', 'X301', 'X302', 'X304', 'X305', 'X306', 'X307', 'X308', 'X309', 'X310', 'X311', 'X312', 'X313', 'X314', 'X315', 'X316', 'X317', 'X318', 'X319', 'X320', 'X321', 'X322', 'X323', 'X324', 'X325', 'X326', 'X327', 'X328', 'X329', 'X330', 'X331', 'X332', 'X333', 'X334', 'X335', 'X336', 'X337', 'X338', 'X339', 'X340', 'X341', 'X342', 'X343', 'X344', 'X345', 'X346', 'X347', 'X348', 'X349', 'X350', 'X351', 'X352', 'X353', 'X354', 'X355', 'X356', 'X357', 'X358', 'X359', 'X360', 'X361', 'X362', 'X363', 'X364', 'X365', 'X366', 'X367', 'X368', 'X369', 'X370', 'X371', 'X372', 'X373', 'X374', 'X375', 'X376', 'X377', 'X378', 'X379', 'X380', 'X382', 'X383', 'X384', 'X385']\n"
     ]
    }
   ],
   "source": [
    "corelation_mat = train.phik_matrix()"
   ]
  },
  {
   "cell_type": "markdown",
   "metadata": {},
   "source": [
    "Label Encoding  categorical features"
   ]
  },
  {
   "cell_type": "code",
   "execution_count": 9,
   "metadata": {},
   "outputs": [],
   "source": [
    "##Categorical columns\n",
    "cat_columns=[]\n",
    "for i in train.columns:\n",
    "    if train[i].dtype =='O' or train[i].dtype =='float64':\n",
    "        cat_columns.append(i)"
   ]
  },
  {
   "cell_type": "markdown",
   "metadata": {},
   "source": [
    "Label encoding features"
   ]
  },
  {
   "cell_type": "code",
   "execution_count": 10,
   "metadata": {},
   "outputs": [],
   "source": [
    "##Categorical train data\n",
    "##Categorical train data\n",
    "cat_train = train[cat_columns]\n",
    "##Categorical test data\n",
    "cat_columns.remove('y')\n",
    "cat_test = test[cat_columns]\n",
    "\n",
    "##Label encoding categorical features\n",
    "for i in cat_columns:\n",
    "    en = LabelEncoder()\n",
    "    en.fit(list(train[i].values)+list(test[i].values))\n",
    "    joblib.dump(en,'final1/en_'+str(i)+'.pkl')\n",
    "#     cat_test[i] = en.transform(test[i])"
   ]
  },
  {
   "cell_type": "markdown",
   "metadata": {},
   "source": [
    "Binary data"
   ]
  },
  {
   "cell_type": "code",
   "execution_count": 11,
   "metadata": {},
   "outputs": [],
   "source": [
    "##Binary data\n",
    "binary_columns=[]\n",
    "for i in train.columns:\n",
    "    if train[i].dtype =='int64':\n",
    "        binary_columns.append(i)\n",
    "binary_train = train[binary_columns]\n",
    "binary_test = test[binary_columns]"
   ]
  },
  {
   "cell_type": "markdown",
   "metadata": {},
   "source": [
    "Merging encoded and Binary Features"
   ]
  },
  {
   "cell_type": "code",
   "execution_count": 40,
   "metadata": {},
   "outputs": [],
   "source": [
    "X1_train = cat_train.drop('y',axis=1)\n",
    "X1_train = pd.concat((cat_train,binary_train),axis=1)\n",
    "X1_test = pd.concat((cat_test,binary_test),axis=1)"
   ]
  },
  {
   "cell_type": "markdown",
   "metadata": {},
   "source": [
    "XGB on target values less than 200 and top 260 features"
   ]
  },
  {
   "cell_type": "code",
   "execution_count": 272,
   "metadata": {},
   "outputs": [],
   "source": [
    "##Index of data with y values less than 175\n",
    "outlier_index = train[train['y']<175].index"
   ]
  },
  {
   "cell_type": "code",
   "execution_count": 275,
   "metadata": {},
   "outputs": [
    {
     "data": {
      "text/plain": [
       "['final/outlier_index.npz']"
      ]
     },
     "execution_count": 275,
     "metadata": {},
     "output_type": "execute_result"
    }
   ],
   "source": [
    "##saving the index as a array\n",
    "joblib.dump(outlier_index,'final/outlier_index.npz')"
   ]
  },
  {
   "cell_type": "markdown",
   "metadata": {},
   "source": [
    "Final data for training with top features and target values less than 175"
   ]
  },
  {
   "cell_type": "code",
   "execution_count": 16,
   "metadata": {},
   "outputs": [],
   "source": [
    "top_260_features = corelation_mat['y'].sort_values(ascending=False)[0:260]\n",
    "top_260_features=top_260_features.drop('y')\n",
    "X2_test = X1_test[top_260_features.index]\n",
    "X2_train = X1_train.iloc[train[train['y']<175].index]\n",
    "y2 = y[train[train['y']<175].index]\n",
    "X2_train = X2_train[top_260_features.index]"
   ]
  },
  {
   "cell_type": "code",
   "execution_count": 14,
   "metadata": {},
   "outputs": [
    {
     "data": {
      "text/plain": [
       "['final/top_features.npz']"
      ]
     },
     "execution_count": 14,
     "metadata": {},
     "output_type": "execute_result"
    }
   ],
   "source": [
    "##Saving top features as a array\n",
    "joblib.dump(top_features.index,'final/top_features.npz')"
   ]
  },
  {
   "cell_type": "markdown",
   "metadata": {},
   "source": [
    "Parameters for Gridsearch"
   ]
  },
  {
   "cell_type": "code",
   "execution_count": 251,
   "metadata": {},
   "outputs": [],
   "source": [
    "params1={}\n",
    "params1['eta']=[0.06,0.04,0.02]\n",
    "params1['n_estimators']=[250,500,750,1000]\n",
    "params1['max_depth']=[2,4,6,8]\n",
    "# params1['objective'] = ['reg:linear']\n",
    "params1['reg_lambda']=[0,1,2]\n",
    "# params1['interaction_constraints']='[[314,315],[229,339]]'"
   ]
  },
  {
   "cell_type": "markdown",
   "metadata": {},
   "source": [
    "Training"
   ]
  },
  {
   "cell_type": "code",
   "execution_count": 252,
   "metadata": {},
   "outputs": [
    {
     "name": "stdout",
     "output_type": "stream",
     "text": [
      "Fitting 2 folds for each of 144 candidates, totalling 288 fits\n"
     ]
    },
    {
     "name": "stderr",
     "output_type": "stream",
     "text": [
      "[Parallel(n_jobs=-1)]: Using backend LokyBackend with 12 concurrent workers.\n",
      "[Parallel(n_jobs=-1)]: Done  48 tasks      | elapsed:   43.4s\n",
      "[Parallel(n_jobs=-1)]: Done 138 tasks      | elapsed:  2.9min\n",
      "[Parallel(n_jobs=-1)]: Done 264 tasks      | elapsed:  6.1min\n",
      "[Parallel(n_jobs=-1)]: Done 288 out of 288 | elapsed:  7.0min finished\n"
     ]
    },
    {
     "data": {
      "text/plain": [
       "GridSearchCV(cv=2,\n",
       "             estimator=XGBRegressor(base_score=None, booster=None,\n",
       "                                    colsample_bylevel=None,\n",
       "                                    colsample_bynode=None,\n",
       "                                    colsample_bytree=None, gamma=None,\n",
       "                                    gpu_id=None, importance_type='gain',\n",
       "                                    interaction_constraints=None,\n",
       "                                    learning_rate=None, max_delta_step=None,\n",
       "                                    max_depth=None, min_child_weight=None,\n",
       "                                    missing=nan, monotone_constraints=None,\n",
       "                                    n_estimators=100, n_jobs=None,\n",
       "                                    num_parallel_tree=None, random_state=None,\n",
       "                                    reg_alpha=None, reg_lambda=None,\n",
       "                                    scale_pos_weight=None, subsample=None,\n",
       "                                    tree_method=None, validate_parameters=None,\n",
       "                                    verbosity=None),\n",
       "             n_jobs=-1,\n",
       "             param_grid={'eta': [0.06, 0.04, 0.02], 'max_depth': [2, 4, 6, 8],\n",
       "                         'n_estimators': [250, 500, 750, 1000],\n",
       "                         'reg_lambda': [0, 1, 2]},\n",
       "             scoring='r2', verbose=5)"
      ]
     },
     "execution_count": 252,
     "metadata": {},
     "output_type": "execute_result"
    }
   ],
   "source": [
    "clf = xgb.XGBRegressor(objective='reg:squarederror',)\n",
    "grid3 = GridSearchCV(clf,params1,scoring='r2',cv=2,n_jobs=-1,verbose=5)\n",
    "grid3.fit(X2_train.values,y2)"
   ]
  },
  {
   "cell_type": "markdown",
   "metadata": {},
   "source": [
    "Saving the best model"
   ]
  },
  {
   "cell_type": "code",
   "execution_count": 254,
   "metadata": {},
   "outputs": [
    {
     "data": {
      "text/plain": [
       "['final/best_model1.pkl']"
      ]
     },
     "execution_count": 254,
     "metadata": {},
     "output_type": "execute_result"
    }
   ],
   "source": [
    "joblib.dump(grid3,'final/best_model1.pkl')"
   ]
  },
  {
   "cell_type": "markdown",
   "metadata": {},
   "source": [
    "Submitting to kaggle "
   ]
  },
  {
   "cell_type": "code",
   "execution_count": 182,
   "metadata": {},
   "outputs": [],
   "source": [
    "best2 = grid3.best_estimator_\n",
    "pred = best2.predict(X2_test)\n",
    "prediction = pd.DataFrame()\n",
    "prediction['ID'] = test['ID']\n",
    "prediction['y'] = pred\n",
    "prediction.to_csv('stacked1/x1.csv',index=False)"
   ]
  },
  {
   "cell_type": "code",
   "execution_count": 4,
   "metadata": {},
   "outputs": [
    {
     "data": {
      "text/plain": [
       "<matplotlib.image.AxesImage at 0x18639e3dc48>"
      ]
     },
     "execution_count": 4,
     "metadata": {},
     "output_type": "execute_result"
    },
    {
     "data": {
      "image/png": "[encoded data removed]",
      "text/plain": [
       "<Figure size 1008x432 with 1 Axes>"
      ]
     },
     "metadata": {
      "needs_background": "light"
     },
     "output_type": "display_data"
    }
   ],
   "source": [
    "plt.figure(figsize=(14,6))\n",
    "x = plt.imread('stacked1/x1.PNG')\n",
    "plt.imshow(x)"
   ]
  },
  {
   "cell_type": "markdown",
   "metadata": {},
   "source": [
    "Using XGB with grid search on data with target values less than 200 and selecting top 260 features model has r2 score of 0.55341 which is like top 1% in leaderboard . so using this model as the final model"
   ]
  },
  {
   "cell_type": "markdown",
   "metadata": {},
   "source": [
    "#### Final function 1 -- Prediting time taken"
   ]
  },
  {
   "cell_type": "code",
   "execution_count": 4,
   "metadata": {},
   "outputs": [],
   "source": [
    "def final1(data):\n",
    "    \"\"\"Given data frame or a single data point it returns\n",
    "        the time taken to complete the testing phase of a \n",
    "        car configuration.\"\"\"\n",
    "    ##loading the top features\n",
    "    best_features = joblib.load('final/top_features.npz')\n",
    "    \n",
    "    ##Loading the model\n",
    "    best_model = joblib.load('final/best_model1.pkl')\n",
    "    \n",
    "    ##for a single data point\n",
    "    if len(data.shape) == 1:\n",
    "        ##Categorical columns\n",
    "        cat_col = []\n",
    "        ##Binary columns\n",
    "        bin_col = []\n",
    "        ##Dataframe to store processed data\n",
    "        t = pd.DataFrame()\n",
    "        \n",
    "        ## Splitting Categorical and binary features\n",
    "        for i in data.index:\n",
    "            if type(data[i]) == str:\n",
    "                cat_col.append(i)\n",
    "            if type(data[i]) == np.int64:\n",
    "                bin_col.append(i)\n",
    "                \n",
    "        ##Encoding categorical features with that particular encoder\n",
    "        for i in cat_col:\n",
    "            en = joblib.load('final1/en_'+str(i)+'.pkl')\n",
    "            t[i]=en.transform(np.array(test[i].iloc[0]).reshape(1,-1))\n",
    "            \n",
    "        ##Merging binary data to the preprocessed data frame\n",
    "        t[data[bin_col].index] = data[bin_col].values\n",
    "        total_data = t\n",
    "        \n",
    "        ##Final data with selected features\n",
    "        final_data = total_data[best_features]\n",
    "        \n",
    "        ##Predicing \n",
    "        pred = best_model.predict(final_data.values[0].reshape(1,-1))\n",
    "        \n",
    "        return pred[0]\n",
    "    \n",
    "    \n",
    "    ##For a set of points or dataframe\n",
    "    if len(data) > 1:\n",
    "        ##Categorical columns\n",
    "        cat_col = []\n",
    "        ##Binary columns\n",
    "        bin_col = []\n",
    "        \n",
    "        ## Splitting Categorical and binary features\n",
    "        for i in data.columns:\n",
    "            if data[i].dtype == 'O':\n",
    "                cat_col.append(i)\n",
    "            if data[i].dtype =='int64':\n",
    "                bin_col.append(i)\n",
    "                \n",
    "        ##Encoding categorical features with its encoder\n",
    "        cat_data=pd.DataFrame()\n",
    "        for i in cat_col:\n",
    "            en = joblib.load('final/en_'+str(i)+'.pkl')\n",
    "            cat_data[i] = en.transform(data[i])\n",
    "        \n",
    "        ##Merging encoded features with binary features\n",
    "        total_data = pd.concat((cat_data,data[bin_col]),axis=1)\n",
    "        \n",
    "        ##Final data with selected features\n",
    "        final_data = total_data[best_features]\n",
    "        \n",
    "        ##Predicting\n",
    "        pred = best_model.predict(final_data.values)\n",
    "        \n",
    "        return pred"
   ]
  },
  {
   "cell_type": "markdown",
   "metadata": {},
   "source": [
    "Predicing the time taken on a random data point from test data"
   ]
  },
  {
   "cell_type": "code",
   "execution_count": 17,
   "metadata": {},
   "outputs": [
    {
     "data": {
      "text/plain": [
       "86.06186"
      ]
     },
     "execution_count": 17,
     "metadata": {},
     "output_type": "execute_result"
    }
   ],
   "source": [
    "final(test.iloc[2])"
   ]
  },
  {
   "cell_type": "markdown",
   "metadata": {},
   "source": [
    "Predicting the time taken on test data"
   ]
  },
  {
   "cell_type": "code",
   "execution_count": 6,
   "metadata": {},
   "outputs": [
    {
     "data": {
      "text/plain": [
       "array([ 86.11172 , 102.25736 ,  86.23851 , ...,  92.475975, 110.74211 ,\n",
       "        91.966866], dtype=float32)"
      ]
     },
     "execution_count": 6,
     "metadata": {},
     "output_type": "execute_result"
    }
   ],
   "source": [
    "final(test)"
   ]
  },
  {
   "cell_type": "markdown",
   "metadata": {},
   "source": [
    "#### Final funtion 2 -- Predicting metrics"
   ]
  },
  {
   "cell_type": "code",
   "execution_count": 7,
   "metadata": {},
   "outputs": [],
   "source": [
    "def final2(data,target):\n",
    "    \"\"\"Given data and target it returns the R2 score \"\"\"\n",
    "    \n",
    "    ##Loading top features\n",
    "    best_features = joblib.load('final/top_features.npz')\n",
    "    \n",
    "    ##Loading the model\n",
    "    best_model = joblib.load('final/best_model1.pkl')\n",
    "    \n",
    "    ##Removing the outliers\n",
    "    outlier_index = joblib.load('final/outlier_index.npz')\n",
    "    data1 = data.iloc[outlier_index]\n",
    "    target1 = target.iloc[outlier_index]\n",
    "    \n",
    "    ##Categorical columns\n",
    "    cat_col = []\n",
    "    \n",
    "    ##Binary features\n",
    "    bin_col = []\n",
    "    \n",
    "    ##Splitting categorical and binary features\n",
    "    for i in data1.columns:\n",
    "        if data1[i].dtype == 'O':\n",
    "            cat_col.append(i)\n",
    "        if data1[i].dtype =='int64':\n",
    "            bin_col.append(i)\n",
    "            \n",
    "    ##Data frame to store processed data\n",
    "    t = pd.DataFrame()\n",
    "    \n",
    "    ##Encoding categorical features with its encoder\n",
    "    for i in cat_col:\n",
    "        en = joblib.load('final1/en_'+str(i)+'.pkl')\n",
    "        t[i] = en.transform(data1[i])\n",
    "    \n",
    "    ##Merging encoded features with binary features\n",
    "    total_data = pd.concat((t,data1[bin_col]),axis=1)\n",
    "    \n",
    "    ##Final data with top selected features\n",
    "    final_data = total_data[best_features]\n",
    "    \n",
    "    ##Prediciting\n",
    "    pred = best_model.predict(final_data.values)\n",
    "    \n",
    "    ##Measuring metric value (r2)\n",
    "    score  = r2_score(target,pred)\n",
    "    \n",
    "    return score\n"
   ]
  },
  {
   "cell_type": "markdown",
   "metadata": {},
   "source": [
    "Given train data and target values predicting the r2 metric"
   ]
  },
  {
   "cell_type": "code",
   "execution_count": 8,
   "metadata": {},
   "outputs": [
    {
     "data": {
      "text/plain": [
       "0.5938214501006536"
      ]
     },
     "execution_count": 8,
     "metadata": {},
     "output_type": "execute_result"
    }
   ],
   "source": [
    "final2(train,y)"
   ]
  },
  {
   "cell_type": "markdown",
   "metadata": {},
   "source": [
    "### Summary:\n",
    "- Used different combinations of regressors in stacked regressions with XGB as meta regressor for every stack using grid search.\n",
    "- Using best estimators predicted the r2 score for every stack\n",
    "- Instead of using stacked models XGB with grid search on top 260 features with target values less than 200 has best r2 score of 0.55341 which is like top 1% in Private LB\n",
    "- So used this XGB model with best parameters as final model "
   ]
  }
 ],
 "metadata": {
  "kernelspec": {
   "display_name": "convenv",
   "language": "python",
   "name": "convenv"
  },
  "language_info": {
   "codemirror_mode": {
    "name": "ipython",
    "version": 3
   },
   "file_extension": ".py",
   "mimetype": "text/x-python",
   "name": "python",
   "nbconvert_exporter": "python",
   "pygments_lexer": "ipython3",
   "version": "3.7.9"
  }
 },
 "nbformat": 4,
 "nbformat_minor": 4
}
